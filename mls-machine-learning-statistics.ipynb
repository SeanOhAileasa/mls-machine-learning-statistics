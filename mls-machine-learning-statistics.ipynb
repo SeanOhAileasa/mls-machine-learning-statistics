{
 "cells": [
  {
   "cell_type": "code",
   "execution_count": null,
   "id": "883dea38",
   "metadata": {},
   "outputs": [
    {
     "data": {
      "text/html": [
       "<script>Jupyter.notebook.kernel.restart()</script>"
      ]
     },
     "metadata": {},
     "output_type": "display_data"
    }
   ],
   "source": [
    "from IPython.core.display import display_html\n",
    "display_html(\"<script>Jupyter.notebook.kernel.restart()</script>\",raw=True)"
   ]
  },
  {
   "cell_type": "code",
   "execution_count": 1,
   "id": "5e8fb4e0",
   "metadata": {},
   "outputs": [
    {
     "data": {
      "text/html": [
       "<style>.container { width:100% !important; }</style>"
      ],
      "text/plain": [
       "<IPython.core.display.HTML object>"
      ]
     },
     "metadata": {},
     "output_type": "display_data"
    },
    {
     "data": {
      "text/html": [
       "<style>.container { width:100% !important; }</style>"
      ],
      "text/plain": [
       "<IPython.core.display.HTML object>"
      ]
     },
     "metadata": {},
     "output_type": "display_data"
    }
   ],
   "source": [
    "from sys import path; path.insert(1,\"../src\");\n",
    "import fubar; from importlib import reload; reload(fubar);"
   ]
  },
  {
   "cell_type": "markdown",
   "id": "80902921",
   "metadata": {},
   "source": [
    "***\n",
    "< [GMIT Data Analytics](https://web.archive.org/web/20201029063153/https://www.gmit.ie/computer-science-and-applied-physics/higher-diploma-science-computing-data-analytics-ict) | [Home](https://github.com/SeanOhAileasa) | [README](https://github.com/SeanOhAileasa/mls-machine-learning-statistics/blob/main/README.md) >\n",
    "\n",
    "[![GMIT](https://github.com/SeanOhAileasa/SeanOhAileasa/blob/master/rc/gmit.png?raw=true)](https://web.archive.org/web/20201029063153/https://www.gmit.ie/computer-science-and-applied-physics/higher-diploma-science-computing-data-analytics-ict)\n",
    "\n",
    "## Machine Learning & Statistics - Course Material 2021\n",
    "### Topic: [Machine Learning & Statistics](https://nbviewer.jupyter.org/github/SeanOhAileasa/mls-machine-learning-statistics/blob/main/mls-machine-learning-statistics.ipynb)\n",
    "***"
   ]
  },
  {
   "cell_type": "markdown",
   "id": "a9fc651d",
   "metadata": {},
   "source": [
    "Course material for the ``Machine Learning & Statistics`` module (5 Credits) of the ``Higher Diploma in Science in Computing (Data Analytics) (H.Dip)`` programme (75 Credits) at **Galway-Mayo Institute of Technology (GMIT)**. In preparation reviewing/studying the course material for the completed ``Fundamentals of Data Analysis`` and ``Programming for Data Analysis`` modules."
   ]
  },
  {
   "cell_type": "code",
   "execution_count": 2,
   "id": "f05571c9",
   "metadata": {},
   "outputs": [],
   "source": [
    "from sys import path; path.insert(1,\"../src\")\n",
    "from fubar import fFile"
   ]
  },
  {
   "cell_type": "code",
   "execution_count": 3,
   "id": "18daad01",
   "metadata": {},
   "outputs": [
    {
     "name": "stdout",
     "output_type": "stream",
     "text": [
      "# repository ./SeanOhAileasa\r\n",
      "def fFile(nParPath):\r\n",
      "    \"\"\"Start a file with its associated application.\r\n",
      "\r\n",
      "Input: nParPath\r\n",
      "Process: (os.path.realpath; os.startfile)\r\n",
      "Output: file opened with associated application\r\n",
      "\"\"\"\r\n",
      "    from os import path,startfile\r\n",
      "    return startfile(path.realpath(nParPath))\r\n",
      "# --- END ---\r\n"
     ]
    }
   ],
   "source": [
    "%%script bash\n",
    "grep -1 \"def fFile\" ../src/fubar.py -A 9"
   ]
  },
  {
   "cell_type": "markdown",
   "id": "ca7aaffc",
   "metadata": {},
   "source": [
    "<a id=\"top\"></a>\n",
    "***\n",
    "## Table of Contents\n",
    "***"
   ]
  },
  {
   "cell_type": "markdown",
   "id": "aff4b549",
   "metadata": {},
   "source": [
    "## [Acronym](#top)\n",
    "\n",
    "- &#x1F4CC; Work-in-Progress (WIP)"
   ]
  },
  {
   "cell_type": "markdown",
   "id": "706f435d",
   "metadata": {},
   "source": [
    "<hr width=50%;>"
   ]
  },
  {
   "cell_type": "markdown",
   "id": "3cb58a69",
   "metadata": {},
   "source": [
    "## [Abstract](#abstract)\n",
    "\n",
    "- [Description](#description) <br/><br/>\n",
    "- [Learning Outcomes](#learningOutcomes) <br/><br/>\n",
    "- [Topic Roadmap](#topicRoadmap)"
   ]
  },
  {
   "cell_type": "markdown",
   "id": "5c89d3ff",
   "metadata": {},
   "source": [
    "<hr width=50%;>"
   ]
  },
  {
   "cell_type": "markdown",
   "id": "a582d272",
   "metadata": {},
   "source": [
    "### Fundamentals (Programming) - Data Analysis\n",
    "***"
   ]
  },
  {
   "cell_type": "markdown",
   "id": "4e69317c",
   "metadata": {},
   "source": [
    "``Fundamentals of Data Analysis`` (5 credits) and ``Programming for Data Analysis`` (10 Credits) modules of the ``H.Dip`` at **GMIT**."
   ]
  },
  {
   "cell_type": "markdown",
   "id": "8d2fee34",
   "metadata": {},
   "source": [
    "### Data\n",
    "***\n",
    "\n",
    "* [Data](#data) <br/><br/>\n",
    "    * [On the Theory of Scales of Measurement by S. S. Stevens](https://nbviewer.jupyter.org/github/SeanOhAileasa/fda-data/blob/main/fda-data.ipynb) **[External Link]** <br/><br/>\n",
    "        * [Abstract](https://nbviewer.jupyter.org/github/SeanOhAileasa/fda-data/blob/main/fda-data.ipynb#abstract) **[External Link]** <br/><br/>\n",
    "        * [Introduction](https://nbviewer.jupyter.org/github/SeanOhAileasa/fda-data/blob/main/fda-data.ipynb#introduction) **[External Link]** <br/><br/>\n",
    "        * [Solution](https://nbviewer.jupyter.org/github/SeanOhAileasa/fda-data/blob/main/fda-data.ipynb#solution) **[External Link]** <br/><br/>\n",
    "            * [Measurement vs Category](https://nbviewer.jupyter.org/github/SeanOhAileasa/fda-data/blob/main/fda-data.ipynb#measurement-vs-category) **[External Link]** <br/><br/>\n",
    "                * [Nominal - Categorical](https://nbviewer.jupyter.org/github/SeanOhAileasa/fda-data/blob/main/fda-data.ipynb#nominal-categorical) **[External Link]** <br/><br/>\n",
    "                * [Ordinal - Categorical](https://nbviewer.jupyter.org/github/SeanOhAileasa/fda-data/blob/main/fda-data.ipynb#ordinal-categorical) **[External Link]** <br/><br/>\n",
    "                * [Interval](https://nbviewer.jupyter.org/github/SeanOhAileasa/fda-data/blob/main/fda-data.ipynb#interval) **[External Link]** <br/><br/>\n",
    "                * [Ratio](https://nbviewer.jupyter.org/github/SeanOhAileasa/fda-data/blob/main/fda-data.ipynb#ratio) **[External Link]** <br/><br/>\n",
    "        * [Conclusion](https://nbviewer.jupyter.org/github/SeanOhAileasa/fda-data/blob/main/fda-data.ipynb#conclusion) **[External Link]** <br/><br/>\n",
    "    * **END** <br/><br/>\n",
    "    * [Types](https://nbviewer.jupyter.org/github/SeanOhAileasa/fda-types/blob/main/fda-types.ipynb) **[External Link]** <br/><br/>\n",
    "        * [Abstract](https://nbviewer.jupyter.org/github/SeanOhAileasa/fda-types/blob/main/fda-types.ipynb#abstract) **[External Link]** <br/><br/>\n",
    "        * [Introduction](https://nbviewer.jupyter.org/github/SeanOhAileasa/fda-types/blob/main/fda-types.ipynb#introduction) **[External Link]** <br/><br/>\n",
    "        * [Solution](https://nbviewer.jupyter.org/github/SeanOhAileasa/fda-types/blob/main/fda-types.ipynb#solution) **[External Link]** <br/><br/>\n",
    "            * [Integer](https://nbviewer.jupyter.org/github/SeanOhAileasa/fda-types/blob/main/fda-types.ipynb#integer) **[External Link]** <br/><br/>\n",
    "            * [Float](https://nbviewer.jupyter.org/github/SeanOhAileasa/fda-types/blob/main/fda-types.ipynb#float) **[External Link]** <br/><br/>\n",
    "            * [String](https://nbviewer.jupyter.org/github/SeanOhAileasa/fda-types/blob/main/fda-types.ipynb#string) **[External Link]** <br/><br/>\n",
    "            * [``type``](https://nbviewer.jupyter.org/github/SeanOhAileasa/fda-types/blob/main/fda-types.ipynb#type) **[External Link]** <br/><br/>\n",
    "            * [``bin``](https://nbviewer.jupyter.org/github/SeanOhAileasa/fda-types/blob/main/fda-types.ipynb#binary-representation) **[External Link]** <br/><br/>\n",
    "                * [``struct``](https://nbviewer.jupyter.org/github/SeanOhAileasa/fda-types/blob/main/fda-types.ipynb#binaryRepresentationstruct) **[External Link]** <br/><br/>\n",
    "                    * [``unpack``](https://nbviewer.jupyter.org/github/SeanOhAileasa/fda-types/blob/main/fda-types.ipynb#binaryRepresentationstructunpackpack) **[External Link]** <br/><br/>\n",
    "                    * [``pack``](https://nbviewer.jupyter.org/github/SeanOhAileasa/fda-types/blob/main/fda-types.ipynb#binaryRepresentationstructunpackpack) **[External Link]** <br/><br/>\n",
    "                * [``join``](https://nbviewer.jupyter.org/github/SeanOhAileasa/fda-types/blob/main/fda-types.ipynb#binaryRepresentationstructunpackpackjoin) (&#8594; ``bin``) **[External Link]** <br/><br/>\n",
    "                * [``map``](https://nbviewer.jupyter.org/github/SeanOhAileasa/fda-types/blob/main/fda-types.ipynb#binaryRepresentationstructunpackpackjoin) **[External Link]** <br/><br/>\n",
    "                * [``bytearray``](https://nbviewer.jupyter.org/github/SeanOhAileasa/fda-types/blob/main/fda-types.ipynb#binaryRepresentationstructunpackpackjoin) **[External Link]** <br/><br/>\n",
    "        * [Conclusion](https://nbviewer.jupyter.org/github/SeanOhAileasa/fda-types/blob/main/fda-types.ipynb#conclusion) **[External Link]** <br/><br/>\n",
    "    * **END** <br/><br/>        \n",
    "    * $\\mathbb{N}$ [Counting](#dataCounting) <br/><br/>\n",
    "        * [Discrete](#dataCountingDiscrete) <br/><br/>\n",
    "        * [Infinity](#dataCountingInfinity) <br/><br/>\n",
    "            * [Sets](#dataCountingSets) <br/><br/>\n",
    "                * [Binary](#dataCountingSetsBinary) <br/><br/>\n",
    "    * $\\mathbb{R}$ [Measuring](#dataMeasuring) <br/><br/>\n",
    "        * [Continuous](#dataMeasuringContinuous) <br/><br/>\n",
    "            * [$\\sqrt{2}$](#dataMeasuringContinuoussqrt2) <br/><br/>\n",
    "                * [Irrational](#dataMeasuringContinuoussqrt2Irrational) <br/><br/>\n",
    "    * [$\\mathbb{N} \\leftrightarrow \\mathbb{R}$](#dataCountingCorrespondenceMeasuring)"
   ]
  },
  {
   "cell_type": "markdown",
   "id": "8f9c4526",
   "metadata": {},
   "source": [
    "<hr width=50%;>"
   ]
  },
  {
   "cell_type": "markdown",
   "id": "5147b9b3",
   "metadata": {},
   "source": [
    "### Datasets\n",
    "***\n",
    "\n",
    "* [Datasets](#datasets) <br/><br/>\n",
    "    * [Abstract](https://nbviewer.jupyter.org/github/SeanOhAileasa/fda-datasets/blob/main/fda-datasets.ipynb#abstract) **[External Link]** <br/><br/>\n",
    "    * [Introduction](https://nbviewer.jupyter.org/github/SeanOhAileasa/fda-datasets/blob/main/fda-datasets.ipynb#introduction) **[External Link]** <br/><br/>\n",
    "        * [``csv``](https://nbviewer.jupyter.org/github/SeanOhAileasa/fda-datasets/blob/main/fda-datasets.ipynb#introductionCommaSeparatedValues) **[External Link]** <br/><br/>\n",
    "            * [Caveats](https://nbviewer.jupyter.org/github/SeanOhAileasa/fda-datasets/blob/main/fda-datasets.ipynb#introductionCommaSeparatedValuesCaveats) **[External Link]** <br/><br/>\n",
    "            * [Benefits](https://nbviewer.jupyter.org/github/SeanOhAileasa/fda-datasets/blob/main/fda-datasets.ipynb#introductionCommaSeparatedValuesBenefits) **[External Link]** <br/><br/>\n",
    "                * [Drawback](https://nbviewer.jupyter.org/github/SeanOhAileasa/fda-datasets/blob/main/fda-datasets.ipynb#introductionCommaSeparatedValuesDrawback) **[External Link]** <br/><br/>\n",
    "        * [``R``](https://nbviewer.jupyter.org/github/SeanOhAileasa/fda-datasets/blob/main/fda-datasets.ipynb#r) **[External Link]** <br/><br/>\n",
    "            * [Dataset](https://nbviewer.jupyter.org/github/SeanOhAileasa/fda-datasets/blob/main/fda-datasets.ipynb#rDatasets) **[External Link]** <br/><br/>\n",
    "        * [UC Irvine](https://nbviewer.jupyter.org/github/SeanOhAileasa/fda-datasets/blob/main/fda-datasets.ipynb#ucIrvine) **[External Link]** <br/><br/>\n",
    "            * [Dataset](https://nbviewer.jupyter.org/github/SeanOhAileasa/fda-datasets/blob/main/fda-datasets.ipynb#ucIrvineDataset) **[External Link]** <br/><br/>\n",
    "        * [``Pandas``](https://nbviewer.jupyter.org/github/SeanOhAileasa/fda-datasets/blob/main/fda-datasets.ipynb#solutionPandas) **[External Link]** <br/><br/>\n",
    "            * [``read_csv``](https://nbviewer.jupyter.org/github/SeanOhAileasa/fda-datasets/blob/main/fda-datasets.ipynb#solutionPandasreadcsv) **[External Link]** <br/><br/>\n",
    "        * [``seaborn``](https://nbviewer.jupyter.org/github/SeanOhAileasa/fda-datasets/blob/main/fda-datasets.ipynb#solutionPandasInvestigation) **[External Link]** <br/><br/>\n",
    "            * [``pairplot``](https://nbviewer.jupyter.org/github/SeanOhAileasa/fda-datasets/blob/main/fda-datasets.ipynb#solutionPandasseabornpairplot) **[External Link]** <br/><br/>\n",
    "            * [``PairGrid``](https://nbviewer.jupyter.org/github/SeanOhAileasa/fda-datasets/blob/main/fda-datasets.ipynb#solutionPandasseabornPairGrid) **[External Link]** <br/><br/>\n",
    "            * [``kdeplot``](https://nbviewer.jupyter.org/github/SeanOhAileasa/fda-datasets/blob/main/fda-datasets.ipynb#solutionPandasInvestigationKernelDensity) **[External Link]** <br/><br/>\n",
    "                * [``displot`` / ``histplot``](https://nbviewer.jupyter.org/github/SeanOhAileasa/fda-datasets/blob/main/fda-datasets.ipynb#solutionPandasInvestigationdisplothistplot) **[External Link]** <br/><br/>\n",
    "    * [Conclusion](https://nbviewer.jupyter.org/github/SeanOhAileasa/fda-datasets/blob/main/fda-datasets.ipynb#conclusion) &#x1F6A7; **[External Link]** <br/><br/>\n",
    "* **END**"
   ]
  },
  {
   "cell_type": "markdown",
   "id": "1457bbdf",
   "metadata": {},
   "source": [
    "<hr width=50%;>"
   ]
  },
  {
   "cell_type": "markdown",
   "id": "05109e94",
   "metadata": {},
   "source": [
    "### Simulation\n",
    "***\n",
    "\n",
    "* [Simulation](#fdaSimulation) <br/><br/>\n",
    "    * [Abstract](https://nbviewer.jupyter.org/github/SeanOhAileasa/fda-simulation/blob/main/fda-simulation.ipynb#abstract) **[External Link]** <br/><br/>\n",
    "    * [Introduction](https://nbviewer.jupyter.org/github/SeanOhAileasa/fda-simulation/blob/main/fda-simulation.ipynb#introduction) **[External Link]** <br/><br/>\n",
    "    * [Solution](https://nbviewer.jupyter.org/github/SeanOhAileasa/fda-simulation/blob/main/fda-simulation.ipynb#solution) **[External Link]** <br/><br/>\n",
    "        * [Wind](https://nbviewer.jupyter.org/github/SeanOhAileasa/fda-simulation/blob/main/fda-simulation.ipynb#fdaSimulationSolutionWind) $(u)$ **[External Link]** <br/><br/>\n",
    "            * [Simulate](https://nbviewer.jupyter.org/github/SeanOhAileasa/fda-simulation/blob/main/fda-simulation.ipynb#fdaSimulationSolutionWindSimulate) **[External Link]** <br/><br/>\n",
    "                * [``numpy``](https://nbviewer.jupyter.org/github/SeanOhAileasa/fda-simulation/blob/main/fda-simulation.ipynb#fdaSimulationSolutionnumpy) **[External Link]** <br/><br/>\n",
    "                    * [``linspace``](https://nbviewer.jupyter.org/github/SeanOhAileasa/fda-simulation/blob/main/fda-simulation.ipynb#fdaSimulationSolutionnumpylinspace) **[External Link]** <br/><br/>\n",
    "        * [Power](https://nbviewer.jupyter.org/github/SeanOhAileasa/fda-simulation/blob/main/fda-simulation.ipynb#fdaSimulationSolutionPower) $(P)$ **[External Link]** <br/><br/>\n",
    "            * [``numpy``](https://nbviewer.jupyter.org/github/SeanOhAileasa/fda-simulation/blob/main/fda-simulation.ipynb#fdaSimulationSolutionPowernumpy) &#x1F6A7; (&#8594; Wind $(u)$ &#8594; Simulate) **[External Link]** <br/><br/>\n",
    "                * [``exp``](https://nbviewer.jupyter.org/github/SeanOhAileasa/fda-simulation/blob/main/fda-simulation.ipynb#fdaSimulationSolutionPowernumpyexp) **[External Link]** <br/><br/>\n",
    "        * [Dataset](https://nbviewer.jupyter.org/github/SeanOhAileasa/fda-simulation/blob/main/fda-simulation.ipynb#fdaSimulationSolutionPu) $P(u)$ **[External Link]** <br/><br/>\n",
    "            * [``pandas``](https://nbviewer.jupyter.org/github/SeanOhAileasa/fda-simulation/blob/main/fda-simulation.ipynb#fdaSimulationSolutionWindPandas) **[External Link]** <br/><br/>\n",
    "                * [``DataFrame``](https://nbviewer.jupyter.org/github/SeanOhAileasa/fda-simulation/blob/main/fda-simulation.ipynb#fdaSimulationSolutionWindPandasDataFrame) **[External Link]** <br/><br/>\n",
    "    * [Conclusion](https://nbviewer.jupyter.org/github/SeanOhAileasa/fda-simulation/blob/main/fda-simulation.ipynb#conclusion) **[External Link]** <br/><br/>\n",
    "        * [Plot](https://nbviewer.jupyter.org/github/SeanOhAileasa/fda-simulation/blob/main/fda-simulation.ipynb#fdaSimulationConclusionPlot) **[External Link]** <br/><br/>\n",
    "            * [``seaborn``](https://nbviewer.jupyter.org/github/SeanOhAileasa/fda-simulation/blob/main/fda-simulation.ipynb#fdaSimulationConclusionPlotseaborn) **[External Link]** <br/><br/>\n",
    "                * [``scatterplot``](https://nbviewer.jupyter.org/github/SeanOhAileasa/fda-simulation/blob/main/fda-simulation.ipynb#fdaSimulationConclusionPlotseabornscatterplot) **[External Link]** <br/><br/>\n",
    "* **END** <br/><br/>\n",
    "* [Variables](#fdaSimulationxy) $x$ $y$ <br/><br/>\n",
    "    * [``numpy``](#fdaSimulationRealWorldnumpy)<br/><br/>\n",
    "        * [``linspace``](#fdaSimulationRealWorldnumpylinspace)<br/><br/>\n",
    "    * [``seaborn``](#fdaSimulationRealWorldseaborn) <br/><br/>\n",
    "        * [``relplot``](#fdaSimulationRealWorldseabornrelplot) (&#8594; Variables $x$ $y$ &#8594; ``numpy`` &#8594; ``linspace``) <br/><br/>\n",
    "\n",
    "\n",
    "* [Noise](#fdaSimulationNoise) <br/><br/>\n",
    "    * [``numpy``](#fdaSimulationNoisenumpy) &#x1F6A7; (&#8594; Variables $x$ $y$) <br/><br/>\n",
    "        * [``random``](#fdaSimulationNoisenumpyrandom) <br/><br/>\n",
    "            * [``normal``](#fdaSimulationNoisenumpyrandomnormal) (&#8594; Variables $x$ $y$ &#8594; ``numpy`` &#8594; ``linspace``) (&#8594; Variables $x$ $y$ &#8594; ``seaborn`` &#8594; ``relplot``)"
   ]
  },
  {
   "cell_type": "markdown",
   "id": "44f8410b",
   "metadata": {},
   "source": [
    "<hr width=50%;>"
   ]
  },
  {
   "cell_type": "markdown",
   "id": "7083a890",
   "metadata": {},
   "source": [
    "### Plots\n",
    "***\n",
    "\n",
    "* [Plots](#fdaPlots) <br/><br/>\n",
    "    * [``matplotlib``](#fdaPlotsmatplotlib) (&#8594; ``matplotlib`` &#8594; ``pyplot`` &#8594; ``plot``) <br/><br/>     \n",
    "        * [``pyplot``](#fdaPlotsmatplotlibpyplot) <br/><br/>\n",
    "            * [``figure``](#fdaPlotsmatplotlibpyplotfigure) <br/><br/>\n",
    "            * [``plot``](#fdaPlotsmatplotlibpyplotplot) (&#8594; ``matplotlib``) <br/><br/>\n",
    "            * [``legend``](#fdaPlotsmatplotlibpyplotlegend) (&#8594; ``matplotlib`` &#8594; ``pyplot`` &#8594; ``plot``) <br/><br/>  \n",
    "            * [Atomic](#fdaPlotsmatplotlibpyplotAtomic) (&#8594; ``matplotlib`` &#8594; ``pyplot``) <br/><br/>\n",
    "                * [``subplots``](#fdaPlotsmatplotlibpyplotAtomicsubplots) (&#8594; ``matplotlib`` &#8594; ``pyplot`` &#8594; Atomic) <br/><br/>\n",
    "            * [Aesthetics](#fdaPlotsseabornAesthetics) <br/><br/>\n",
    "                * [``style``](#fdaPlotsseabornAestheticsstyle) <br/><br/>\n",
    "                    * [``use``](#fdaPlotsseabornAestheticsstyleuse) (&#8594; ``matplotlib`` &#8594; ``pyplot``) <br/><br/>          \n",
    "                        * [``ggplot``](#fdaPlotsseabornAestheticsggplot) (&#8594; ``matplotlib`` &#8594; ``pyplot`` &#8594; Atomic &#8594; ``subplots``) <br/><br/>\n",
    "                    \n",
    "    * [``seaborn``](#fdaPlotsseaborn) (&#8594; Plots &#8594; ``matplotlib``) <br/><br/>\n",
    "        * [``load_dataset``](#fdaPlotsseabornloaddataset) (&#8594; Plots &#8594; ``seaborn``) <br/><br/>\n",
    "        * [Statistical Relationships](https://seaborn.pydata.org/tutorial/relational.html) **[External Link]** <br/><br/>   \n",
    "        * [Distributions of Data](https://seaborn.pydata.org/tutorial/distributions.html) **[External Link]** <br/><br/>\n",
    "        * [Categorical Data](https://seaborn.pydata.org/tutorial/categorical.html) **[External Link]** <br/><br/>\n",
    "        * [Regression Models](https://seaborn.pydata.org/tutorial/regression.html) **[External Link]** <br/><br/>\n",
    "        * [Multi-plot Grids](#fdaPlotsseabornMultiplotGrids) <br/><br/>"
   ]
  },
  {
   "cell_type": "markdown",
   "id": "30b36856",
   "metadata": {},
   "source": [
    "<hr width=50%;> "
   ]
  },
  {
   "cell_type": "markdown",
   "id": "5475e615",
   "metadata": {},
   "source": [
    "### Functions\n",
    "***\n",
    "\n",
    "* [Functions](#dataFunctions) <br/><br/>\n",
    "    * [Abstract](https://nbviewer.jupyter.org/github/SeanOhAileasa/fda-data-functions/blob/main/fda-data-functions.ipynb#abstract) **[External Link]** <br/><br/>\n",
    "        * [Functions](https://nbviewer.jupyter.org/github/SeanOhAileasa/fda-data-functions/blob/main/fda-data-functions.ipynb#abstractFunctions) **[External Link]** <br/><br/>\n",
    "    * [Introduction](https://nbviewer.jupyter.org/github/SeanOhAileasa/fda-data-functions/blob/main/fda-data-functions.ipynb#introduction) **[External Link]** <br/><br/>\n",
    "    * [Solution](https://nbviewer.jupyter.org/github/SeanOhAileasa/fda-data-functions/blob/main/fda-data-functions.ipynb#solution) **[External Link]** <br/><br/>\n",
    "        * [Iterator](https://nbviewer.jupyter.org/github/SeanOhAileasa/fda-data-functions/blob/main/fda-data-functions.ipynb#iterator) **[External Link]** <br/><br/>\n",
    "        * [Map](https://nbviewer.jupyter.org/github/SeanOhAileasa/fda-data-functions/blob/main/fda-data-functions.ipynb#map) **[External Link]** <br/><br/>\n",
    "        * [Anonymous](https://nbviewer.jupyter.org/github/SeanOhAileasa/fda-data-functions/blob/main/fda-data-functions.ipynb#anonymous-function) **[External Link]** <br/><br/>\n",
    "        * [Reduce](https://nbviewer.jupyter.org/github/SeanOhAileasa/fda-data-functions/blob/main/fda-data-functions.ipynb#reduce) **[External Link]** <br/><br/>\n",
    "    * [Conclusion](https://nbviewer.jupyter.org/github/SeanOhAileasa/fda-data-functions/blob/main/fda-data-functions.ipynb#conclusion) **[External Link]** <br/><br/>\n",
    "        * [Data and Functions](https://nbviewer.jupyter.org/github/SeanOhAileasa/fda-data-functions/blob/main/fda-data-functions.ipynb#data-and-functions) **[External Link]** <br/><br/>\n",
    "* **END** <br/><br/>         \n",
    "    * [Turing](#dataFunctionsTuring) <br/><br/>\n",
    "    * [Church](#dataFunctionsChurch) <br/><br/>\n",
    "        * [Real-world](#dataFunctionsChurchPython)"
   ]
  },
  {
   "cell_type": "markdown",
   "id": "66879a2a",
   "metadata": {},
   "source": [
    "<hr width=50%;>"
   ]
  },
  {
   "cell_type": "markdown",
   "id": "2e0dc982",
   "metadata": {},
   "source": [
    "### Monty Hall\n",
    "***\n",
    "\n",
    "* [Monty Hall](#montyHallProblem) <br/><br/>\n",
    "    * [Abstract](https://nbviewer.jupyter.org/github/SeanOhAileasa/fda-monty-hall-problem/blob/main/fda-monty-hall-problem.ipynb#abstract) **[External Link]** <br/><br/>\n",
    "    * [Introduction](https://nbviewer.jupyter.org/github/SeanOhAileasa/fda-monty-hall-problem/blob/main/fda-monty-hall-problem.ipynb#introduction) **[External Link]** <br/><br/>\n",
    "        * [``random``](https://nbviewer.jupyter.org/github/SeanOhAileasa/fda-monty-hall-problem/blob/main/fda-monty-hall-problem.ipynb#introductionrandom) **[External Link]** <br/><br/>\n",
    "            * [``choice``](https://nbviewer.jupyter.org/github/SeanOhAileasa/fda-monty-hall-problem/blob/main/fda-monty-hall-problem.ipynb#introductionrandomchoice) **[External Link]** <br/><br/>\n",
    "    * [Solution](https://nbviewer.jupyter.org/github/SeanOhAileasa/fda-monty-hall-problem/blob/main/fda-monty-hall-problem.ipynb#solution) **[External Link]** <br/><br/>\n",
    "        * [Select Door](https://nbviewer.jupyter.org/github/SeanOhAileasa/fda-monty-hall-problem/blob/main/fda-monty-hall-problem.ipynb#solutionDoorSelection) (&#8594; ``random``) **[External Link]** <br/><br/>\n",
    "            * [``matplotlib``](https://nbviewer.jupyter.org/github/SeanOhAileasa/fda-monty-hall-problem/blob/main/fda-monty-hall-problem.ipynb#solutionDoorSelectionmatplotlib) &#x1F6A7; **[External Link]** <br/><br/>\n",
    "                * [``pyplot``](https://nbviewer.jupyter.org/github/SeanOhAileasa/fda-monty-hall-problem/blob/main/fda-monty-hall-problem.ipynb#solutionDoorSelectionmatplotlibpyplot) **[External Link]** <br/><br/>\n",
    "                    * [``figure``](https://nbviewer.jupyter.org/github/SeanOhAileasa/fda-monty-hall-problem/blob/main/fda-monty-hall-problem.ipynb#solutionDoorSelectionmatplotlibpyplotfigure) **[External Link]** <br/><br/>\n",
    "            * [``seaborn``](https://nbviewer.jupyter.org/github/SeanOhAileasa/fda-monty-hall-problem/blob/main/fda-monty-hall-problem.ipynb#solutionDoorSelectionseaborn) (&#8594; ``random`` &#8594; ``choice``) **[External Link]** <br/><br/>\n",
    "                * [``set``](https://nbviewer.jupyter.org/github/SeanOhAileasa/fda-monty-hall-problem/blob/main/fda-monty-hall-problem.ipynb#solutionDoorSelectionseaborn_set_countplot) (&#8594; Select Door &#8594; ``matplotlib`` &#8594; ``pyplot`` &#8594; ``figure``) **[External Link]** <br/><br/>\n",
    "                * [``countplot``](https://nbviewer.jupyter.org/github/SeanOhAileasa/fda-monty-hall-problem/blob/main/fda-monty-hall-problem.ipynb#solutionDoorSelectionseaborn_set_countplot) (&#8594; Select Door &#8594; ``matplotlib`` &#8594; ``pyplot`` &#8594; ``figure``) **[External Link]** <br/><br/>\n",
    "        * [Simulation](https://nbviewer.jupyter.org/github/SeanOhAileasa/fda-monty-hall-problem/blob/main/fda-monty-hall-problem.ipynb#simulate) **[External Link]** <br/><br/>\n",
    "            * [Marilyn vos Savant](https://nbviewer.jupyter.org/github/SeanOhAileasa/fda-monty-hall-problem/blob/main/fda-monty-hall-problem.ipynb#simulateMarilynvosSavant) (&#8594; Select Door &#8594; ``seaborn`` &#8594; ``countplot``) **[External Link]** <br/><br/>\n",
    "    * [Conclusion](https://nbviewer.jupyter.org/github/SeanOhAileasa/fda-monty-hall-problem/blob/main/fda-monty-hall-problem.ipynb#conclusion) **[External Link]** <br/><br/>\n",
    "        * [Analysis](https://nbviewer.jupyter.org/github/SeanOhAileasa/fda-monty-hall-problem/blob/main/fda-monty-hall-problem.ipynb#conclusionAnalysis) **[External Link]** <br/><br/>\n",
    "            * [``pandas``](https://nbviewer.jupyter.org/github/SeanOhAileasa/fda-monty-hall-problem/blob/main/fda-monty-hall-problem.ipynb#conclusionpandas) **[External Link]** <br/><br/>\n",
    "                * [``read_csv``](https://nbviewer.jupyter.org/github/SeanOhAileasa/fda-monty-hall-problem/blob/main/fda-monty-hall-problem.ipynb#conclusionpandasreadcsv) **[External Link]** <br/><br/>\n",
    "            * [Plot (Category)](https://nbviewer.jupyter.org/github/SeanOhAileasa/fda-monty-hall-problem/blob/main/fda-monty-hall-problem.ipynb#conclusionAnalysisPlot) **[External Link]** <br/><br/>\n",
    "                * [``seaborn``](https://nbviewer.jupyter.org/github/SeanOhAileasa/fda-monty-hall-problem/blob/main/fda-monty-hall-problem.ipynb#conclusionAnalysisPlotseaborn) &#x1F6A7; (&#8594; Select Door) **[External Link]** <br/><br/>\n",
    "                    * [``catplot``](https://nbviewer.jupyter.org/github/SeanOhAileasa/fda-monty-hall-problem/blob/main/fda-monty-hall-problem.ipynb#conclusionAnalysisPlotseaborncatplot) **[External Link]** <br/><br/>\n",
    "            * [Bias](https://nbviewer.jupyter.org/github/SeanOhAileasa/fda-monty-hall-problem/blob/main/fda-monty-hall-problem.ipynb#conclusionAnalysisBias) (&#8594; Plot (Category) &#8594; ``seaborn`` &#8594; ``catplot``) **[External Link]** <br/><br/>\n",
    "            * [Hypothesis](https://nbviewer.jupyter.org/github/SeanOhAileasa/fda-monty-hall-problem/blob/main/fda-monty-hall-problem.ipynb#verifyHypothesis) (&#8594; Plot (Category) &#8594; ``seaborn`` &#8594; ``catplot``) **[External Link]** <br/><br/> \n",
    "* **END**"
   ]
  },
  {
   "cell_type": "markdown",
   "id": "0965dd82",
   "metadata": {},
   "source": [
    "<hr width=50%;>   "
   ]
  },
  {
   "cell_type": "markdown",
   "id": "d11496b5",
   "metadata": {},
   "source": [
    "## [Introduction](#introduction)"
   ]
  },
  {
   "cell_type": "markdown",
   "id": "d34fea99",
   "metadata": {},
   "source": [
    "&#x1F6A7;"
   ]
  },
  {
   "cell_type": "markdown",
   "id": "5540daf2",
   "metadata": {},
   "source": [
    "<hr width=50%;>"
   ]
  },
  {
   "cell_type": "markdown",
   "id": "aa4bb528",
   "metadata": {},
   "source": [
    "### Machine Learning & Statistics\n",
    "***"
   ]
  },
  {
   "cell_type": "markdown",
   "id": "e617f73d",
   "metadata": {},
   "source": [
    "### Models\n",
    "***\n",
    "\n",
    "* [Models](#fdaMLSModels) &#x1F6A7; <br/><br/>\n",
    "    * [Abstract](https://nbviewer.jupyter.org/github/SeanOhAileasa/fda-models/blob/main/fda-models.ipynb#abstract) **[External Link]** <br/><br/>\n",
    "    * [Introduction](https://nbviewer.jupyter.org/github/SeanOhAileasa/fda-models/blob/main/fda-models.ipynb#introduction) **[External Link]** <br/><br/>\n",
    "        * [Analysis](https://nbviewer.jupyter.org/github/SeanOhAileasa/fda-models/blob/main/fda-models.ipynb#introductionAnalysis) **[External Link]** <br/><br/>\n",
    "            * [``seaborn``](https://nbviewer.jupyter.org/github/SeanOhAileasa/fda-models/blob/main/fda-models.ipynb#fdamodelsintroductionAnalysisseaborn) **[External Link]** <br/><br/>\n",
    "                * [``load_dataset``](https://nbviewer.jupyter.org/github/SeanOhAileasa/fda-models/blob/main/fda-models.ipynb#fdamodelsintroductionAnalysisseabornloaddataset) **[External Link]** <br/><br/>\n",
    "                * [``pairplot``](https://nbviewer.jupyter.org/github/SeanOhAileasa/fda-models/blob/main/fda-models.ipynb#fdamodelsintroductionAnalysisseabornpairplot) **[External Link]** <br/><br/>\n",
    "                * [``PairGrid``](https://nbviewer.jupyter.org/github/SeanOhAileasa/fda-models/blob/main/fda-models.ipynb#fdamodelsintroductionAnalysisseabornPairGridmapscatterplot)|``map``|``scatterplot`` **[External Link]** <br/><br/>\n",
    "            * [``pandas``](https://nbviewer.jupyter.org/github/SeanOhAileasa/fda-models/blob/main/fda-models.ipynb#fdamodelsintroductionAnalysispandasdropna)|``dropna`` **[External Link]** <br/><br/>\n",
    "            * [``seaborn``](https://nbviewer.jupyter.org/github/SeanOhAileasa/fda-models/blob/main/fda-models.ipynb#fdamodelsintroductionAnalysisseaborn2) &#x1F6A7; (&#8594; Analysis) **[External Link]** <br/><br/>\n",
    "                * [``regplot``](https://nbviewer.jupyter.org/github/SeanOhAileasa/fda-models/blob/main/fda-models.ipynb#fdamodelsintroductionAnalysisseaborn2regplot) **[External Link]** <br/><br/>\n",
    "    * [Solution](https://nbviewer.jupyter.org/github/SeanOhAileasa/fda-models/blob/main/fda-models.ipynb#solution) (&#8594; Analysis &#8594; ``seaborn`` &#8594; ``regplot``) **[External Link]**  <br/><br/>\n",
    "        * [Train](https://nbviewer.jupyter.org/github/SeanOhAileasa/fda-models/blob/main/fda-models.ipynb#fdamodelsTrain) **[External Link]** <br/><br/>\n",
    "            * [``pandas``](https://nbviewer.jupyter.org/github/SeanOhAileasa/fda-models/blob/main/fda-models.ipynb#fdamodelsTrainDataFrametonumpy)|``to_numpy`` **[External Link]** <br/><br/>\n",
    "            * [``numpy``](https://nbviewer.jupyter.org/github/SeanOhAileasa/fda-models/blob/main/fda-models.ipynb#fdamodelsTrainDataFrametonumpyshapereshape)|``shape``|``reshape`` **[External Link]** <br/><br/>           \n",
    "            * [``sklearn``](https://nbviewer.jupyter.org/github/SeanOhAileasa/fda-models/blob/main/fda-models.ipynb#fdamodelsTrainsklearn) **[External Link]** <br/><br/>\n",
    "                * [``linear_model``](https://nbviewer.jupyter.org/github/SeanOhAileasa/fda-models/blob/main/fda-models.ipynb#fdamodelsTrainlinearmodel) **[External Link]** <br/><br/>\n",
    "                    * [``LinearRegression``](https://nbviewer.jupyter.org/github/SeanOhAileasa/fda-models/blob/main/fda-models.ipynb#fdamodelsTrainlinearmodelLinearRegression) **[External Link]** <br/><br/>\n",
    "                        * [``fit``](https://nbviewer.jupyter.org/github/SeanOhAileasa/fda-models/blob/main/fda-models.ipynb#fdamodelsTrainlinearmodelLinearRegressionfit) **[External Link]** <br/><br/>\n",
    "                        * [``score``](https://nbviewer.jupyter.org/github/SeanOhAileasa/fda-models/blob/main/fda-models.ipynb#fdamodelsTrainlinearmodelLinearRegressionscore) **[External Link]** <br/><br/>\n",
    "                        * [``intercept_``](https://nbviewer.jupyter.org/github/SeanOhAileasa/fda-models/blob/main/fda-models.ipynb#fdamodelsTrainlinearmodelLinearRegressionAttributesintercept_) $(b)$ **[External Link]** <br/><br/>\n",
    "                        * [``coef_``](https://nbviewer.jupyter.org/github/SeanOhAileasa/fda-models/blob/main/fda-models.ipynb#fdamodelsTrainlinearmodelLinearRegressionAttributescoef_) $(m)$ **[External Link]** <br/><br/>\n",
    "            * [Coefficients](https://nbviewer.jupyter.org/github/SeanOhAileasa/fda-models/blob/main/fda-models.ipynb#fdamodelsTrainlinearmodelLinearRegressionCoefficients) $b$ $m$ **[External Link]** <br/><br/>\n",
    "    * [Conclusion](https://nbviewer.jupyter.org/github/SeanOhAileasa/fda-models/blob/main/fda-models.ipynb#conclusion) **[External Link]** <br/><br/>\n",
    "        * [Predict](https://nbviewer.jupyter.org/github/SeanOhAileasa/fda-models/blob/main/fda-models.ipynb#fdamodelConclusionPredict) **[External Link]** <br/><br/>\n",
    "        * [Determinism](https://nbviewer.jupyter.org/github/SeanOhAileasa/fda-models/blob/main/fda-models.ipynb#fdamodelConclusionDeterminism) **[External Link]** <br/><br/>\n",
    "* **END**"
   ]
  },
  {
   "cell_type": "markdown",
   "id": "58495938",
   "metadata": {},
   "source": [
    "<hr width=50%;>"
   ]
  },
  {
   "cell_type": "markdown",
   "id": "80975dfd",
   "metadata": {},
   "source": [
    "## [Solution](#solution)\n",
    "\n",
    "- &#x1F6A7;\n",
    "\n",
    "## [Conclusion](#conclusion)\n",
    "\n",
    "- &#x1F6A7;"
   ]
  },
  {
   "cell_type": "markdown",
   "id": "3d483289",
   "metadata": {},
   "source": [
    "***\n",
    "## END"
   ]
  },
  {
   "cell_type": "markdown",
   "id": "f27e9b06",
   "metadata": {},
   "source": [
    "< [Table of Contents](#top) | [Introduction](#introduction) | [Solution](#solution) | [Conclusion](#conclusion) | [References](#references) >\n",
    "<a id=\"abstract\"></a>\n",
    "***\n",
    "## Abstract\n",
    "***"
   ]
  },
  {
   "cell_type": "markdown",
   "id": "185eb300",
   "metadata": {},
   "source": [
    "< [Table of Contents](#top) | [References](#references) >\n",
    "<a id=\"description\"></a>\n",
    "***\n",
    "###### Description\n",
    "***"
   ]
  },
  {
   "cell_type": "markdown",
   "id": "78e3fd9d",
   "metadata": {},
   "source": [
    "An introduction to machine learning and the statistical aspects surrounding the theory."
   ]
  },
  {
   "cell_type": "markdown",
   "id": "f2e0cae0",
   "metadata": {},
   "source": [
    "< [Table of Contents](#top) | [References](#references) >\n",
    "<a id=\"learningOutcomes\"></a>\n",
    "***\n",
    "###### Learning Outcomes\n",
    "***"
   ]
  },
  {
   "cell_type": "markdown",
   "id": "1787ca4d",
   "metadata": {},
   "source": [
    "1. Describe the stochastic nature of real-world measurements.\n",
    "\n",
    "2. Select an appropriate mathematical model of a real-world problem.\n",
    "\n",
    "3. Select an appropriate cost function for a given machine learning task.\n",
    "\n",
    "4. Apply an optimisation technique to the parameters of a model."
   ]
  },
  {
   "cell_type": "markdown",
   "id": "e7b202c4",
   "metadata": {},
   "source": [
    "< [Table of Contents](#top) | [References](#references) >\n",
    "<a id=\"topicRoadmap\"></a>\n",
    "***\n",
    "###### Topic Roadmap\n",
    "***"
   ]
  },
  {
   "cell_type": "markdown",
   "id": "dfaabf43",
   "metadata": {},
   "source": [
    "- Investigating real world data\n",
    "\t- Probability models\n",
    "\t- Measurement error\n",
    "\t- Selecting appropriate plots for a given data set\n",
    "- Model selection\n",
    "\t- Linear models in one variable\n",
    "\t- Linear models in more than one variable\n",
    "\t- Exponential models\n",
    "- Cost functions\n",
    "\t- Least squares\n",
    "\t- Newton's method for square roots\n",
    "- Parameter estimation\n",
    "\t- Linear least squares\n",
    "\t- Gradient descent"
   ]
  },
  {
   "cell_type": "markdown",
   "id": "8d07c7d2",
   "metadata": {},
   "source": [
    "< [Table of Contents](#top) | [References](#references) >\n",
    "<a id=\"data\"></a>\n",
    "***\n",
    "### Data\n",
    "***"
   ]
  },
  {
   "cell_type": "markdown",
   "id": "2589c909",
   "metadata": {},
   "source": [
    "&#x1F6A7;"
   ]
  },
  {
   "cell_type": "markdown",
   "id": "8871d4c2",
   "metadata": {},
   "source": [
    "< [Table of Contents](#top) | [References](#references) >\n",
    "***"
   ]
  },
  {
   "cell_type": "markdown",
   "id": "63d60aeb",
   "metadata": {},
   "source": [
    "* [On the Theory of Scales of Measurement by S. S. Stevens](https://nbviewer.jupyter.org/github/SeanOhAileasa/fda-data/blob/main/fda-data.ipynb) **[External Link]**<br/><br/>\n",
    "    * [Abstract](https://nbviewer.jupyter.org/github/SeanOhAileasa/fda-data/blob/main/fda-data.ipynb#abstract) **[External Link]** <br/><br/>\n",
    "    * [Introduction](https://nbviewer.jupyter.org/github/SeanOhAileasa/fda-data/blob/main/fda-data.ipynb#introduction) **[External Link]** <br/><br/>\n",
    "    * [Solution](https://nbviewer.jupyter.org/github/SeanOhAileasa/fda-data/blob/main/fda-data.ipynb#solution) **[External Link]** <br/><br/>\n",
    "        * [Measurement vs Category](https://nbviewer.jupyter.org/github/SeanOhAileasa/fda-data/blob/main/fda-data.ipynb#measurement-vs-category) **[External Link]** <br/><br/>\n",
    "            * [Nominal - Categorical](https://nbviewer.jupyter.org/github/SeanOhAileasa/fda-data/blob/main/fda-data.ipynb#nominal-categorical) **[External Link]** <br/><br/>\n",
    "            * [Ordinal - Categorical](https://nbviewer.jupyter.org/github/SeanOhAileasa/fda-data/blob/main/fda-data.ipynb#ordinal-categorical) **[External Link]** <br/><br/>\n",
    "            * [Interval](https://nbviewer.jupyter.org/github/SeanOhAileasa/fda-data/blob/main/fda-data.ipynb#interval) **[External Link]** <br/><br/>\n",
    "            * [Ratio](https://nbviewer.jupyter.org/github/SeanOhAileasa/fda-data/blob/main/fda-data.ipynb#ratio) **[External Link]** <br/><br/>\n",
    "    * [Conclusion](https://nbviewer.jupyter.org/github/SeanOhAileasa/fda-data/blob/main/fda-data.ipynb#conclusion) **[External Link]** <br/><br/>    "
   ]
  },
  {
   "cell_type": "markdown",
   "id": "6fd96ad3",
   "metadata": {},
   "source": [
    "< [Table of Contents](#top) | [References](#references) >\n",
    "***"
   ]
  },
  {
   "cell_type": "markdown",
   "id": "b9cb90d5",
   "metadata": {},
   "source": [
    "* [Types](https://nbviewer.jupyter.org/github/SeanOhAileasa/fda-types/blob/main/fda-types.ipynb) **[External Link]** <br/><br/>\n",
    "    * [Abstract](https://nbviewer.jupyter.org/github/SeanOhAileasa/fda-types/blob/main/fda-types.ipynb#abstract) **[External Link]** <br/><br/>\n",
    "    * [Introduction](https://nbviewer.jupyter.org/github/SeanOhAileasa/fda-types/blob/main/fda-types.ipynb#introduction) **[External Link]** <br/><br/>\n",
    "    * [Solution](https://nbviewer.jupyter.org/github/SeanOhAileasa/fda-types/blob/main/fda-types.ipynb#solution) **[External Link]** <br/><br/>\n",
    "        * [Integer](https://nbviewer.jupyter.org/github/SeanOhAileasa/fda-types/blob/main/fda-types.ipynb#integer) **[External Link]** <br/><br/>\n",
    "        * [Float](https://nbviewer.jupyter.org/github/SeanOhAileasa/fda-types/blob/main/fda-types.ipynb#float) **[External Link]** <br/><br/>\n",
    "        * [String](https://nbviewer.jupyter.org/github/SeanOhAileasa/fda-types/blob/main/fda-types.ipynb#string) **[External Link]** <br/><br/>\n",
    "        * [Type](https://nbviewer.jupyter.org/github/SeanOhAileasa/fda-types/blob/main/fda-types.ipynb#type) **[External Link]** <br/><br/>\n",
    "        * [Binary-Representation](https://nbviewer.jupyter.org/github/SeanOhAileasa/fda-types/blob/main/fda-types.ipynb#binary-representation) **[External Link]** <br/><br/>\n",
    "    * [Conclusion](https://nbviewer.jupyter.org/github/SeanOhAileasa/fda-types/blob/main/fda-types.ipynb#conclusion)  **[External Link]** <br/><br/> "
   ]
  },
  {
   "cell_type": "markdown",
   "id": "5a09282a",
   "metadata": {},
   "source": [
    "< [Table of Contents](#top) | [References](#references) >\n",
    "<a id=\"dataCounting\"></a>\n",
    "***\n",
    "###### Counting\n",
    "***"
   ]
  },
  {
   "cell_type": "code",
   "execution_count": null,
   "id": "eb5a6aee",
   "metadata": {},
   "outputs": [],
   "source": [
    "fFile(\"./hide/fda/001-Data/006-The Counting Numbers - 27-09-2020_otter.mp4\")\n",
    "fFile(\"./hide/fda/001-Data/007-The Counting Numbers-slides.pdf\")"
   ]
  },
  {
   "cell_type": "markdown",
   "id": "3a553ed8",
   "metadata": {},
   "source": [
    "- everyone is thought to count in primary school - using the decimal number system (``1`` to ``9``) flip around the next number after nine (``10``) [2]"
   ]
  },
  {
   "cell_type": "markdown",
   "id": "992d8784",
   "metadata": {},
   "source": [
    "- circa 100 years ago mathematicians started looking at the counting numbers realising a few quirks existed - these quirks have a lot of repercussions for computing today [2]"
   ]
  },
  {
   "cell_type": "markdown",
   "id": "3d232dc4",
   "metadata": {},
   "source": [
    "- investigating the set of positive numbers (ignoring ``0`` and negatives albeit can be included) - the integer (``int``) is the most basic type used in everyday programming [2]"
   ]
  },
  {
   "cell_type": "markdown",
   "id": "c0ab1592",
   "metadata": {},
   "source": [
    "- natural numbers ($\\mathbb{N}$) occur in nature [2] - ($\\mathbb{N}$) starting at $0$ is denoted $\\mathbb{N}_0$ to emphasize that the $0$ is included [3]"
   ]
  },
  {
   "cell_type": "markdown",
   "id": "850b0af5",
   "metadata": {},
   "source": [
    "$$\\mathbb{N_1} = \\{1,2,3,...\\}$$"
   ]
  },
  {
   "cell_type": "markdown",
   "id": "69d4b0e0",
   "metadata": {},
   "source": [
    "- counting a collection of things using essentially a venn diagram (ellipse around three ice cream flavours ``vanilla`` / ``chocolate`` / ``strawberry``) - in ones mind can pick up immediately there are three things (three different flavours) - the question is how does one know this - is there a systematic way of deciding that there is actually three things [2]"
   ]
  },
  {
   "cell_type": "markdown",
   "id": "25371e06",
   "metadata": {},
   "source": [
    "![Flavour Set](https://github.com/SeanOhAileasa/SeanOhAileasa/blob/master/rc/fda/counting/icecream.png?raw=true)\n",
    "\n",
    "***(Image - Flavour Set) I. McLoughlin, \"The Counting Numbers,\" GMIT, September 2020.***"
   ]
  },
  {
   "cell_type": "markdown",
   "id": "4ca53195",
   "metadata": {},
   "source": [
    "- to formally count (a subset of $\\mathbb{N}$) is to create a numbered set and compare this numbered set $\\{1,2,3\\}$ with each in the flavour set (``vanilla`` / ``chocolate`` / ``strawberry``) - the $1$ corresponds to ``vanilla`` and $2$ corresponds to ``chcolate`` and $3$ corresponds to ``strawberry`` (can do it in any order as it does not make any difference) [2]"
   ]
  },
  {
   "cell_type": "markdown",
   "id": "78baf8aa",
   "metadata": {},
   "source": [
    "- an interesting facet is the use of the set of numbers $\\{1,2,3\\}$ to order things - the ``vanilla`` is now the first thing and the ``chocolate`` is the second thing and the ``strawberry`` is the third thing (when counting order does not matter) [2]"
   ]
  },
  {
   "cell_type": "markdown",
   "id": "d2e5bd4f",
   "metadata": {},
   "source": [
    "![Flavour Set](https://github.com/SeanOhAileasa/SeanOhAileasa/blob/master/rc/fda/counting/icecream123.png?raw=true)\n",
    "\n",
    "***(Image - Numbered Set) I. McLoughlin, \"The Counting Numbers,\" GMIT, September 2020.***"
   ]
  },
  {
   "cell_type": "markdown",
   "id": "be20ef7c",
   "metadata": {},
   "source": [
    "- the question is can the flavour set (``vanilla`` / ``chocolate`` / ``strawberry``) be put into correspondence $\\leftrightarrow$ with the numbered set [2]"
   ]
  },
  {
   "cell_type": "markdown",
   "id": "d922aad0",
   "metadata": {},
   "source": [
    "- can put in $\\leftrightarrow$ where one thing in the numbered set $\\{1,2,3\\}$ is matched with one thing in the flavour set so that each thing in the numbers set is matched with each thing in the flavour set - there is a one to one relationship between these things (nothing left out) [2]"
   ]
  },
  {
   "cell_type": "markdown",
   "id": "de8e98f4",
   "metadata": {},
   "source": [
    "$$1 \\leftrightarrow vanilla$$\n",
    "\n",
    "$$2 \\leftrightarrow chocolate$$\n",
    "\n",
    "$$3 \\leftrightarrow strawberry$$"
   ]
  },
  {
   "cell_type": "markdown",
   "id": "065051b8",
   "metadata": {},
   "source": [
    "- counting is using a subset of the consecutive elements of $\\mathbb{N}$ starting with $1$ - its easy to know there are three flavours in the flavour set (mind does it automatically especially with very small sets) but if counting a set of $100$ things then the mind cannot immediately determine although could probably estimate but would not be confidence there were indeed $100$ things in whatever is being counted until some systematic method is employed around pointing out the elements [2]"
   ]
  },
  {
   "cell_type": "markdown",
   "id": "aaca4a55",
   "metadata": {},
   "source": [
    "< [Table of Contents](#top) | [References](#references) >\n",
    "<a id=\"dataCountingDiscrete\"></a>\n",
    "***\n",
    "###### Discrete\n",
    "***"
   ]
  },
  {
   "cell_type": "markdown",
   "id": "8d65139d",
   "metadata": {},
   "source": [
    "- the set of $\\mathbb{N}$ is not only used for counting but its used for ordering things as well so the ordering is important here and has a couple of features - the numbers in the set are discrete (or distinct) - the $1$ is a very separate thing to $2$ - when jumping from $1$ to $2$ theres no sense of continuous merging from $1$ to $2$ rather than in other numbers whereby sometimes can slowly morph from $1$ to $2$ [2]"
   ]
  },
  {
   "cell_type": "markdown",
   "id": "3024ed90",
   "metadata": {},
   "source": [
    "- these numbers are used all over the place in data analysis / machine learning / programming and are used for counting and ordering - sometimes even used for an encoding of three different ice cream flavours - conducting a survey within an ice cream shop and keeping track on a given day what flavours customers order - if somebody comes in and orders a vanilla ice cream then might write down ``vanilla`` then the next person orders ``vanilla`` and again write down another ``vanilla`` and the next person orders ``strawberries`` so write down ``strawberry`` - at the end of the day can look at the list of flavours that people had ordered and count them - will be able to tell what was the most popular flavour of ice cream [2]"
   ]
  },
  {
   "cell_type": "markdown",
   "id": "c7909a36",
   "metadata": {},
   "source": [
    "- in these kinds of cases the use of the set of $\\mathbb{N}$ is often used as a shorthand instead of writing down ``vanilla`` every single time somebody comes in (maybe write ``v`` or given more flavours then might want to use numbers as opposed to letters) - might just denote ``vanilla`` as $1$ and ``chocolate`` as $2$ and ``strawberry`` as $3$ - this is used all over the place and its important to be really careful because ``vanilla`` / ``chocolate`` / ``strawberry`` has no natural ordering to the set of $\\mathbb{N}$ - generally speaking may put ``vanilla`` first just because it may be deemed as the plain flavour of ice cream although this is not true as the actual vanilla flavouring has to be added but chocolate and strawberry has no real ordering [2]"
   ]
  },
  {
   "cell_type": "markdown",
   "id": "5a5e3596",
   "metadata": {},
   "source": [
    "- may choose to order by dictionary (alphabetically) in which case could put first ``chocolate`` and the last ``vanilla`` - seems like a natural order but if doing this in another language other than english then that alphabetical ordering might not be the same - ``vanilla`` in some other language might begins with an ``a`` or some other symbol if not using the roman alphabet (in a different language the alphabetical order is different) - the point is there is no inherent ordering of this set (no real world obvious ordering) - the three ice cream flavours are just distinct things (one is not bigger than another) - those kind of ideas do not really exist in flavours unless maybe flavours are combined (``vanilla`` plus ``chocolate`` combined probably in some sense bigger than just ``vanilla``) [2]"
   ]
  },
  {
   "cell_type": "markdown",
   "id": "19e7b31b",
   "metadata": {},
   "source": [
    "- in early schooling it was leart that certain numbers come before other numbers in the set of $\\mathbb{N}$ - might never heard the number $100,000,0051$ but will know that its less than $100,000,0052$ - in terms of explaining to a child then will realise there is a lot known about numbers but maybe cannot remember how its known (labouring the point about counting) [2]"
   ]
  },
  {
   "cell_type": "markdown",
   "id": "0294f04c",
   "metadata": {},
   "source": [
    "- $\\mathbb{N}$ do not actually have any ordering but does have a natural ordering (there is a reality to the ordering) - no matter what language the $1$ of something is or the $2$ of something is if taking the subset of however many elements from the set $\\mathbb{N}$ then if another set such as the flavour set can be put into correspondence with the numbered subset then whatever the biggest number is in the numbered set is thats the number of things in the flavour set [2]"
   ]
  },
  {
   "cell_type": "markdown",
   "id": "069deab5",
   "metadata": {},
   "source": [
    "- the punch line is the flavour set has the same number of things in the numbered set - can put the flavours into correspondence left and right (one thing on the left and one thing on the right) so everything is covered (nothing left over) [2]"
   ]
  },
  {
   "cell_type": "markdown",
   "id": "c263def3",
   "metadata": {},
   "source": [
    "$$1 \\leftrightarrow vanilla$$\n",
    "\n",
    "$$2 \\leftrightarrow chocolate$$\n",
    "\n",
    "$$3 \\leftrightarrow strawberry$$"
   ]
  },
  {
   "cell_type": "markdown",
   "id": "84905854",
   "metadata": {},
   "source": [
    "< [Table of Contents](#top) | [References](#references) >\n",
    "<a id=\"dataCountingInfinity\"></a>\n",
    "***\n",
    "###### Infinity\n",
    "***"
   ]
  },
  {
   "cell_type": "markdown",
   "id": "47aced51",
   "metadata": {},
   "source": [
    "- in the practical real-world theres no such thing as infinity (finite number of atoms in the universe) - there is not a known infinite number [2]"
   ]
  },
  {
   "cell_type": "markdown",
   "id": "dcd92603",
   "metadata": {},
   "source": [
    "- in real terms deal with infinity every day - to do any sort of machine learning or data analytics most of the statistics relies on some form of infinity (calculus) [2]"
   ]
  },
  {
   "cell_type": "markdown",
   "id": "891f5492",
   "metadata": {},
   "source": [
    "- interested in reducing a certain length down smaller and smaller all the way to infinity and what would happen to the other numbers under investigation [2]"
   ]
  },
  {
   "cell_type": "markdown",
   "id": "68e4d2b6",
   "metadata": {},
   "source": [
    "- the counting numbers ($\\mathbb{N}$) are an infinite set (point is its worth thinking about infinity as it will be encountered) [2]"
   ]
  },
  {
   "cell_type": "markdown",
   "id": "33131b09",
   "metadata": {},
   "source": [
    "< [Table of Contents](#top) | [References](#references) >\n",
    "<a id=\"dataCountingSets\"></a>\n",
    "***\n",
    "###### Sets\n",
    "***"
   ]
  },
  {
   "cell_type": "markdown",
   "id": "56bb3723",
   "metadata": {},
   "source": [
    " - $2\\mathbb{N}$ are all of the positive even counting numbers (integers) - the two at the front just means take all of the even numbers [2]"
   ]
  },
  {
   "cell_type": "markdown",
   "id": "21acb518",
   "metadata": {},
   "source": [
    "- can think of it as taking everything in $\\mathbb{N}$ and multiplying it by $2$ - this is where the notation comes from $1\\times2$ and $2\\times2$ and $3\\times2$ [2]"
   ]
  },
  {
   "cell_type": "markdown",
   "id": "43504a03",
   "metadata": {},
   "source": [
    "$$2\\mathbb{N} = \\{2,4,6,...\\}$$"
   ]
  },
  {
   "cell_type": "markdown",
   "id": "a4d1ece9",
   "metadata": {},
   "source": [
    "- even though $2\\mathbb{N}$ is a subset of $\\mathbb{N}$ and given that everything in $2\\mathbb{N}$ is in $\\mathbb{N}$ then its a proper subset in the sense that there are things in $\\mathbb{N}$ that are not in $2\\mathbb{N}$ ($1$ and $3$ and $5$ etc) [2]"
   ]
  },
  {
   "cell_type": "markdown",
   "id": "52564092",
   "metadata": {},
   "source": [
    "- in some real sense the two sets are of the same size (count the same amount of things) - this is an unfamiliar idea that is really crucial that formed relatively recent in computing and has profound implications for what computers can and cannot do [2]"
   ]
  },
  {
   "cell_type": "markdown",
   "id": "93a1665d",
   "metadata": {},
   "source": [
    "- can compare everything in $\\mathbb{N}$ with everything in $\\mathbb{2N}$ in such a way that there is correspondence - one thing in $\\mathbb{N}$ is going to be corresponding or paired with one thing in $\\mathbb{2N}$ and one thing in $\\mathbb{2N}$ is going to be paired with one thing in $\\mathbb{N}$ (with nothing left over) [2]"
   ]
  },
  {
   "cell_type": "markdown",
   "id": "1344c5a8",
   "metadata": {},
   "source": [
    "$$\\mathbb{N} \\leftrightarrow 2\\mathbb{N}$$"
   ]
  },
  {
   "cell_type": "markdown",
   "id": "906801f4",
   "metadata": {},
   "source": [
    "- $1$ in $\\mathbb{N}$ is paired with $2$ in $2\\mathbb{N}$ and $2$ in $\\mathbb{N}$ paired with $4$ in $2\\mathbb{N}$ and so on [2]"
   ]
  },
  {
   "cell_type": "markdown",
   "id": "a03a9637",
   "metadata": {},
   "source": [
    "- the insight or idea thats unsettling is that everything on the LHS is paired with one thing on the RHS - there is no number on the LHS in $\\mathbb{N}$ that is paired up with two different numbers at some stage on the right hand side [2]"
   ]
  },
  {
   "cell_type": "markdown",
   "id": "ded898a9",
   "metadata": {},
   "source": [
    "- on the RHS there is nothing paired with two things on the LHS - $2$ pairs with $1$ and this is the only number its pair with - to figure out what its paired with is to divide by two [2]"
   ]
  },
  {
   "cell_type": "markdown",
   "id": "e1307f52",
   "metadata": {},
   "source": [
    "$$1 \\leftrightarrow 2$$\n",
    "\n",
    "$$2 \\leftrightarrow 4$$\n",
    "\n",
    "$$3 \\leftrightarrow 6$$"
   ]
  },
  {
   "cell_type": "markdown",
   "id": "386c1c00",
   "metadata": {},
   "source": [
    "- everything on the LHS is paired with something on the RHS - everything in $\\mathbb{N}$ is paired with something in $2\\mathbb{N}$ - namely whatever element of $\\mathbb{N}$ is of interest simply multiply by two and likewise everything in $2\\mathbb{N}$ is paired with something in $\\mathbb{N}$ [2]"
   ]
  },
  {
   "cell_type": "markdown",
   "id": "e5dc6c79",
   "metadata": {},
   "source": [
    "- there is a one-to-one correspondence (everything in $\\mathbb{N}$ is paired with one thing in $2\\mathbb{N}$ and everything in $2\\mathbb{N}$ is paired with one thing in $\\mathbb{N}$) [2]"
   ]
  },
  {
   "cell_type": "markdown",
   "id": "ee3654b7",
   "metadata": {},
   "source": [
    "- this was the basis for counting the collection of common ice cream flavours (``vanilla`` / ``chocolate`` / ``strawberry``) - pairing $1$ to ``vanilla`` and $2$ to ``chocolate`` and $3$ to ``strawberry`` so that everything in the flavour set was paired up with something in the numbered set and everything in the numbered set was paired up with something in the flavour set (nothing was paired twice) [2]"
   ]
  },
  {
   "cell_type": "markdown",
   "id": "1d92ef49",
   "metadata": {},
   "source": [
    "- this is the same process with everything in $\\mathbb{N}$ paired with something in $2\\mathbb{N}$ and everything in $2\\mathbb{N}$ is paired with something in $\\mathbb{N}$ - except now dealing with infinite sets with nothing paired twice on either side [2]"
   ]
  },
  {
   "cell_type": "markdown",
   "id": "0c0def3b",
   "metadata": {},
   "source": [
    "- the only conclusion in a very real sense is that $\\mathbb{N}$ and $2\\mathbb{N}$ are of the same size (count the same things) [2]"
   ]
  },
  {
   "cell_type": "markdown",
   "id": "a77e879f",
   "metadata": {},
   "source": [
    "- theres no doubt that $2\\mathbb{N}$ is a subset (proper subset) of $\\mathbb{N}$ - everything in $2\\mathbb{N}$ is in $\\mathbb{N}$ but not everything in $\\mathbb{N}$ is in $2\\mathbb{N}$ - this is a really weird situation where a proper subset of the counting numbers is able to have the same size and can go into correspondence with a proper subset of it [2]"
   ]
  },
  {
   "cell_type": "markdown",
   "id": "1ba6214c",
   "metadata": {},
   "source": [
    "- theres no hidden secret behind all of this just a surprising fact (simple argument / almost too simple) that infinite sets are really weird when it comes to size ($\\mathbb{N}$ and $2\\mathbb{N}$ are of the same size) [2]"
   ]
  },
  {
   "cell_type": "markdown",
   "id": "16b67b09",
   "metadata": {},
   "source": [
    "- the real question is do all infinite sets have this property - can all infinite sets be put into a one-to-one correspondence with each other (some can and some cannot) [2]"
   ]
  },
  {
   "cell_type": "markdown",
   "id": "01ae0fe8",
   "metadata": {},
   "source": [
    "- there seems to be different classes of infinity and there seems to be different sizes of infinity [2]"
   ]
  },
  {
   "cell_type": "markdown",
   "id": "693b378f",
   "metadata": {},
   "source": [
    "< [Table of Contents](#top) | [References](#references) >\n",
    "<a id=\"dataCountingSetsBinary\"></a>\n",
    "***\n",
    "###### Binary\n",
    "***"
   ]
  },
  {
   "cell_type": "markdown",
   "id": "58e009c6",
   "metadata": {},
   "source": [
    "- humans use the decimal number system but computers use the binary number system - humans use ten digits whereas computers use two digits (2-bits) - all computer programs can be written as binary strings and stored in ones and zeros (theres no magic) - if something is a megabyte in size that means its roughly speaking a million-bits long (string of a million ones and zeros) - so all computer programs are binary strings and binary strings can just be converted into numbers [2]"
   ]
  },
  {
   "cell_type": "markdown",
   "id": "638e18ac",
   "metadata": {},
   "source": [
    "- take any program even if its a megabyte or gigabyte or whatever and write it out in ones and zeros then can treat that string of ones and zeros as a number (an integer or whatever) and would no longer be 64-bit but a 1000000-bit integer (treat it as an integer) - so every computer program can be turned into one of the counting numbers - this is a profound insight and Turing exploited it - Turing said all computer programs are countable - can pair them up with the $\\mathbb{N}$ and can go on to infinity [2]"
   ]
  },
  {
   "cell_type": "markdown",
   "id": "03f6c09c",
   "metadata": {},
   "source": [
    "- computer programs can be turned into counting numbers although have a slight issue with leading zeros - its the same in the decimal number system - the number $10$ would usually be written as one zero and put in the leading zeros $0010$ (two zeros just mean zero thousands and zero hundreds) [2]"
   ]
  },
  {
   "cell_type": "markdown",
   "id": "50f70fee",
   "metadata": {},
   "source": [
    "- if turning computer programs into integers it can happen that a bunch of zeros are the first few bits - the implication is not having a one-to-one correspondence because all of the computer programs that are the same except for the number of zeros at the front would become the same integer which would be a problem - can easily fix by writing them all as a binary string and then just put a one bit at the front (just out of nowhere stick a one bit in the front and now turn that into an integer) - thats the number that the computer program is going to have [2]"
   ]
  },
  {
   "cell_type": "markdown",
   "id": "f6bce779",
   "metadata": {},
   "source": [
    "- the reason that this is interesting and why Turing took interest is that there are sets that are bigger than the counting numbers - there are infinite sets that cannot correspond with the counting numbers meaning there are things that cannot be computed because if a computer program computing something (maybe calculating a number or calculating $\\pi$) then do not have enough computer programs to count all of those numbers or to generate everything in those sets [2]"
   ]
  },
  {
   "cell_type": "markdown",
   "id": "2e6de993",
   "metadata": {},
   "source": [
    "- in summary started with something very easy every knows how to do which is counting - finite counting is relatively easy although it does warrant some thinking about - when it comes to the infinite there are some surprising results such as $\\mathbb{N}$ and $2\\mathbb{N}$ put into one-to-one correspondence - the question then is this relevant at all or is it just an interesting theoretical kind of idea and the point here is that it has profound implications for what computers can and cannot do [2]"
   ]
  },
  {
   "cell_type": "markdown",
   "id": "3e72e432",
   "metadata": {},
   "source": [
    "< [Table of Contents](#top) | [References](#references) >\n",
    "<a id=\"dataMeasuring\"></a>\n",
    "***\n",
    "###### Measuring\n",
    "***"
   ]
  },
  {
   "cell_type": "code",
   "execution_count": null,
   "id": "78d61ec0",
   "metadata": {},
   "outputs": [],
   "source": [
    "fFile(\"./hide/fda/001-Data/008-The Measuring Numbers - 27-09-2020_otter.mp4\")\n",
    "fFile(\"./hide/fda/001-Data/009-The Measusing Numbers-slides.pdf\")"
   ]
  },
  {
   "cell_type": "markdown",
   "id": "da269082",
   "metadata": {},
   "source": [
    "- the counting numbers are discrete - the number $1$ is a very separate thing to $2$ (jump from $1$ to $2$) - there is no sense of a continuous merge from $1$ to $2$ whereby other numbers sometimes can slowly morph from $1$ to $2$ [4]"
   ]
  },
  {
   "cell_type": "markdown",
   "id": "d4f28450",
   "metadata": {},
   "source": [
    "< [Table of Contents](#top) | [References](#references) >\n",
    "<a id=\"dataMeasuringContinuous\"></a>\n",
    "***\n",
    "###### Continuous\n",
    "***"
   ]
  },
  {
   "cell_type": "markdown",
   "id": "63d0f373",
   "metadata": {},
   "source": [
    "- the measuring numbers can be thought of as numbers on a number line depicted with black arrows to the left and to the right (suggesting that the number line goes on forever) - marking two points: i) on the left $0$ and ii) on the right $1$ sets the basis for how all the other numbers are going to look - the distance between $0$ and $1$ is considered the length of one unit by definition albeit still have to mark it out (length depicted in red) [4]"
   ]
  },
  {
   "cell_type": "markdown",
   "id": "8ed4e2d8",
   "metadata": {},
   "source": [
    "- creating the number $2$ (dotted red line segment) by hinging on $1$ and lifting up from $0$ and flipping it over to land on $2$ (counting numbers) [4]"
   ]
  },
  {
   "cell_type": "markdown",
   "id": "28fe4895",
   "metadata": {},
   "source": [
    "- between the counting numbers there are measurements such as half (half the distance from $0$ and $1$) - could find some numbers along the line between $1$ and $2$ resulting in some number that when squared would end up with $2$ (some number multiplied by itself) $\\sqrt{2}$ (another number could be $\\pi$) - any point on the line represents one of the measuring numbers [4]"
   ]
  },
  {
   "cell_type": "markdown",
   "id": "73ad302a",
   "metadata": {},
   "source": [
    "- a unit is the distance between $0$ and $1$ and can be considered a measuring number given that $2$ is just two units from $0$ just like $\\pi$ is approximately $3.14$ units from $0$ [4]"
   ]
  },
  {
   "cell_type": "markdown",
   "id": "b79a3672",
   "metadata": {},
   "source": [
    "![numberline](https://github.com/SeanOhAileasa/SeanOhAileasa/blob/master/rc/fda/measuring/numberline.png?raw=true)\n",
    "\n",
    "***(Image) I. McLoughlin, \"The Measuring Numbers,\" GMIT, September 2020.***"
   ]
  },
  {
   "cell_type": "markdown",
   "id": "704dda9b",
   "metadata": {},
   "source": [
    "- measuring numbers $\\mathbb{R}$ are used for a different purpose than counting numbers $\\mathbb{N}$ (measuring floor carpet or used in micro precision engineering) - the counting numbers will not do for measurements so need a different system of numbers (need to come up with a number line) - any points marked off from this number line is a valid number which is different from the counting numbers [4]"
   ]
  },
  {
   "cell_type": "markdown",
   "id": "2e1cbed7",
   "metadata": {},
   "source": [
    "- the infinities with the counting numbers has being determined - there is as many even counting numbers as there are just counting numbers in general (even and odd) which is a strange result - leads to the question: is there any actual basis to the measuring numbers being different from counting numbers or is it just a veneer on top - is there a one-to-one correspondence between counting numbers and measuring numbers [4]"
   ]
  },
  {
   "cell_type": "markdown",
   "id": "1a87cefd",
   "metadata": {},
   "source": [
    "- might think the number that comes before $1$ is $0.999...$ off to infinity (an infinite number of $9$ after the decimal place repeated out to infinity) [4]"
   ]
  },
  {
   "cell_type": "markdown",
   "id": "38be8577",
   "metadata": {},
   "source": [
    "$$0.\\bar{9}$$"
   ]
  },
  {
   "cell_type": "markdown",
   "id": "cca8ce9c",
   "metadata": {},
   "source": [
    "- $1\\times$ anything gives the same thing back albeit cannot do the operation given the infinite number of $9$ [4]"
   ]
  },
  {
   "cell_type": "markdown",
   "id": "19a2c531",
   "metadata": {},
   "source": [
    "$$1x0.999...\\tag{1}$$\n",
    "\n",
    "$$0.999...$$\n",
    "\n",
    "$$0.\\bar{9}$$"
   ]
  },
  {
   "cell_type": "markdown",
   "id": "3948e401",
   "metadata": {},
   "source": [
    "- $10\\times$ anything is easy in the decimal number system - take whatever is at the first decimal place and push all the numbers up past the decimal place or hop the decimal place back a digit [4]"
   ]
  },
  {
   "cell_type": "markdown",
   "id": "8c020b73",
   "metadata": {},
   "source": [
    "$$10x0.999...\\tag{2}$$\n",
    "\n",
    "$$9.999...$$\n",
    "\n",
    "$$9.\\bar{9}$$"
   ]
  },
  {
   "cell_type": "markdown",
   "id": "eb8fe659",
   "metadata": {},
   "source": [
    "- substracting ``Eq. (1)`` from ``Eq. (2)`` the recurring $999...$ would just be taken away from each other and turn into zeros [4]"
   ]
  },
  {
   "cell_type": "code",
   "execution_count": 1,
   "id": "6c3691d9",
   "metadata": {},
   "outputs": [
    {
     "data": {
      "text/plain": [
       "0.0"
      ]
     },
     "execution_count": 1,
     "metadata": {},
     "output_type": "execute_result"
    }
   ],
   "source": [
    "0.999-0.999"
   ]
  },
  {
   "cell_type": "code",
   "execution_count": 2,
   "id": "e309de4f",
   "metadata": {},
   "outputs": [],
   "source": [
    "exit()"
   ]
  },
  {
   "cell_type": "markdown",
   "id": "6b96f042",
   "metadata": {},
   "source": [
    "- proof that $9\\times0.999=9.000...$ [4]"
   ]
  },
  {
   "cell_type": "markdown",
   "id": "6d96de12",
   "metadata": {},
   "source": [
    "- dividing both sides of the $=$ by a $9$ results in i) $9$ and ii) $9.\\bar{0}$ [4]"
   ]
  },
  {
   "cell_type": "markdown",
   "id": "910079a6",
   "metadata": {},
   "source": [
    "$$9/9=1$$ \n",
    "\n",
    "$$9.\\bar{0}/9=1$$"
   ]
  },
  {
   "cell_type": "markdown",
   "id": "9bf2f550",
   "metadata": {},
   "source": [
    "- $0.\\bar{9}$ all the way to infinity is not the number before $1$ on the number line but it is actually $1$ (just a different way of writing it) [4]"
   ]
  },
  {
   "cell_type": "markdown",
   "id": "6d359551",
   "metadata": {},
   "source": [
    "- these sorts of curiosities exists in number systems and are important in data analytics - how data can be manipulated and the building of theoretical models of a situation in the real world [4]"
   ]
  },
  {
   "cell_type": "markdown",
   "id": "bdac014c",
   "metadata": {},
   "source": [
    "- when measuring things there are all of these little gotchas such as not realising $0.\\bar{9}$ is not the number before $1$ but is actually $1$ - its impossible to have a number before $1$ (does not really exist) [4]"
   ]
  },
  {
   "cell_type": "markdown",
   "id": "52d798cf",
   "metadata": {},
   "source": [
    "- can definitely say that certain numbers come before $1$ - can say $0.5$ on the number line comes before $1$ - can say $0.9$ on the number line comes before $1$ - cannot actually determine what the last number is before hitting $1$ - there exists an ordering whereby certain numbers come before other numbers - reviewing two numbers that are different then can say one of them is closer to zero than the other but when you actually dig in and have a look for certain types of numbers then its not possible to find - for sure $1$ is bigger than all of the numbers before it - there is some sort of ordering there but its hard to dig in between two numbers [4]"
   ]
  },
  {
   "cell_type": "markdown",
   "id": "d24fe4fd",
   "metadata": {},
   "source": [
    "- picking any two different numbers on the number line between $0$ and $1$ there is always another number in between - there is an infinity of numbers given the expansion of the decimal place [4]"
   ]
  },
  {
   "cell_type": "markdown",
   "id": "3ac6411f",
   "metadata": {},
   "source": [
    "- measuring numbers are really weird in this sense and causes the confusion about calculus but it is really important to understand especially for machine learning and statistics [4] "
   ]
  },
  {
   "cell_type": "markdown",
   "id": "74acbc1a",
   "metadata": {},
   "source": [
    "< [Table of Contents](#top) | [References](#references) >\n",
    "<a id=\"dataMeasuringContinuoussqrt2\"></a>\n",
    "***\n",
    "###### $\\sqrt{2}$\n",
    "***"
   ]
  },
  {
   "cell_type": "code",
   "execution_count": null,
   "id": "5cf065fb",
   "metadata": {},
   "outputs": [],
   "source": [
    "fFile(\"./hide/fda/001-Data/010-The Square root of 2 - 27-09-2020.mkv\")\n",
    "fFile(\"./hide/fda/001-Data/011-The Square root of 2 - 27-09-2020_slides.pdf\")"
   ]
  },
  {
   "cell_type": "markdown",
   "id": "10f741f2",
   "metadata": {},
   "source": [
    "- in computing terms the $\\sqrt{2}$ is an interesting number (a number when multiplied by itself gives $2$) - programming languages all have a ``math`` standard library that performs the calculation with some approximation on the $\\sqrt{2}$ [5]"
   ]
  },
  {
   "cell_type": "markdown",
   "id": "bd293dd6",
   "metadata": {},
   "source": [
    "$$\\sqrt{2}\\times\\sqrt{2} = 2$$"
   ]
  },
  {
   "cell_type": "markdown",
   "id": "5b46d49f",
   "metadata": {},
   "source": [
    "- on a calculator or standard library the $\\sqrt{2}$ has a long decimal expansion - $\\pi$ is closely related to one of the basic geometric shapes (the circle) - the $\\sqrt{2}$ is related to the perfect square [5]"
   ]
  },
  {
   "cell_type": "code",
   "execution_count": 1,
   "id": "44b41a59",
   "metadata": {},
   "outputs": [
    {
     "data": {
      "text/plain": [
       "1.4142135623730951"
      ]
     },
     "execution_count": 1,
     "metadata": {},
     "output_type": "execute_result"
    }
   ],
   "source": [
    "from math import sqrt\n",
    "sqrt(2)"
   ]
  },
  {
   "cell_type": "code",
   "execution_count": 2,
   "id": "5e713cbb",
   "metadata": {},
   "outputs": [],
   "source": [
    "exit()"
   ]
  },
  {
   "cell_type": "markdown",
   "id": "20e50684",
   "metadata": {},
   "source": [
    "- a square with all four sides of length $1$ has a diagonal length (from one corner to the opposite corner) of the $\\sqrt{2}$ - using pythagoras theorem square the length of the vertical and add to the square of the length of the horizontal - the result is the square of the length of the diagonal (depicted red) given a right angle at the corner of the square ($90^\\circ$) [5]"
   ]
  },
  {
   "cell_type": "markdown",
   "id": "f30d32b4",
   "metadata": {},
   "source": [
    "![Square](https://github.com/SeanOhAileasa/SeanOhAileasa/blob/master/rc/fda/measuring/square.png?raw=true)\n",
    "\n",
    "***(Image) I. McLoughlin, \"The Square root of 2,\" GMIT, September 2020.***"
   ]
  },
  {
   "cell_type": "markdown",
   "id": "953d389a",
   "metadata": {},
   "source": [
    "- the diagonal (depicted red) $d^2$ equals the horizontal $l^2$ plus the vertical $w^2$ [5]"
   ]
  },
  {
   "cell_type": "markdown",
   "id": "74c773ca",
   "metadata": {},
   "source": [
    "$$d^2 = l^2+w^2$$\n",
    "\n",
    "$$d^2 = 1^2+1^2$$"
   ]
  },
  {
   "cell_type": "markdown",
   "id": "2264b5ce",
   "metadata": {},
   "source": [
    "- $d^2$ then equals $2$ therefore $d$ is the $\\sqrt{2}$ - the length of the diagonal of a perfect square is the $\\sqrt{2}$ [5]"
   ]
  },
  {
   "cell_type": "markdown",
   "id": "e578b76e",
   "metadata": {},
   "source": [
    "$$d^2 = 2$$\n",
    "\n",
    "$$d=\\sqrt{2}$$"
   ]
  },
  {
   "cell_type": "markdown",
   "id": "43baea2c",
   "metadata": {},
   "source": [
    "- building a skyscraper that is square in structure requires a very accurate way of calculating the $\\sqrt{2}$ - making sure the building does not topple over might require the $\\sqrt{2}$ in order to do the calculations correctly [5]"
   ]
  },
  {
   "cell_type": "markdown",
   "id": "de608ccd",
   "metadata": {},
   "source": [
    "< [Table of Contents](#top) | [References](#references) >\n",
    "<a id=\"dataMeasuringContinuoussqrt2Irrational\"></a>\n",
    "***\n",
    "###### Irrational\n",
    "***"
   ]
  },
  {
   "cell_type": "markdown",
   "id": "a9cb1399",
   "metadata": {},
   "source": [
    "- a rational number can be written as a ratio of two integers (simple fraction) [6]"
   ]
  },
  {
   "cell_type": "markdown",
   "id": "47333def",
   "metadata": {},
   "source": [
    "- lots of numbers are rational numbers - all integers are rational numbers - the integer $5$ can be written as the ratio $\\frac{5}{1}$ or $\\frac{10}{2}$ or $\\frac{20}{4}$ (written as one integer over another) [5] "
   ]
  },
  {
   "cell_type": "markdown",
   "id": "dc79de0c",
   "metadata": {},
   "source": [
    "- although not a nice integer given the decimal expansion $7.5$ nonetheless is a rational number because it can be written as one integer on top of another $\\frac{15}{2}$ [5] - the number $0.333...$ or $0.\\bar{3}$ is rational because it can be written as the ratio $\\frac{1}{3}$ [6]"
   ]
  },
  {
   "cell_type": "markdown",
   "id": "0d5a8403",
   "metadata": {},
   "source": [
    "- $\\pi$ is a famous irrational number as it cannot be writen down as a simple fraction that equals $\\pi$ - the popular approximation of $\\frac{22}{7}=3.1428571428571...$ is close but not accurate (the decimal goes on forever without repeating) [6]"
   ]
  },
  {
   "cell_type": "markdown",
   "id": "a68c1bca",
   "metadata": {},
   "source": [
    "$$\\pi = 3.1415926535897932384626433832795...$$"
   ]
  },
  {
   "cell_type": "code",
   "execution_count": 1,
   "id": "12867429",
   "metadata": {},
   "outputs": [
    {
     "data": {
      "text/plain": [
       "3.141592653589793"
      ]
     },
     "execution_count": 1,
     "metadata": {},
     "output_type": "execute_result"
    }
   ],
   "source": [
    "from math import pi\n",
    "pi"
   ]
  },
  {
   "cell_type": "code",
   "execution_count": 2,
   "id": "f14f91bb",
   "metadata": {},
   "outputs": [],
   "source": [
    "exit()"
   ]
  },
  {
   "cell_type": "markdown",
   "id": "e610585b",
   "metadata": {},
   "source": [
    "- the question now is can all numbers be written as one number over another and the answer is no [5]"
   ]
  },
  {
   "cell_type": "markdown",
   "id": "7ba46e90",
   "metadata": {},
   "source": [
    "- representing the $\\sqrt{2}$ on a computer given its importance - a proof that the $\\sqrt{2}$ is irrational (cannot be expressed as an integer divided by another integer) [5]"
   ]
  },
  {
   "cell_type": "markdown",
   "id": "ac1dffff",
   "metadata": {},
   "source": [
    "- the lowest form of $7.5$ is $\\frac{15}{2}$ but can also be written as $\\frac{30}{4}$ - the $\\frac{30}{4}$ version of $7.5$ has the feature that theres a whole number that divides into the top and the bottom (namely $2$) [5]"
   ]
  },
  {
   "cell_type": "markdown",
   "id": "d1c751e5",
   "metadata": {},
   "source": [
    "- $30\\div2=15$ and $4\\div2=2$ therefore end up with $\\frac{15}{2}$ (simplified as possible) - the integer $7.5$ is a rational number (written as simple as possible) because theres no number that divides $15$ and divides $2$ [5]"
   ]
  },
  {
   "cell_type": "markdown",
   "id": "f899442a",
   "metadata": {},
   "source": [
    "- imagine $\\sqrt{2}$ can be written as $\\frac{a}{b}$ where $a$ and $b$ are integers (just whole number including negative whole numbers and zero) [5]"
   ]
  },
  {
   "cell_type": "markdown",
   "id": "759d4413",
   "metadata": {},
   "source": [
    "- assuming that $\\frac{a}{b}$ has the lowest form property (no number that divides both $a$ and $b$) and therefore is in its simplest form as a fraction [5]"
   ]
  },
  {
   "cell_type": "markdown",
   "id": "7f75a3a9",
   "metadata": {},
   "source": [
    "$$\\sqrt{2} = \\frac{a}{b}$$"
   ]
  },
  {
   "cell_type": "markdown",
   "id": "e740062b",
   "metadata": {},
   "source": [
    "- to square a fraction the top and the buttom are squared [5]"
   ]
  },
  {
   "cell_type": "markdown",
   "id": "5d9f865b",
   "metadata": {},
   "source": [
    "$$\\Rightarrow 2 = \\frac{a^2}{b^2}$$"
   ]
  },
  {
   "cell_type": "markdown",
   "id": "6f0f5e73",
   "metadata": {},
   "source": [
    "- moving $b^2$ to the LHS [5]"
   ]
  },
  {
   "cell_type": "markdown",
   "id": "95fcdca1",
   "metadata": {},
   "source": [
    "$$\\Rightarrow2b^2 = a^2$$"
   ]
  },
  {
   "cell_type": "markdown",
   "id": "87f32d9d",
   "metadata": {},
   "source": [
    "- $2$ must divide $a^2$ because its factored out on the LHS therefore $a^2$ is an even number [5]"
   ]
  },
  {
   "cell_type": "markdown",
   "id": "1d448688",
   "metadata": {},
   "source": [
    "$$\\Rightarrow2\\space |\\space a^2$$"
   ]
  },
  {
   "cell_type": "markdown",
   "id": "b0bf437a",
   "metadata": {},
   "source": [
    "- only odd numbers square to odd numbers ($3^2=9$ - both are odd) - even numbers square to even numbers ($10^2=100$ - both are even) [5]"
   ]
  },
  {
   "cell_type": "markdown",
   "id": "2a93ae22",
   "metadata": {},
   "source": [
    "- if $2$ divides $a^2$ and $a^2$ is an even number then $2$ also divides $a$ therefore $a$ is also an even number as well ($2$ evenly divides $a$) [5]"
   ]
  },
  {
   "cell_type": "markdown",
   "id": "a88093ed",
   "metadata": {},
   "source": [
    "- if the $\\sqrt{2}$ can be written as $\\frac{a}{b}$ where $a$ and $b$ are whole numbers in their simplest form then $2$ must divide $a$ (keeping in mind there is no number that divides both $a$ and $b$) [5]"
   ]
  },
  {
   "cell_type": "markdown",
   "id": "9e9b0a7b",
   "metadata": {},
   "source": [
    "$$\\Rightarrow2\\space |\\space a\\tag{1}$$"
   ]
  },
  {
   "cell_type": "markdown",
   "id": "9fc1b957",
   "metadata": {},
   "source": [
    "- following on assuming $2$ divides $a$ (must be true in this case) [5]"
   ]
  },
  {
   "cell_type": "markdown",
   "id": "3c4394d5",
   "metadata": {},
   "source": [
    "$$2\\space |\\space a$$"
   ]
  },
  {
   "cell_type": "markdown",
   "id": "b22e769f",
   "metadata": {},
   "source": [
    "- previously showed that $2$ most divide $a^2$ [5]"
   ]
  },
  {
   "cell_type": "markdown",
   "id": "d6cc580a",
   "metadata": {},
   "source": [
    "$$\\Rightarrow2\\space |\\space a^2$$"
   ]
  },
  {
   "cell_type": "markdown",
   "id": "45025488",
   "metadata": {},
   "source": [
    "- this leads to the conclusion that $4$ must divide $a^2$ because there must be a copy of $2$ in one of the $a$ and a copies of $2$ in the other $a$ so there must be two copies of $2$ in $a^2$ [5]"
   ]
  },
  {
   "cell_type": "markdown",
   "id": "aecc50f6",
   "metadata": {},
   "source": [
    "$$\\Rightarrow4\\space |\\space a^2$$"
   ]
  },
  {
   "cell_type": "markdown",
   "id": "cedbd8d8",
   "metadata": {},
   "source": [
    "- previously showed that $a^2$ equals $2b^2$ [5]"
   ]
  },
  {
   "cell_type": "markdown",
   "id": "0e90cf9e",
   "metadata": {},
   "source": [
    "$$\\Rightarrow2b^2 = a^2$$"
   ]
  },
  {
   "cell_type": "markdown",
   "id": "a2e5238e",
   "metadata": {},
   "source": [
    "- replace the $a^2$ with $2b^2$ then $4$ must divide $2b^2$ [5]"
   ]
  },
  {
   "cell_type": "markdown",
   "id": "487c9ec2",
   "metadata": {},
   "source": [
    "$$\\Rightarrow4\\space |\\space 2b^2$$"
   ]
  },
  {
   "cell_type": "markdown",
   "id": "ffc94743",
   "metadata": {},
   "source": [
    "- this means that if factoring out the $2$  then $2$ must divide $b^2$ [5]"
   ]
  },
  {
   "cell_type": "markdown",
   "id": "d1fd1669",
   "metadata": {},
   "source": [
    "$$\\Rightarrow2\\space |\\space b^2$$"
   ]
  },
  {
   "cell_type": "markdown",
   "id": "a3bf6b0f",
   "metadata": {},
   "source": [
    "- which again means that $2$ divides $b$ [5]"
   ]
  },
  {
   "cell_type": "markdown",
   "id": "1aa9a9d3",
   "metadata": {},
   "source": [
    "$$\\Rightarrow2\\space |\\space b\\tag{2}$$ "
   ]
  },
  {
   "cell_type": "markdown",
   "id": "03694f8d",
   "metadata": {},
   "source": [
    "- this is a contradiction given that $2$ divides $a$ ``(Eq. (1))`` and $2$ divides $b$ ``(Eq. (2))`` [5]"
   ]
  },
  {
   "cell_type": "markdown",
   "id": "ca9001e2",
   "metadata": {},
   "source": [
    "$$\\Rightarrow2\\space |\\space a$$\n",
    "\n",
    "$$\\Rightarrow2\\space |\\space b$$"
   ]
  },
  {
   "cell_type": "markdown",
   "id": "cd22da78",
   "metadata": {},
   "source": [
    "- it was assumed from the start that $\\frac{a}{b}$ was in its simplest form (no whole number other than $1$ divided both $a$ and $b$ evenly) but now have it that $2$ does divide $a$ and $b$ [5]"
   ]
  },
  {
   "cell_type": "markdown",
   "id": "7e5d3685",
   "metadata": {},
   "source": [
    "- this is a proof by contradiction whereby it starts out with the opposite of what is going to be proved - trying to show that the $\\sqrt{2}=\\frac{a}{b}$ cannot be true (where $a$ and $b$ are whole numbers) [5]"
   ]
  },
  {
   "cell_type": "markdown",
   "id": "3d7c4436",
   "metadata": {},
   "source": [
    "- start of by assumming it and arrive with a contradiction meaning that the original idea (original assumption) must be false ($\\sqrt{2}$ cannot be written as $\\frac{a}{b}$) [5]"
   ]
  },
  {
   "cell_type": "markdown",
   "id": "555f27ca",
   "metadata": {},
   "source": [
    "- this is a simple proof to show that the $\\sqrt{2}$ is irrational (number cannot be written as whole numbers - one whole number divided by another whole number) or not a ratio that is its not one whole number to another whole number (tricky number) [5]"
   ]
  },
  {
   "cell_type": "markdown",
   "id": "05868ca8",
   "metadata": {},
   "source": [
    "- this has a direct implication for programmers/data scientists and analysts/machine learners/statisticians with the profound realisation that the $\\sqrt{2}$ will never be stored in a variable (just cannot store it as a piece of data) [5]"
   ]
  },
  {
   "cell_type": "markdown",
   "id": "d4d48c68",
   "metadata": {},
   "source": [
    "- the reason why the $\\sqrt{2}$ cannot store it as a piece of data is that a number is rational if and only if its decimal expansion becomes periodic [5]"
   ]
  },
  {
   "cell_type": "markdown",
   "id": "627ef931",
   "metadata": {},
   "source": [
    "- $\\frac{1}{3}$ is a rational number (whole number $1$ over another whole number $3$) - its decimal expansion is $0.\\bar{3}$ (reoccurring $3$) - the $3$ just repeats and rational numbers always have a decimal expansion that eventually becomes periodic [5]"
   ]
  },
  {
   "cell_type": "markdown",
   "id": "33ae033c",
   "metadata": {},
   "source": [
    " - the $\\frac{1}{3}$ expansion is periodic from the start as it just repeats $3$ - the first few decimal places do not have to repeat but at some point it becomes repetitive (decimal expansion repeats again and again) [5]"
   ]
  },
  {
   "cell_type": "markdown",
   "id": "b971bd56",
   "metadata": {},
   "source": [
    "- take the $2.92372$ and from this point its $565656565656...$ then its guaranteed the number is a rational number because eventually the decimal expansion becomes periodic [5]"
   ]
  },
  {
   "cell_type": "markdown",
   "id": "d64398d1",
   "metadata": {},
   "source": [
    "- so rational numbers can be stored in terms of one integer over another or an array of two integers (storing two integers could store any rational number) [5]"
   ]
  },
  {
   "cell_type": "markdown",
   "id": "427fecb4",
   "metadata": {},
   "source": [
    "- the problem with numbers like the $\\sqrt{2}$ and $\\pi$ and $e$ is that these numbers are really interested in the real world but unfortunately cannot be stored in a discrete amount of data in variable on a machine - it possible to store an approximation albeit on a machine can store as many decimal places as required (maybe a billion - unlikely) but eventually will run out of storage space [5]"
   ]
  },
  {
   "cell_type": "markdown",
   "id": "3b283226",
   "metadata": {},
   "source": [
    "- the good news is that some of these irrational numbers even though they cannot be stored as data might be able to store with some sort of a procedure - a procedure that if needed can calculate as many decimal places of the $\\sqrt{2}$ [5]"
   ]
  },
  {
   "cell_type": "markdown",
   "id": "49758544",
   "metadata": {},
   "source": [
    "- this is a different idea whereby some numbers might have to be stored as procedures in which case can be calculated but cannot be stored as data because they just have an infinite decimal expansion that does not repeat [5]"
   ]
  },
  {
   "cell_type": "markdown",
   "id": "e70dc3e0",
   "metadata": {},
   "source": [
    "- not too concerned about the $\\sqrt{2}$ by itself just interested in pointing out that certain numbers are tricky to deal with on a machine and if doing some basic calculations (data science/statistics) need to learn that certain numbers have these features and to be careful when doing calculations with them [5]"
   ]
  },
  {
   "cell_type": "markdown",
   "id": "837afe17",
   "metadata": {},
   "source": [
    "- either going to be using an approximation or going to have work with them theoretically - important to try and make sure not to get rounding errors associated (not mess up calculations in some way) [5]"
   ]
  },
  {
   "cell_type": "markdown",
   "id": "4b655091",
   "metadata": {},
   "source": [
    "< [Table of Contents](#top) | [References](#references) >\n",
    "<a id=\"dataCountingCorrespondenceMeasuring\"></a>\n",
    "***\n",
    "###### $\\mathbb{N} \\leftrightarrow \\mathbb{R}$\n",
    "***"
   ]
  },
  {
   "cell_type": "markdown",
   "id": "73688730",
   "metadata": {},
   "source": [
    "- measuring numbers and counting numbers are a little bit quirky - given there is an infinite number of $\\mathbb{N}$ and an infinite number of $\\mathbb{R}$ is it possible to put both into correspondence with each other - are $\\mathbb{N}$ and  $\\mathbb{R}$ roughly capturing the same human idea - questioning if measuring is the same as counting is fundamental in computing / data analytics / machine learning and statistics [4]"
   ]
  },
  {
   "cell_type": "markdown",
   "id": "2e6aaafd",
   "metadata": {},
   "source": [
    "- types in programming languages (invented to make a programmers life easier) do not actually have a basis in reality - all data stored on a computer is countable (like the counting numbers) - even floating point numbers are just integers masquerading as measuring numbers but its easy to get caught out because they do not have infinite accuracy like $\\mathbb{R}$ [4]"
   ]
  },
  {
   "cell_type": "markdown",
   "id": "39e571f6",
   "metadata": {},
   "source": [
    "- over the past couple of hundred years there has been a lot of investigation as to the meaning of $\\mathbb{R}$ (lots of different ideas) but its more nebulous/vague than people realised [4]"
   ]
  },
  {
   "cell_type": "markdown",
   "id": "7fac4660",
   "metadata": {},
   "source": [
    "- the $\\mathbb{N}$ can be put into a one-to-one correspondence with the $\\mathbb{2N}$ suggesting that there is as many even natural numbers as there are natural numbers which is surprising result - is the same true of $\\mathbb{R}$ [4]"
   ]
  },
  {
   "cell_type": "markdown",
   "id": "523e13d6",
   "metadata": {},
   "source": [
    "- there is an infinity of $\\mathbb{N}$ but in some very strange sense is smaller than the $\\mathbb{R}$ and therefore cannot be put into a one-to-one correspondence - imagining that it is possible to put the $\\mathbb{N}$ and $\\mathbb{R}$ in correspondence will prove that there is an issue whereby can come up with another $\\mathbb{R}$ that is definitely not in the correspondence [4]"
   ]
  },
  {
   "cell_type": "markdown",
   "id": "8ae6c1be",
   "metadata": {},
   "source": [
    "- LHS: $\\mathbb{N}$ all the way to infinity [4]"
   ]
  },
  {
   "cell_type": "markdown",
   "id": "c9ceaf5d",
   "metadata": {},
   "source": [
    "- RHS: $\\mathbb{R}$ (imagining that these could be any numbers) [4]"
   ]
  },
  {
   "cell_type": "markdown",
   "id": "4409bce2",
   "metadata": {},
   "source": [
    "|$\\mathbb{N}$|$\\leftrightarrow$|$\\mathbb{R}$|\n",
    "|:------------------------- | :------------------------- | :------------------------- |\n",
    "|$1$|$\\leftrightarrow$|$43.17235759...$|\n",
    "|$2$|$\\leftrightarrow$|$3.19535351...$|\n",
    "|$3$|$\\leftrightarrow$|$209.000000000...$|\n",
    "|$4$|$\\leftrightarrow$|$0.12345678...$|\n",
    "|$...$|$\\leftrightarrow$|$...$|\n",
    "|$?$|$\\leftrightarrow$|$0.2015$|"
   ]
  },
  {
   "cell_type": "markdown",
   "id": "ab6febb2",
   "metadata": {},
   "source": [
    "- pairing the numbers of one set (flavour set ``vanilla`` / ``chocolate`` / ``strawberry``) with the members of another set $\\{1,2,3,...\\}$ in a one-to-one system where everything was covered then the two sets are of the same size - applying this to the $\\mathbb{N}$ and $\\mathbb{R}$ then can come up with a $\\mathbb{R}$ that is definitely not in the list on the RHS [4]"
   ]
  },
  {
   "cell_type": "markdown",
   "id": "84564b7b",
   "metadata": {},
   "source": [
    "- $\\mathbb{N}=1$ paired with the $\\mathbb{R}=43.17235759$: 1st decimal place has a $1$ so changing the new number to a $2$ (if its a one then change it to a two and if its a two then change it to a three and if its a three then change it to a four and so on - if its a nine change it back around to a zero [4]"
   ]
  },
  {
   "cell_type": "markdown",
   "id": "1e811ea8",
   "metadata": {},
   "source": [
    "|$\\mathbb{N}$|$\\leftrightarrow$|$\\mathbb{R}$|\n",
    "|:------------------------- | :------------------------- | :------------------------- |\n",
    "|$1$|$\\leftrightarrow$|$43.1723...$|\n",
    "|$?$|$\\leftrightarrow$|$0.2$|"
   ]
  },
  {
   "cell_type": "markdown",
   "id": "672af9e2",
   "metadata": {},
   "source": [
    "- $\\mathbb{N}=2$ paired with the $\\mathbb{R}=3.19535351$: 2nd decimal place has a $9$ so changing the new number to a $0$ [4]"
   ]
  },
  {
   "cell_type": "markdown",
   "id": "45b557e5",
   "metadata": {},
   "source": [
    "|$\\mathbb{N}$|$\\leftrightarrow$|$\\mathbb{R}$|\n",
    "|:------------------------- | :------------------------- | :------------------------- |\n",
    "|$2$|$\\leftrightarrow$|$3.1953...$|\n",
    "|$?$|$\\leftrightarrow$|$0.20$|"
   ]
  },
  {
   "cell_type": "markdown",
   "id": "3b6d43a9",
   "metadata": {},
   "source": [
    "- $\\mathbb{N}=3$ paired with the $\\mathbb{R}=209.000000000$: 3rd decimal place has a $0$ so changing the new number to a $1$ [4]"
   ]
  },
  {
   "cell_type": "markdown",
   "id": "5a6a162f",
   "metadata": {},
   "source": [
    "|$\\mathbb{N}$|$\\leftrightarrow$|$\\mathbb{R}$|\n",
    "|:------------------------- | :------------------------- | :------------------------- |\n",
    "|$3$|$\\leftrightarrow$|$209.00..$|\n",
    "|$?$|$\\leftrightarrow$|$0.201$|"
   ]
  },
  {
   "cell_type": "markdown",
   "id": "87221c7c",
   "metadata": {},
   "source": [
    "- $\\mathbb{N}=4$ paired with the $\\mathbb{R}=0.12345678$: 4th decimal place has a $4$ so changing it to a $5$ [4]"
   ]
  },
  {
   "cell_type": "markdown",
   "id": "48f79663",
   "metadata": {},
   "source": [
    "|$\\mathbb{N}$|$\\leftrightarrow$|$\\mathbb{R}$|\n",
    "|:------------------------- | :------------------------- | :------------------------- |\n",
    "|$4$|$\\leftrightarrow$|$0.1234...$|\n",
    "|$?$|$\\leftrightarrow$|$0.2015$|"
   ]
  },
  {
   "cell_type": "markdown",
   "id": "5ec49291",
   "metadata": {},
   "source": [
    "- continues on for all the numbers out to infinity paired up with the counting numbers - this new number created $0.2015$ is a real number - it exists but its definitely not any of those numbers in this list on the RHS because it differs from the first number in the list versus the first decimal place and differs from the second number in the list versus the second decimal place and differs from the third number in the list versus the third decimal place and so on [4]"
   ]
  },
  {
   "cell_type": "markdown",
   "id": "b52074cf",
   "metadata": {},
   "source": [
    "- created a real number that is not paired up with any natural number which means that the original idea of pairing these two sets up $\\mathbb{N} \\leftrightarrow \\mathbb{R}$ item to item (one-to-one) does not work [4]"
   ]
  },
  {
   "cell_type": "markdown",
   "id": "2a22252e",
   "metadata": {},
   "source": [
    "$$? \\leftrightarrow 0.2015...$$"
   ]
  },
  {
   "cell_type": "markdown",
   "id": "6f8bdd24",
   "metadata": {},
   "source": [
    "- this is how Turing proved that there must be numbers that can never be calculated - theres no computer that can calculate certain numbers (vast majority) - there are more real numbers than natural numbers even though they are both infinite sets (cannot pair them up) - there will always be numbers left over with real numbers on the RHS that are not paired with anything in the natural numbers on the LHS [4]"
   ]
  },
  {
   "cell_type": "markdown",
   "id": "b1f5f0b1",
   "metadata": {},
   "source": [
    "- computer programs are countable (types) - all computer programs are binary strings - binary strings can be interpreted as integers - positive integers are just counting numbers - all computer programs can be put into one-to-one correspondence with the counting numbers but there are numbers that cannot (leftover when measuring things) - so not all numbers are computable [4]"
   ]
  },
  {
   "cell_type": "markdown",
   "id": "729f249d",
   "metadata": {},
   "source": [
    "- this is an interesting fact when talking about data - the implication is that there might in nature actually be different types of numbers - programming languages have types with the idea that different types of data exist but they are really just veneer for humans to think about concepts - just a convenience and are always limited - can find fringe exceptions to certain types of data that just do not fit into this framework (programming languages) that gain the system a little bit [4]"
   ]
  },
  {
   "cell_type": "markdown",
   "id": "0ce8dc0a",
   "metadata": {},
   "source": [
    "- just looking at everyday things that exist in the real world such as counting numbers (counting whatever) then measuring things (precision engineering) the numbers used for measuring seem to be fundamentally different from the numbers used for counting - its nothing to do with computing but has implications for computing - seems to be something that actually exists in reality and is important to realise when thinking about data that there are certain numbers systems that seem to be different from others [4]"
   ]
  },
  {
   "cell_type": "markdown",
   "id": "d6a5c39c",
   "metadata": {},
   "source": [
    "- Turings original paper (Turing Machines) argued that computers are limited and will never be able to compute certain numbers (period before mechanical machines / electronic machines - a computer was a humans) - Turings point was that even those people on their own (or the electronic / mechanical machines not yet built) would not be able to compute certain numbers - no algorithm will compute certain numbers and will never compute them [4]"
   ]
  },
  {
   "cell_type": "markdown",
   "id": "cb5fd74d",
   "metadata": {},
   "source": [
    "- when taking measurements (engineering that really relied on measurements) it seems that in reality theres different limits on what can actually be measured - the planck length distinguishes once down to a certain level of measurement there are two different points [4]"
   ]
  },
  {
   "cell_type": "markdown",
   "id": "888d60c4",
   "metadata": {},
   "source": [
    "- there is a real basis to the idea that the measuring numbers are bigger than the counting numbers - that the measuring numbers do have an existence in reality - key take home is that measuring is different to counting and does have proper implications in computing [4]"
   ]
  },
  {
   "cell_type": "markdown",
   "id": "f0b4f7f5",
   "metadata": {},
   "source": [
    "***\n",
    "### END"
   ]
  },
  {
   "cell_type": "markdown",
   "id": "b1b13817",
   "metadata": {},
   "source": [
    "< [Table of Contents](#top) | [References](#references) >\n",
    "<a id=\"datasets\"></a>\n",
    "***\n",
    "### Datasets\n",
    "***"
   ]
  },
  {
   "cell_type": "markdown",
   "id": "f36ea1e3",
   "metadata": {},
   "source": [
    "&#x1F6A7;"
   ]
  },
  {
   "cell_type": "markdown",
   "id": "5616c68b",
   "metadata": {},
   "source": [
    "< [Table of Contents](#top) | [References](#references) >\n",
    "***"
   ]
  },
  {
   "cell_type": "markdown",
   "id": "624fb71c",
   "metadata": {},
   "source": [
    "* [``csv``](https://nbviewer.jupyter.org/github/SeanOhAileasa/fda-datasets/blob/main/fda-datasets.ipynb#introductionCommaSeparatedValues) **[External Link]**<br/><br/>\n",
    "    * [Caveats](https://nbviewer.jupyter.org/github/SeanOhAileasa/fda-datasets/blob/main/fda-datasets.ipynb#introductionCommaSeparatedValuesCaveats) **[External Link]**<br/><br/>\n",
    "    * [Benefits](https://nbviewer.jupyter.org/github/SeanOhAileasa/fda-datasets/blob/main/fda-datasets.ipynb#introductionCommaSeparatedValuesBenefits) **[External Link]**<br/><br/>\n",
    "        * [Drawback](https://nbviewer.jupyter.org/github/SeanOhAileasa/fda-datasets/blob/main/fda-datasets.ipynb#introductionCommaSeparatedValuesDrawback) **[External Link]**<br/><br/>\n",
    "* [``R``](https://nbviewer.jupyter.org/github/SeanOhAileasa/fda-datasets/blob/main/fda-datasets.ipynb#r) **[External Link]**<br/><br/>\n",
    "    * [Dataset](https://nbviewer.jupyter.org/github/SeanOhAileasa/fda-datasets/blob/main/fda-datasets.ipynb#rDatasets) **[External Link]**<br/><br/>\n",
    "* [UC Irvine](https://nbviewer.jupyter.org/github/SeanOhAileasa/fda-datasets/blob/main/fda-datasets.ipynb#ucIrvine) **[External Link]**<br/><br/>\n",
    "    * [Dataset](https://nbviewer.jupyter.org/github/SeanOhAileasa/fda-datasets/blob/main/fda-datasets.ipynb#ucIrvineDataset) **[External Link]**<br/><br/>\n",
    "* [``Pandas``](https://nbviewer.jupyter.org/github/SeanOhAileasa/fda-datasets/blob/main/fda-datasets.ipynb#solutionPandas) **[External Link]**<br/><br/>\n",
    "    * [``read_csv``](https://nbviewer.jupyter.org/github/SeanOhAileasa/fda-datasets/blob/main/fda-datasets.ipynb#solutionPandasreadcsv) **[External Link]**<br/><br/>\n",
    "* [``seaborn``](https://nbviewer.jupyter.org/github/SeanOhAileasa/fda-datasets/blob/main/fda-datasets.ipynb#solutionPandasInvestigation) **[External Link]**<br/><br/>\n",
    "    * [``pairplot``](https://nbviewer.jupyter.org/github/SeanOhAileasa/fda-datasets/blob/main/fda-datasets.ipynb#solutionPandasseabornpairplot) **[External Link]**<br/><br/>\n",
    "    * [``PairGrid``](https://nbviewer.jupyter.org/github/SeanOhAileasa/fda-datasets/blob/main/fda-datasets.ipynb#solutionPandasseabornPairGrid) **[External Link]**<br/><br/>\n",
    "    * [``kdeplot``](https://nbviewer.jupyter.org/github/SeanOhAileasa/fda-datasets/blob/main/fda-datasets.ipynb#solutionPandasInvestigationKernelDensity) **[External Link]**<br/><br/>\n",
    "        * [``displot`` / ``histplot``](https://nbviewer.jupyter.org/github/SeanOhAileasa/fda-datasets/blob/main/fda-datasets.ipynb#solutionPandasInvestigationdisplothistplot) **[External Link]** <br/><br/>"
   ]
  },
  {
   "cell_type": "markdown",
   "id": "a584c9ad",
   "metadata": {},
   "source": [
    "***\n",
    "### END"
   ]
  },
  {
   "cell_type": "markdown",
   "id": "116cfe32",
   "metadata": {},
   "source": [
    "< [Table of Contents](#top) | [References](#references) >\n",
    "<a id=\"fdaSimulation\"></a>\n",
    "***\n",
    "### Simulation\n",
    "***"
   ]
  },
  {
   "cell_type": "markdown",
   "id": "944fafe1",
   "metadata": {},
   "source": [
    "&#x1F6A7;"
   ]
  },
  {
   "cell_type": "markdown",
   "id": "58c0e466",
   "metadata": {},
   "source": [
    "< [Table of Contents](#top) | [References](#references) >\n",
    "***"
   ]
  },
  {
   "cell_type": "markdown",
   "id": "40860417",
   "metadata": {},
   "source": [
    "* [Abstract](https://nbviewer.jupyter.org/github/SeanOhAileasa/fda-simulation/blob/main/fda-simulation.ipynb#abstract) **[External Link]** <br/><br/>\n",
    "* [Introduction](https://nbviewer.jupyter.org/github/SeanOhAileasa/fda-simulation/blob/main/fda-simulation.ipynb#introduction) **[External Link]** <br/><br/>\n",
    "* [Solution](https://nbviewer.jupyter.org/github/SeanOhAileasa/fda-simulation/blob/main/fda-simulation.ipynb#solution) **[External Link]** <br/><br/>\n",
    "    * [Wind](https://nbviewer.jupyter.org/github/SeanOhAileasa/fda-simulation/blob/main/fda-simulation.ipynb#fdaSimulationSolutionWind) $(u)$ **[External Link]** <br/><br/>\n",
    "        * [Simulate](https://nbviewer.jupyter.org/github/SeanOhAileasa/fda-simulation/blob/main/fda-simulation.ipynb#fdaSimulationSolutionWindSimulate) **[External Link]** <br/><br/>\n",
    "            * [``numpy``](https://nbviewer.jupyter.org/github/SeanOhAileasa/fda-simulation/blob/main/fda-simulation.ipynb#fdaSimulationSolutionnumpy) **[External Link]** <br/><br/>\n",
    "                * [``linspace``](https://nbviewer.jupyter.org/github/SeanOhAileasa/fda-simulation/blob/main/fda-simulation.ipynb#fdaSimulationSolutionnumpylinspace) **[External Link]** <br/><br/>\n",
    "    * [Power](https://nbviewer.jupyter.org/github/SeanOhAileasa/fda-simulation/blob/main/fda-simulation.ipynb#fdaSimulationSolutionPower) $(P)$ **[External Link]** <br/><br/>\n",
    "        * [``numpy``](https://nbviewer.jupyter.org/github/SeanOhAileasa/fda-simulation/blob/main/fda-simulation.ipynb#fdaSimulationSolutionPowernumpy) &#x1F6A7; (&#8594; Wind $(u)$ &#8594; Simulate) **[External Link]** <br/><br/>\n",
    "            * [``exp``](https://nbviewer.jupyter.org/github/SeanOhAileasa/fda-simulation/blob/main/fda-simulation.ipynb#fdaSimulationSolutionPowernumpyexp) **[External Link]** <br/><br/>\n",
    "    * [Dataset](https://nbviewer.jupyter.org/github/SeanOhAileasa/fda-simulation/blob/main/fda-simulation.ipynb#fdaSimulationSolutionPu) $P(u)$ **[External Link]** <br/><br/>\n",
    "        * [``pandas``](https://nbviewer.jupyter.org/github/SeanOhAileasa/fda-simulation/blob/main/fda-simulation.ipynb#fdaSimulationSolutionWindPandas) **[External Link]** <br/><br/>\n",
    "            * [``DataFrame``](https://nbviewer.jupyter.org/github/SeanOhAileasa/fda-simulation/blob/main/fda-simulation.ipynb#fdaSimulationSolutionWindPandasDataFrame) **[External Link]** <br/><br/>\n",
    "* [Conclusion](https://nbviewer.jupyter.org/github/SeanOhAileasa/fda-simulation/blob/main/fda-simulation.ipynb#conclusion) **[External Link]** <br/><br/>\n",
    "    * [Plot](https://nbviewer.jupyter.org/github/SeanOhAileasa/fda-simulation/blob/main/fda-simulation.ipynb#fdaSimulationConclusionPlot) **[External Link]** <br/><br/>\n",
    "        * [``seaborn``](https://nbviewer.jupyter.org/github/SeanOhAileasa/fda-simulation/blob/main/fda-simulation.ipynb#fdaSimulationConclusionPlotseaborn) **[External Link]** <br/><br/>\n",
    "            * [``scatterplot``](https://nbviewer.jupyter.org/github/SeanOhAileasa/fda-simulation/blob/main/fda-simulation.ipynb#fdaSimulationConclusionPlotseabornscatterplot) **[External Link]**"
   ]
  },
  {
   "cell_type": "markdown",
   "id": "1b78328c",
   "metadata": {},
   "source": [
    "< [Table of Contents](#top) | [References](#references) >\n",
    "<a id=\"fdaSimulationxy\"></a>\n",
    "***\n",
    "### Variables $x$ $y$\n",
    "***"
   ]
  },
  {
   "cell_type": "markdown",
   "id": "7de914d4",
   "metadata": {},
   "source": [
    "- simulating a relationship between $x$ and $y$ [10]"
   ]
  },
  {
   "cell_type": "markdown",
   "id": "5bf119a0",
   "metadata": {},
   "source": [
    "< [Table of Contents](#top) | [References](#references) >\n",
    "<a id=\"fdaSimulationRealWorldnumpy\"></a>\n",
    "***\n",
    "###### ``numpy``\n",
    "***"
   ]
  },
  {
   "cell_type": "code",
   "execution_count": 1,
   "id": "7856f623",
   "metadata": {},
   "outputs": [],
   "source": [
    "import numpy as np"
   ]
  },
  {
   "cell_type": "markdown",
   "id": "fc166c2c",
   "metadata": {},
   "source": [
    "< [Table of Contents](#top) | [References](#references) >\n",
    "<a id=\"fdaSimulationRealWorldnumpylinspace\"></a>\n",
    "***\n",
    "###### ``linspace``\n",
    "***"
   ]
  },
  {
   "cell_type": "code",
   "execution_count": 2,
   "id": "3c63a60b",
   "metadata": {},
   "outputs": [],
   "source": [
    "x=np.linspace(start=0.0,stop=100.0,num=100)\n",
    "y=x**2"
   ]
  },
  {
   "cell_type": "code",
   "execution_count": 3,
   "id": "e780416b",
   "metadata": {},
   "outputs": [
    {
     "data": {
      "text/plain": [
       "(100,)"
      ]
     },
     "execution_count": 3,
     "metadata": {},
     "output_type": "execute_result"
    }
   ],
   "source": [
    "x.shape"
   ]
  },
  {
   "cell_type": "markdown",
   "id": "fefd8429",
   "metadata": {},
   "source": [
    "< [Table of Contents](#top) | [References](#references) >\n",
    "<a id=\"fdaSimulationRealWorldseaborn\"></a>\n",
    "***\n",
    "###### ``seaborn``\n",
    "***"
   ]
  },
  {
   "cell_type": "code",
   "execution_count": 4,
   "id": "1448a4a3",
   "metadata": {},
   "outputs": [],
   "source": [
    "import seaborn as sns"
   ]
  },
  {
   "cell_type": "markdown",
   "id": "54d26db9",
   "metadata": {},
   "source": [
    "< [Table of Contents](#top) | [References](#references) >\n",
    "<a id=\"fdaSimulationRealWorldseabornrelplot\"></a>\n",
    "***\n",
    "###### ``relplot``\n",
    "***"
   ]
  },
  {
   "cell_type": "code",
   "execution_count": 5,
   "id": "d260f201",
   "metadata": {},
   "outputs": [
    {
     "data": {
      "text/html": [
       "<style>.container { width:100% !important; }</style>"
      ],
      "text/plain": [
       "<IPython.core.display.HTML object>"
      ]
     },
     "metadata": {},
     "output_type": "display_data"
    }
   ],
   "source": [
    "from sys import path; path.insert(1,\"../src\")\n",
    "from fubar import fDarkReader\n",
    "fDarkReader()"
   ]
  },
  {
   "cell_type": "code",
   "execution_count": 6,
   "id": "1b7136c4",
   "metadata": {},
   "outputs": [
    {
     "name": "stdout",
     "output_type": "stream",
     "text": [
      "# repository ./SeanOhAileasa\r\n",
      "def fDarkReader():\r\n",
      "    \"\"\"Unable to determine plot ticks when using https://darkreader.org.\r\n",
      "\r\n",
      "Input:\r\n",
      "Process: (matplotlib.style.core.use)\r\n",
      "Output:\r\n",
      "\"\"\"\r\n",
      "    from matplotlib.style.core import use\r\n",
      "    use({\"default\"})\r\n",
      "# --- END ---\r\n"
     ]
    }
   ],
   "source": [
    "%%script bash\n",
    "grep -1 \"def fDarkReader\" ../src/fubar.py -A 9"
   ]
  },
  {
   "cell_type": "code",
   "execution_count": 7,
   "id": "c1776445",
   "metadata": {},
   "outputs": [],
   "source": [
    "from matplotlib.style.core import use\n",
    "use(\"ggplot\")"
   ]
  },
  {
   "cell_type": "markdown",
   "id": "7482b81a",
   "metadata": {},
   "source": [
    "- dots on the grid (not a line plot or a bar chart) just dots all over the place - typically called scatter plots because the dots are scattered across the plot [10]"
   ]
  },
  {
   "cell_type": "code",
   "execution_count": 8,
   "id": "2a613d64",
   "metadata": {},
   "outputs": [
    {
     "data": {
      "image/png": "[encoded data removed]",
      "text/plain": [
       "<Figure size 500x500 with 1 Axes>"
      ]
     },
     "metadata": {},
     "output_type": "display_data"
    }
   ],
   "source": [
    "sns.relplot(x=x,y=y);"
   ]
  },
  {
   "cell_type": "markdown",
   "id": "63bc3a83",
   "metadata": {},
   "source": [
    "- with $y=x^{5}$ the curve is much steeper and has a much larger last value of $y$ - taken the y-axis and turned it into $0$ all the way up to $1.0$ - the $1e10$ at the top means this is actually $1\\times10^{10}$ (exponent is $10$) [10]"
   ]
  },
  {
   "cell_type": "code",
   "execution_count": 9,
   "id": "9f36d0f6",
   "metadata": {},
   "outputs": [],
   "source": [
    "x=np.linspace(start=0.0,stop=100.0,num=10)\n",
    "y=x**5"
   ]
  },
  {
   "cell_type": "code",
   "execution_count": 10,
   "id": "b625d944",
   "metadata": {},
   "outputs": [
    {
     "data": {
      "image/png": "[encoded data removed]",
      "text/plain": [
       "<Figure size 500x500 with 1 Axes>"
      ]
     },
     "metadata": {},
     "output_type": "display_data"
    }
   ],
   "source": [
    "sns.relplot(x=x,y=y);"
   ]
  },
  {
   "cell_type": "markdown",
   "id": "31aba3eb",
   "metadata": {},
   "source": [
    "- assigning $x$ to $y$ produces a $45^{\\circ}$ straight line (the $x$ value is the same as the $y$ value) [10]"
   ]
  },
  {
   "cell_type": "code",
   "execution_count": 11,
   "id": "aec06d26",
   "metadata": {},
   "outputs": [],
   "source": [
    "y=x"
   ]
  },
  {
   "cell_type": "code",
   "execution_count": 12,
   "id": "444d93a9",
   "metadata": {},
   "outputs": [
    {
     "data": {
      "image/png": "[encoded data removed]",
      "text/plain": [
       "<Figure size 500x500 with 1 Axes>"
      ]
     },
     "metadata": {},
     "output_type": "display_data"
    }
   ],
   "source": [
    "sns.relplot(x=x,y=y);"
   ]
  },
  {
   "cell_type": "markdown",
   "id": "fbd418b1",
   "metadata": {},
   "source": [
    "< [Table of Contents](#top) | [References](#references) >\n",
    "<a id=\"fdaSimulationNoise\"></a>\n",
    "***\n",
    "### Noise\n",
    "***"
   ]
  },
  {
   "cell_type": "markdown",
   "id": "07269bd1",
   "metadata": {},
   "source": [
    "- simulating a real-world situation where there might be a relationship between $y$ and $x$ with a little bit of variation (noise) [10]"
   ]
  },
  {
   "cell_type": "markdown",
   "id": "1fe94243",
   "metadata": {},
   "source": [
    "< [Table of Contents](#top) | [References](#references) >\n",
    "<a id=\"fdaSimulationNoisenumpy\"></a>\n",
    "***\n",
    "###### ``numpy``\n",
    "***"
   ]
  },
  {
   "cell_type": "markdown",
   "id": "58bb0317",
   "metadata": {},
   "source": [
    "&#x1F6A7;"
   ]
  },
  {
   "cell_type": "markdown",
   "id": "fc75657f",
   "metadata": {},
   "source": [
    "< [Table of Contents](#top) | [References](#references) >\n",
    "<a id=\"fdaSimulationNoisenumpyrandom\"></a>\n",
    "***\n",
    "###### ``random``\n",
    "***"
   ]
  },
  {
   "cell_type": "markdown",
   "id": "9690d9df",
   "metadata": {},
   "source": [
    "- can use ``random`` to dummy up or simulate variables thats follow a certain specified pattern [10]"
   ]
  },
  {
   "cell_type": "markdown",
   "id": "ed4261c4",
   "metadata": {},
   "source": [
    "< [Table of Contents](#top) | [References](#references) >\n",
    "<a id=\"fdaSimulationNoisenumpyrandomnormal\"></a>\n",
    "***\n",
    "###### ``normal``\n",
    "***"
   ]
  },
  {
   "cell_type": "markdown",
   "id": "51c67c99",
   "metadata": {},
   "source": [
    "- ``normal`` will add a little bit of random ``noise`` to the $y$ values resulting in both the $x$ and $y$ not exactly equal but jiggled around a straight line [10]"
   ]
  },
  {
   "cell_type": "markdown",
   "id": "3cb09262",
   "metadata": {},
   "source": [
    "- representing something in the real-world that has an underlying relationship $y=x$ but because of measurement error or some other variables etc this might affect the $y$ value (whatever $y$ is in the real-world) [10]"
   ]
  },
  {
   "cell_type": "markdown",
   "id": "2b044539",
   "metadata": {},
   "source": [
    "- may be willing to accept that a straight line relationship exists between $y$ and $x$ [10]"
   ]
  },
  {
   "cell_type": "markdown",
   "id": "8dd8b8de",
   "metadata": {},
   "source": [
    "- the little bit of variation (``noise`` - measurement error) is totally random and indeed it looks like theres a straight line relationship here [10]"
   ]
  },
  {
   "cell_type": "code",
   "execution_count": 13,
   "id": "7432d92b",
   "metadata": {},
   "outputs": [],
   "source": [
    "x=np.linspace(start=0.0,stop=100.0,num=40)\n",
    "noise=1\n",
    "y=x+np.random.normal(0,noise,len(x))"
   ]
  },
  {
   "cell_type": "code",
   "execution_count": 14,
   "id": "afb8b600",
   "metadata": {},
   "outputs": [
    {
     "data": {
      "image/png": "[encoded data removed]",
      "text/plain": [
       "<Figure size 500x500 with 1 Axes>"
      ]
     },
     "metadata": {},
     "output_type": "display_data"
    }
   ],
   "source": [
    "sns.relplot(x=x,y=y);"
   ]
  },
  {
   "cell_type": "markdown",
   "id": "e33d2009",
   "metadata": {},
   "source": [
    "- increasing the ``noise`` even though the points are jiggling around even more now it still looks like there is a relationship between $y$ and $x$ (can fit a straight line to it) [10]"
   ]
  },
  {
   "cell_type": "code",
   "execution_count": 15,
   "id": "82465fe9",
   "metadata": {},
   "outputs": [],
   "source": [
    "noise=10\n",
    "y=x+np.random.normal(0,noise,len(x))"
   ]
  },
  {
   "cell_type": "code",
   "execution_count": 16,
   "id": "6076bd29",
   "metadata": {},
   "outputs": [
    {
     "data": {
      "image/png": "[encoded data removed]",
      "text/plain": [
       "<Figure size 500x500 with 1 Axes>"
      ]
     },
     "metadata": {},
     "output_type": "display_data"
    }
   ],
   "source": [
    "sns.relplot(x=x,y=y);"
   ]
  },
  {
   "cell_type": "markdown",
   "id": "a7f77b60",
   "metadata": {},
   "source": [
    "- now probably further away from a straight line now [10]"
   ]
  },
  {
   "cell_type": "code",
   "execution_count": 17,
   "id": "4a4dbc81",
   "metadata": {},
   "outputs": [],
   "source": [
    "noise=30\n",
    "y=x+np.random.normal(0,noise,len(x))"
   ]
  },
  {
   "cell_type": "code",
   "execution_count": 18,
   "id": "bcf9c1bf",
   "metadata": {},
   "outputs": [
    {
     "data": {
      "image/png": "[encoded data removed]",
      "text/plain": [
       "<Figure size 500x500 with 1 Axes>"
      ]
     },
     "metadata": {},
     "output_type": "display_data"
    }
   ],
   "source": [
    "sns.relplot(x=x,y=y);"
   ]
  },
  {
   "cell_type": "markdown",
   "id": "7a83a4ab",
   "metadata": {},
   "source": [
    "- if there is a square relationship then all of a sudden this ``noise`` does not look as bad and thats because the $x^2$ is swamping out the normal ``noise`` [10]"
   ]
  },
  {
   "cell_type": "code",
   "execution_count": 19,
   "id": "03bee2ba",
   "metadata": {},
   "outputs": [],
   "source": [
    "y=x**2+np.random.normal(0,noise,len(x))"
   ]
  },
  {
   "cell_type": "code",
   "execution_count": 20,
   "id": "74f5621e",
   "metadata": {},
   "outputs": [
    {
     "data": {
      "image/png": "[encoded data removed]",
      "text/plain": [
       "<Figure size 500x500 with 1 Axes>"
      ]
     },
     "metadata": {},
     "output_type": "display_data"
    }
   ],
   "source": [
    "sns.relplot(x=x,y=y);"
   ]
  },
  {
   "cell_type": "markdown",
   "id": "527b6320",
   "metadata": {},
   "source": [
    "- increasing the ``noise`` substantially all of a sudden the $y=x^{2}$ relationship is looking a little shaky [10]"
   ]
  },
  {
   "cell_type": "code",
   "execution_count": 21,
   "id": "d3df8c6b",
   "metadata": {},
   "outputs": [],
   "source": [
    "noise=1000\n",
    "y=x**2+np.random.normal(0,noise,len(x))"
   ]
  },
  {
   "cell_type": "code",
   "execution_count": 22,
   "id": "5112c8b5",
   "metadata": {},
   "outputs": [
    {
     "data": {
      "image/png": "[encoded data removed]",
      "text/plain": [
       "<Figure size 500x500 with 1 Axes>"
      ]
     },
     "metadata": {},
     "output_type": "display_data"
    }
   ],
   "source": [
    "sns.relplot(x=x,y=y);"
   ]
  },
  {
   "cell_type": "markdown",
   "id": "97eebae3",
   "metadata": {},
   "source": [
    "- having a lot of $x$ values spread out can then use ``numpy.random`` to pretend to have measured some sort of related $y$ variables that followed a certain relationship (then plot that relationship) [10]"
   ]
  },
  {
   "cell_type": "markdown",
   "id": "3fd54349",
   "metadata": {},
   "source": [
    "- adding noise to the plot in order to see how this affects the relationship in the real-world - getting insight (some sort of feeling) for what the dataset contains [10]"
   ]
  },
  {
   "cell_type": "markdown",
   "id": "15fd0541",
   "metadata": {},
   "source": [
    "- building up an intuition about data (building an instinct) and for the types of relationships that might be seen in a dataset is to simulate datasets with properties that are known to have (maybe $x^{2}$) [10]"
   ]
  },
  {
   "cell_type": "markdown",
   "id": "cd5a68c9",
   "metadata": {},
   "source": [
    "- analysing how it looks and then plotting it plus changing a couple of things (may check $x{3}$) is the power of being able to simulate and plot stuff at the same time [10]"
   ]
  },
  {
   "cell_type": "markdown",
   "id": "a5c2792c",
   "metadata": {},
   "source": [
    "***\n",
    "### END"
   ]
  },
  {
   "cell_type": "markdown",
   "id": "ea9b10b9",
   "metadata": {},
   "source": [
    "< [Table of Contents](#top) | [References](#references) >\n",
    "<a id=\"fdaPlots\"></a>\n",
    "***\n",
    "### Plots\n",
    "***"
   ]
  },
  {
   "cell_type": "code",
   "execution_count": null,
   "id": "24d77997",
   "metadata": {},
   "outputs": [],
   "source": [
    "fFile(\"./hide/fda/006-Seaborn-Plot-Types/037-pyplot and seaborn setup - 05-11-2020.mp4\")"
   ]
  },
  {
   "cell_type": "code",
   "execution_count": null,
   "id": "6beeb1a9",
   "metadata": {},
   "outputs": [],
   "source": [
    "fFile(\"./hide/fda/006-Seaborn-Plot-Types/038-Scatter plots - 05-11-2020.mp4\")"
   ]
  },
  {
   "cell_type": "code",
   "execution_count": null,
   "id": "e86964dc",
   "metadata": {},
   "outputs": [],
   "source": [
    "fFile(\"./hide/fda/006-Seaborn-Plot-Types/039-Distributions and category plots - 09-11-2020.mp4\")"
   ]
  },
  {
   "cell_type": "code",
   "execution_count": 4,
   "id": "7966d0b8",
   "metadata": {},
   "outputs": [],
   "source": [
    "fFile(\"./hide/fda/006-Seaborn-Plot-Types/039-Distributions and category plots - 09-11-2020.mp4\")"
   ]
  },
  {
   "cell_type": "markdown",
   "id": "b69f8c8d",
   "metadata": {},
   "source": [
    "- plotting generally is quite difficult (on a computer essentially trying to draw pictures from data) - the size of the monitor and/or the resolution and/or quality and/or number of pixels etc make it difficult to draw plots automatically on a computer [9]"
   ]
  },
  {
   "cell_type": "markdown",
   "id": "4ca6d246",
   "metadata": {},
   "source": [
    "- images on a computer are called raster images which means that each of the individual microscopic dots that make up the image (all in different locations) are stored as individual colours [9]"
   ]
  },
  {
   "cell_type": "markdown",
   "id": "56d237da",
   "metadata": {},
   "source": [
    "- the result is that if resizing in any way (maybe a red dot would expanded to four red dots) the different parts of what is perceived in the image do not scale differently but scale in sync together [9]"
   ]
  },
  {
   "cell_type": "markdown",
   "id": "f376c5c2",
   "metadata": {},
   "source": [
    "- a plotting library has many different components to consider - the library has to decide on the size of the font and the different components in the plot in a way that when the plot is created the user can actually see something useful [9]"
   ]
  },
  {
   "cell_type": "markdown",
   "id": "80e030c4",
   "metadata": {},
   "source": [
    "< [Table of Contents](#top) | [References](#references) >\n",
    "<a id=\"fdaPlotsmatplotlib\"></a>\n",
    "***\n",
    "###### ``matplotlib``\n",
    "***"
   ]
  },
  {
   "cell_type": "markdown",
   "id": "880d7039",
   "metadata": {},
   "source": [
    "- ``matplotlib`` creates a figure ``dark red`` of the overall image (plot) created [9]"
   ]
  },
  {
   "cell_type": "markdown",
   "id": "74eaf382",
   "metadata": {},
   "source": [
    "- inside the figure can have one (typical) or more axes (subplot ``blue``) - two plots in a figure have two sets of axes in the one figure [9]"
   ]
  },
  {
   "cell_type": "markdown",
   "id": "85ac6060",
   "metadata": {},
   "source": [
    "- each axes can have axis within the figure ``green`` [9]"
   ]
  },
  {
   "cell_type": "markdown",
   "id": "2ee7a9fe",
   "metadata": {},
   "source": [
    "- ``matplotlib`` makes decisions about how to divvy up the axis when the lines and the dots that make up the plot are created (come up with sensible defaults and tries to do it as automatically as it can for what should be on the $x$ and $y$ axis etc) [9]"
   ]
  },
  {
   "cell_type": "markdown",
   "id": "1e5c7a3c",
   "metadata": {},
   "source": [
    "- can create 3D plots ($z$ axis) which is interesting given that the computer monitor is effectively 2D [9]"
   ]
  },
  {
   "cell_type": "markdown",
   "id": "32345184",
   "metadata": {},
   "source": [
    "![Figure Map](https://github.com/SeanOhAileasa/SeanOhAileasa/blob/master/rc/fda/plots/figMap.png?raw=true)\n",
    "\n",
    "***(Image) B. Solomon, \"Python Plotting With Matplotlib (Guide),\" [realpython.com](https://realpython.com/python-matplotlib-guide), February 2018.***"
   ]
  },
  {
   "cell_type": "markdown",
   "id": "cf3e3c4a",
   "metadata": {},
   "source": [
    "< [Table of Contents](#top) | [References](#references) >\n",
    "<a id=\"fdaPlotsmatplotlibpyplot\"></a>\n",
    "***\n",
    "###### ``pyplot``\n",
    "***"
   ]
  },
  {
   "cell_type": "markdown",
   "id": "21d92ffc",
   "metadata": {},
   "source": [
    "- plotting is quite complex and its really hard to write something like ``matplotlib`` and ``pyplot`` (big package) [9]"
   ]
  },
  {
   "cell_type": "markdown",
   "id": "a62c8705",
   "metadata": {},
   "source": [
    "- do not just import ``matplotlib`` but import as ``matplotlib.pyplot`` which is the interactive part of ``matplotlib`` [9]"
   ]
  },
  {
   "cell_type": "markdown",
   "id": "ccca4201",
   "metadata": {},
   "source": [
    "- the engine behind the interactive part (making all the decisions about how the plots will look and how they interact) is performed by many different parts of ``matplotlib`` other than ``pyplot`` [9]"
   ]
  },
  {
   "cell_type": "code",
   "execution_count": 1,
   "id": "dbfed9ca",
   "metadata": {},
   "outputs": [],
   "source": [
    "import matplotlib.pyplot as plt"
   ]
  },
  {
   "cell_type": "markdown",
   "id": "20cf2403",
   "metadata": {},
   "source": [
    "< [Table of Contents](#top) | [References](#references) >\n",
    "<a id=\"fdaPlotsmatplotlibpyplotfigure\"></a>\n",
    "***\n",
    "###### ``figure``\n",
    "***"
   ]
  },
  {
   "cell_type": "code",
   "execution_count": 2,
   "id": "c4693a13",
   "metadata": {},
   "outputs": [
    {
     "data": {
      "text/plain": [
       "<Figure size 432x288 with 0 Axes>"
      ]
     },
     "execution_count": 2,
     "metadata": {},
     "output_type": "execute_result"
    },
    {
     "data": {
      "text/plain": [
       "<Figure size 432x288 with 0 Axes>"
      ]
     },
     "metadata": {},
     "output_type": "display_data"
    }
   ],
   "source": [
    "plt.figure()"
   ]
  },
  {
   "cell_type": "code",
   "execution_count": 3,
   "id": "59fe7241",
   "metadata": {},
   "outputs": [
    {
     "data": {
      "text/plain": [
       "<Figure size 921.6x518.4 with 0 Axes>"
      ]
     },
     "execution_count": 3,
     "metadata": {},
     "output_type": "execute_result"
    },
    {
     "data": {
      "text/plain": [
       "<Figure size 921.6x518.4 with 0 Axes>"
      ]
     },
     "metadata": {},
     "output_type": "display_data"
    }
   ],
   "source": [
    "plt.figure(figsize=(12.8,7.2))"
   ]
  },
  {
   "cell_type": "code",
   "execution_count": 4,
   "id": "2e917a4d",
   "metadata": {},
   "outputs": [
    {
     "data": {
      "text/plain": [
       "<Figure size 1382.4x777.6 with 0 Axes>"
      ]
     },
     "execution_count": 4,
     "metadata": {},
     "output_type": "execute_result"
    },
    {
     "data": {
      "text/plain": [
       "<Figure size 1382.4x777.6 with 0 Axes>"
      ]
     },
     "metadata": {},
     "output_type": "display_data"
    }
   ],
   "source": [
    "plt.figure(figsize=(19.2,10.8))"
   ]
  },
  {
   "cell_type": "markdown",
   "id": "803fbea5",
   "metadata": {},
   "source": [
    "< [Table of Contents](#top) | [References](#references) >\n",
    "<a id=\"fdaPlotsmatplotlibpyplotplot\"></a>\n",
    "***\n",
    "###### ``plot``\n",
    "***"
   ]
  },
  {
   "cell_type": "markdown",
   "id": "70849986",
   "metadata": {},
   "source": [
    "- plotting the numbers $\\{1,\\space 2,\\space 3\\}$ using the function ``plot`` will immediately create the plot in a ``Jupyter Notebook`` [9]"
   ]
  },
  {
   "cell_type": "code",
   "execution_count": 5,
   "id": "ec65f9de",
   "metadata": {},
   "outputs": [
    {
     "data": {
      "text/html": [
       "<style>.container { width:100% !important; }</style>"
      ],
      "text/plain": [
       "<IPython.core.display.HTML object>"
      ]
     },
     "metadata": {},
     "output_type": "display_data"
    }
   ],
   "source": [
    "from sys import path; path.insert(1,\"../src\")\n",
    "from fubar import fDarkReader\n",
    "fDarkReader()"
   ]
  },
  {
   "cell_type": "code",
   "execution_count": 6,
   "id": "b76996cb",
   "metadata": {},
   "outputs": [
    {
     "name": "stdout",
     "output_type": "stream",
     "text": [
      "# repository ./SeanOhAileasa\r\n",
      "def fDarkReader():\r\n",
      "    \"\"\"Unable to determine plot ticks when using https://darkreader.org.\r\n",
      "\r\n",
      "Input:\r\n",
      "Process: (matplotlib.style.core.use)\r\n",
      "Output:\r\n",
      "\"\"\"\r\n",
      "    from matplotlib.style.core import use\r\n",
      "    use({\"default\"})\r\n",
      "# --- END ---\r\n"
     ]
    }
   ],
   "source": [
    "%%script bash\n",
    "grep -1 \"def fDarkReader\" ../src/fubar.py -A 9"
   ]
  },
  {
   "cell_type": "code",
   "execution_count": 7,
   "id": "87d648cb",
   "metadata": {},
   "outputs": [
    {
     "data": {
      "image/png": "[encoded data removed]",
      "text/plain": [
       "<Figure size 640x480 with 1 Axes>"
      ]
     },
     "metadata": {},
     "output_type": "display_data"
    }
   ],
   "source": [
    "plt.plot([1,2,3],\"r-\");"
   ]
  },
  {
   "cell_type": "markdown",
   "id": "2e0fd223",
   "metadata": {},
   "source": [
    "- creating the same plot on the command line will not actually show the plot - the plot is generated in the background and is still changeable - it exists somewhere in memory and its still possible to interact with it [9]"
   ]
  },
  {
   "cell_type": "code",
   "execution_count": 8,
   "id": "92ea57d5",
   "metadata": {},
   "outputs": [
    {
     "name": "stdout",
     "output_type": "stream",
     "text": [
      "Writing t.py\n"
     ]
    }
   ],
   "source": [
    "%%writefile t.py\n",
    "import matplotlib.pyplot as plt\n",
    "plt.plot([1,2,3],\"r-\");"
   ]
  },
  {
   "cell_type": "code",
   "execution_count": 9,
   "id": "06b92a38",
   "metadata": {},
   "outputs": [],
   "source": [
    "%%script bash\n",
    "python t.py # plot no show "
   ]
  },
  {
   "cell_type": "code",
   "execution_count": 10,
   "id": "c8bf8f2b",
   "metadata": {},
   "outputs": [],
   "source": [
    "%%script bash\n",
    "rm -rf t.py"
   ]
  },
  {
   "cell_type": "markdown",
   "id": "07007b8f",
   "metadata": {},
   "source": [
    "- this is an unusual idea in a programming language and sets ``matplotlib`` apart from other packages in python [9]"
   ]
  },
  {
   "cell_type": "markdown",
   "id": "dfcaf860",
   "metadata": {},
   "source": [
    "- $1$ is loaded into memory and displayed on the screen then its destroyed [9]"
   ]
  },
  {
   "cell_type": "code",
   "execution_count": 11,
   "id": "ac945eb1",
   "metadata": {},
   "outputs": [
    {
     "data": {
      "text/plain": [
       "1"
      ]
     },
     "execution_count": 11,
     "metadata": {},
     "output_type": "execute_result"
    }
   ],
   "source": [
    "1"
   ]
  },
  {
   "cell_type": "markdown",
   "id": "465f2b23",
   "metadata": {},
   "source": [
    "- to persist a value (stick around in memory like the value one) must give it a name [9]"
   ]
  },
  {
   "cell_type": "code",
   "execution_count": 12,
   "id": "53c936d2",
   "metadata": {},
   "outputs": [],
   "source": [
    "n=1"
   ]
  },
  {
   "cell_type": "code",
   "execution_count": 13,
   "id": "c3e89412",
   "metadata": {},
   "outputs": [
    {
     "data": {
      "text/plain": [
       "1"
      ]
     },
     "execution_count": 13,
     "metadata": {},
     "output_type": "execute_result"
    }
   ],
   "source": [
    "n"
   ]
  },
  {
   "cell_type": "markdown",
   "id": "71d33d55",
   "metadata": {},
   "source": [
    "< [Table of Contents](#top) | [References](#references) >\n",
    "<a id=\"fdaPlotsmatplotlibpyplotlegend\"></a>\n",
    "***\n",
    "###### ``legend``\n",
    "***"
   ]
  },
  {
   "cell_type": "markdown",
   "id": "5fb8fd17",
   "metadata": {},
   "source": [
    "- the following plot is not actually stored anywhere explicitly (just displayed to the screen) - while it may appear as expected its not as it seems [9]"
   ]
  },
  {
   "cell_type": "markdown",
   "id": "0c6084b2",
   "metadata": {},
   "source": [
    "- both ``plot`` and ``legend`` do not appear to persist (no name assigned) [9]"
   ]
  },
  {
   "cell_type": "markdown",
   "id": "2a579993",
   "metadata": {},
   "source": [
    "- ``plot`` should just run and do something then go away because thats how functions work (only exist while running and then get destroyed [9]"
   ]
  },
  {
   "cell_type": "markdown",
   "id": "6eff92cf",
   "metadata": {},
   "source": [
    "- the call to ``legend`` seems to have changed the output of the previous call to ``plot`` of which the result was not stored [9]"
   ]
  },
  {
   "cell_type": "code",
   "execution_count": 14,
   "id": "dbc493d9",
   "metadata": {},
   "outputs": [
    {
     "data": {
      "image/png": "[encoded data removed]",
      "text/plain": [
       "<Figure size 640x480 with 1 Axes>"
      ]
     },
     "metadata": {},
     "output_type": "display_data"
    }
   ],
   "source": [
    "plt.plot([3,2,1],\"k-\",label=\"black line\")\n",
    "plt.legend(); # not forget label"
   ]
  },
  {
   "cell_type": "markdown",
   "id": "98053abc",
   "metadata": {},
   "source": [
    "< [Table of Contents](#top) | [References](#references) >\n",
    "<a id=\"fdaPlotsmatplotlibpyplotAtomic\"></a>\n",
    "***\n",
    "###### Atomic\n",
    "***"
   ]
  },
  {
   "cell_type": "markdown",
   "id": "50c703d9",
   "metadata": {},
   "source": [
    "- storing some form of state (user generated information) internally within is usually considered bad programming practice as it can lead to unintended consequences for programmers [9]"
   ]
  },
  {
   "cell_type": "markdown",
   "id": "5ee4e044",
   "metadata": {},
   "source": [
    "- when a ``module`` or a ``package`` or a ``function`` stores some internal state as a side effect (if unknown to the programmer) might end up with a bug or an error or some unintended event later [9] "
   ]
  },
  {
   "cell_type": "code",
   "execution_count": 15,
   "id": "cb013db4",
   "metadata": {},
   "outputs": [
    {
     "data": {
      "image/png": "[encoded data removed]",
      "text/plain": [
       "<Figure size 640x480 with 1 Axes>"
      ]
     },
     "metadata": {},
     "output_type": "display_data"
    }
   ],
   "source": [
    "plt.plot([10,5,15],\"b-\",label=\"blue line\")\n",
    "plt.legend(); # not forget label"
   ]
  },
  {
   "cell_type": "markdown",
   "id": "d5284285",
   "metadata": {},
   "source": [
    "- in programming things should be atomic - when a certain section of code is run it should run atomically - running the same inputs every time should give the same result but this is not what ``matplotlib.pyplot`` is doing [9]"
   ]
  },
  {
   "cell_type": "markdown",
   "id": "a407cc76",
   "metadata": {},
   "source": [
    "- calling ``legend`` within a new cell has a totally different result than before (creates a weird blank plot) - both calls have created two very different results [9]"
   ]
  },
  {
   "cell_type": "code",
   "execution_count": 16,
   "id": "9e1690fd",
   "metadata": {},
   "outputs": [
    {
     "name": "stderr",
     "output_type": "stream",
     "text": [
      "No handles with labels found to put in legend.\n"
     ]
    },
    {
     "data": {
      "image/png": "[encoded data removed]",
      "text/plain": [
       "<Figure size 640x480 with 1 Axes>"
      ]
     },
     "metadata": {},
     "output_type": "display_data"
    }
   ],
   "source": [
    "plt.legend();"
   ]
  },
  {
   "cell_type": "markdown",
   "id": "b66905f9",
   "metadata": {},
   "source": [
    "< [Table of Contents](#top) | [References](#references) >\n",
    "<a id=\"fdaPlotsmatplotlibpyplotAtomicsubplots\"></a>\n",
    "***\n",
    "###### ``subplots``\n",
    "***"
   ]
  },
  {
   "cell_type": "markdown",
   "id": "e5a76315",
   "metadata": {},
   "source": [
    "- given the non-atomic feature of ``pyplot`` the [realpython.com](https://realpython.com/python-matplotlib-guide) blog post suggests using ``subplots`` [9]"
   ]
  },
  {
   "cell_type": "markdown",
   "id": "b72ebd04",
   "metadata": {},
   "source": [
    "- storing some state in the background (``stateful``) is not a great idea [9] "
   ]
  },
  {
   "cell_type": "markdown",
   "id": "e30e0122",
   "metadata": {},
   "source": [
    "- ``matplotlib.pyplot`` does allow ``stateless`` activity which is a better way to do things - in the background is effectively calling ``subplots`` [9]"
   ]
  },
  {
   "cell_type": "code",
   "execution_count": 17,
   "id": "773df4eb",
   "metadata": {},
   "outputs": [
    {
     "data": {
      "image/png": "[encoded data removed]",
      "text/plain": [
       "<Figure size 640x480 with 1 Axes>"
      ]
     },
     "metadata": {},
     "output_type": "display_data"
    }
   ],
   "source": [
    "plt.plot([2,3,2],\"orange\",label=\"orange line\")\n",
    "plt.legend(); # not forget label"
   ]
  },
  {
   "cell_type": "markdown",
   "id": "f08d1d93",
   "metadata": {},
   "source": [
    "- ``subplots`` does not necessarily create subplots although it can (can put four etc plots in one figure) [9]"
   ]
  },
  {
   "cell_type": "markdown",
   "id": "83e361a3",
   "metadata": {},
   "source": [
    "- calling ``subplots`` without any arguments creates a single plot returning an object representing a figure ``fig`` and an object representing a set of axes ``ax`` on that figure [9]"
   ]
  },
  {
   "cell_type": "markdown",
   "id": "f2583ee7",
   "metadata": {},
   "source": [
    "- its explicit now - knowing exactly what the figure and axis created are and from that point on can call other functions on the name ``ax`` which came from ``subplots`` [9]"
   ]
  },
  {
   "cell_type": "code",
   "execution_count": 18,
   "id": "c059365b",
   "metadata": {},
   "outputs": [
    {
     "data": {
      "image/png": "[encoded data removed]",
      "text/plain": [
       "<Figure size 640x480 with 1 Axes>"
      ]
     },
     "metadata": {},
     "output_type": "display_data"
    }
   ],
   "source": [
    "fig,ax=plt.subplots() # object figure axes\n",
    "ax.plot([2,3,2],\"orange\",label=\"orange line\")\n",
    "ax.legend();"
   ]
  },
  {
   "cell_type": "code",
   "execution_count": 19,
   "id": "d42a2177",
   "metadata": {},
   "outputs": [],
   "source": [
    "exit()"
   ]
  },
  {
   "cell_type": "markdown",
   "id": "ca046bd4",
   "metadata": {},
   "source": [
    "< [Table of Contents](#top) | [References](#references) >\n",
    "<a id=\"fdaPlotsseabornAesthetics\"></a>\n",
    "***\n",
    "###### Aesthetics\n",
    "***"
   ]
  },
  {
   "cell_type": "markdown",
   "id": "a5dce6ce",
   "metadata": {},
   "source": [
    "- changing the way things look (using ``seaborn`` or ``pyplot``) use some theme ([aesthetics](https://seaborn.pydata.org/tutorial/aesthetics.html)) [10]"
   ]
  },
  {
   "cell_type": "markdown",
   "id": "07255fe3",
   "metadata": {},
   "source": [
    "< [Table of Contents](#top) | [References](#references) >\n",
    "<a id=\"fdaPlotsseabornAestheticsstyle\"></a>\n",
    "***\n",
    "###### ``style``\n",
    "***"
   ]
  },
  {
   "cell_type": "markdown",
   "id": "9f89f93d",
   "metadata": {},
   "source": [
    "- ``pyplot`` has a number of different [``style``](https://matplotlib.org/stable/gallery/style_sheets/style_sheets_reference.html) [10]"
   ]
  },
  {
   "cell_type": "markdown",
   "id": "8a8d554d",
   "metadata": {},
   "source": [
    "< [Table of Contents](#top) | [References](#references) >\n",
    "<a id=\"fdaPlotsseabornAestheticsstyleuse\"></a>\n",
    "***\n",
    "###### ``use``\n",
    "***"
   ]
  },
  {
   "cell_type": "code",
   "execution_count": 1,
   "id": "6b1a1b77",
   "metadata": {},
   "outputs": [],
   "source": [
    "import matplotlib.pyplot as plt"
   ]
  },
  {
   "cell_type": "code",
   "execution_count": 2,
   "id": "020c7a9d",
   "metadata": {},
   "outputs": [
    {
     "data": {
      "text/html": [
       "<style>.container { width:100% !important; }</style>"
      ],
      "text/plain": [
       "<IPython.core.display.HTML object>"
      ]
     },
     "metadata": {},
     "output_type": "display_data"
    }
   ],
   "source": [
    "from sys import path; path.insert(1,\"../src\")\n",
    "from fubar import fDarkReader\n",
    "fDarkReader()"
   ]
  },
  {
   "cell_type": "code",
   "execution_count": 3,
   "id": "af4cb7f5",
   "metadata": {},
   "outputs": [
    {
     "name": "stdout",
     "output_type": "stream",
     "text": [
      "# repository ./SeanOhAileasa\r\n",
      "def fDarkReader():\r\n",
      "    \"\"\"Unable to determine plot ticks when using https://darkreader.org.\r\n",
      "\r\n",
      "Input:\r\n",
      "Process: (matplotlib.style.core.use)\r\n",
      "Output:\r\n",
      "\"\"\"\r\n",
      "    from matplotlib.style.core import use\r\n",
      "    use({\"default\"})\r\n",
      "# --- END ---\r\n"
     ]
    }
   ],
   "source": [
    "%%script bash\n",
    "grep -1 \"def fDarkReader\" ../src/fubar.py -A 9"
   ]
  },
  {
   "cell_type": "markdown",
   "id": "49b326b2",
   "metadata": {},
   "source": [
    "< [Table of Contents](#top) | [References](#references) >\n",
    "<a id=\"fdaPlotsseabornAestheticsggplot\"></a>\n",
    "***\n",
    "###### ``ggplot``\n",
    "***"
   ]
  },
  {
   "cell_type": "markdown",
   "id": "84ab0658",
   "metadata": {},
   "source": [
    "- equivalent to the ``R`` programming language style [10]"
   ]
  },
  {
   "cell_type": "code",
   "execution_count": 4,
   "id": "90f752ee",
   "metadata": {},
   "outputs": [
    {
     "data": {
      "image/png": "[encoded data removed]",
      "text/plain": [
       "<Figure size 640x480 with 1 Axes>"
      ]
     },
     "metadata": {},
     "output_type": "display_data"
    }
   ],
   "source": [
    "fig,ax=plt.subplots() # object figure axes\n",
    "ax.plot([1,2,3],\"r-\");"
   ]
  },
  {
   "cell_type": "markdown",
   "id": "84544b9b",
   "metadata": {},
   "source": [
    "- probably the most common academic style (doing statistics work is the ``ggplot`` style) [10]"
   ]
  },
  {
   "cell_type": "code",
   "execution_count": 5,
   "id": "e5fb6d89",
   "metadata": {},
   "outputs": [],
   "source": [
    "plt.style.use(\"ggplot\") # changing the style"
   ]
  },
  {
   "cell_type": "code",
   "execution_count": 6,
   "id": "f59729a6",
   "metadata": {},
   "outputs": [
    {
     "data": {
      "image/png": "[encoded data removed]",
      "text/plain": [
       "<Figure size 640x480 with 1 Axes>"
      ]
     },
     "metadata": {},
     "output_type": "display_data"
    }
   ],
   "source": [
    "fig,ax=plt.subplots() # object figure axes\n",
    "ax.plot([1,2,3],\"r-\");"
   ]
  },
  {
   "cell_type": "code",
   "execution_count": 7,
   "id": "1afb64f3",
   "metadata": {},
   "outputs": [],
   "source": [
    "exit()"
   ]
  },
  {
   "cell_type": "markdown",
   "id": "9bcea77e",
   "metadata": {},
   "source": [
    "< [Table of Contents](#top) | [References](#references) >\n",
    "<a id=\"fdaPlotsseaborn\"></a>\n",
    "***\n",
    "###### ``seaborn``\n",
    "***"
   ]
  },
  {
   "cell_type": "markdown",
   "id": "19c605fa",
   "metadata": {},
   "source": [
    "- ``seaborn`` is built on top of ``matplotlib`` [9][10]"
   ]
  },
  {
   "cell_type": "markdown",
   "id": "3cc32dbb",
   "metadata": {},
   "source": [
    "- ``matplotlib`` is a programmer-driven plotting engine focused on data science and machine learning (interacting with ``pyplot``) to analyse datasets [10]"
   ]
  },
  {
   "cell_type": "markdown",
   "id": "be516253",
   "metadata": {},
   "source": [
    "- could write a user-driven application in python using ``matplotlib`` whereas ``seaborn`` is more about the interactive use of python and tends to use ``pyplot`` in the background [10]"
   ]
  },
  {
   "cell_type": "markdown",
   "id": "06149a7f",
   "metadata": {},
   "source": [
    "- [``seaborn``](https://seaborn.pydata.org/tutorial.html) can use figures and axes - it tends to have some extra bells and whistles on top of the plots from ``matplotlib`` (showing relationships between variables - creating a best fit line etc) [10]"
   ]
  },
  {
   "cell_type": "markdown",
   "id": "ab2e6904",
   "metadata": {},
   "source": [
    "- using ``pyplot`` and ``numpy`` the creator ``Michael Waskom`` found himself repeating the same procedures over and over - ``seaborn`` uses ``pyplot`` allowing the creation of plots (with the extra bells and whistles) automatically [10]"
   ]
  },
  {
   "cell_type": "code",
   "execution_count": 1,
   "id": "dc344ff6",
   "metadata": {},
   "outputs": [],
   "source": [
    "import seaborn as sns"
   ]
  },
  {
   "cell_type": "markdown",
   "id": "3ddb393b",
   "metadata": {},
   "source": [
    "< [Table of Contents](#top) | [References](#references) >\n",
    "<a id=\"fdaPlotsseabornloaddataset\"></a>\n",
    "***\n",
    "###### ``load_dataset``\n",
    "***"
   ]
  },
  {
   "cell_type": "markdown",
   "id": "79754cfb",
   "metadata": {},
   "source": [
    "- ``seaborn`` has a number of [datasets](https://github.com/mwaskom/seaborn-data) preloaded [10"
   ]
  },
  {
   "cell_type": "markdown",
   "id": "90773a98",
   "metadata": {},
   "source": [
    "- the only purpose of the function ``load_dataset`` is to make it easy to learn how to use ``seaborn`` [10]"
   ]
  },
  {
   "cell_type": "code",
   "execution_count": 2,
   "id": "f70ef73c",
   "metadata": {},
   "outputs": [
    {
     "data": {
      "text/html": [
       "<div>\n",
       "<style scoped>\n",
       "    .dataframe tbody tr th:only-of-type {\n",
       "        vertical-align: middle;\n",
       "    }\n",
       "\n",
       "    .dataframe tbody tr th {\n",
       "        vertical-align: top;\n",
       "    }\n",
       "\n",
       "    .dataframe thead th {\n",
       "        text-align: right;\n",
       "    }\n",
       "</style>\n",
       "<table border=\"1\" class=\"dataframe\">\n",
       "  <thead>\n",
       "    <tr style=\"text-align: right;\">\n",
       "      <th></th>\n",
       "      <th>sepal_length</th>\n",
       "      <th>sepal_width</th>\n",
       "      <th>petal_length</th>\n",
       "      <th>petal_width</th>\n",
       "      <th>species</th>\n",
       "    </tr>\n",
       "  </thead>\n",
       "  <tbody>\n",
       "    <tr>\n",
       "      <th>0</th>\n",
       "      <td>5.1</td>\n",
       "      <td>3.5</td>\n",
       "      <td>1.4</td>\n",
       "      <td>0.2</td>\n",
       "      <td>setosa</td>\n",
       "    </tr>\n",
       "    <tr>\n",
       "      <th>1</th>\n",
       "      <td>4.9</td>\n",
       "      <td>3.0</td>\n",
       "      <td>1.4</td>\n",
       "      <td>0.2</td>\n",
       "      <td>setosa</td>\n",
       "    </tr>\n",
       "    <tr>\n",
       "      <th>2</th>\n",
       "      <td>4.7</td>\n",
       "      <td>3.2</td>\n",
       "      <td>1.3</td>\n",
       "      <td>0.2</td>\n",
       "      <td>setosa</td>\n",
       "    </tr>\n",
       "    <tr>\n",
       "      <th>3</th>\n",
       "      <td>4.6</td>\n",
       "      <td>3.1</td>\n",
       "      <td>1.5</td>\n",
       "      <td>0.2</td>\n",
       "      <td>setosa</td>\n",
       "    </tr>\n",
       "    <tr>\n",
       "      <th>4</th>\n",
       "      <td>5.0</td>\n",
       "      <td>3.6</td>\n",
       "      <td>1.4</td>\n",
       "      <td>0.2</td>\n",
       "      <td>setosa</td>\n",
       "    </tr>\n",
       "    <tr>\n",
       "      <th>...</th>\n",
       "      <td>...</td>\n",
       "      <td>...</td>\n",
       "      <td>...</td>\n",
       "      <td>...</td>\n",
       "      <td>...</td>\n",
       "    </tr>\n",
       "    <tr>\n",
       "      <th>145</th>\n",
       "      <td>6.7</td>\n",
       "      <td>3.0</td>\n",
       "      <td>5.2</td>\n",
       "      <td>2.3</td>\n",
       "      <td>virginica</td>\n",
       "    </tr>\n",
       "    <tr>\n",
       "      <th>146</th>\n",
       "      <td>6.3</td>\n",
       "      <td>2.5</td>\n",
       "      <td>5.0</td>\n",
       "      <td>1.9</td>\n",
       "      <td>virginica</td>\n",
       "    </tr>\n",
       "    <tr>\n",
       "      <th>147</th>\n",
       "      <td>6.5</td>\n",
       "      <td>3.0</td>\n",
       "      <td>5.2</td>\n",
       "      <td>2.0</td>\n",
       "      <td>virginica</td>\n",
       "    </tr>\n",
       "    <tr>\n",
       "      <th>148</th>\n",
       "      <td>6.2</td>\n",
       "      <td>3.4</td>\n",
       "      <td>5.4</td>\n",
       "      <td>2.3</td>\n",
       "      <td>virginica</td>\n",
       "    </tr>\n",
       "    <tr>\n",
       "      <th>149</th>\n",
       "      <td>5.9</td>\n",
       "      <td>3.0</td>\n",
       "      <td>5.1</td>\n",
       "      <td>1.8</td>\n",
       "      <td>virginica</td>\n",
       "    </tr>\n",
       "  </tbody>\n",
       "</table>\n",
       "<p>150 rows × 5 columns</p>\n",
       "</div>"
      ],
      "text/plain": [
       "     sepal_length  sepal_width  petal_length  petal_width    species\n",
       "0             5.1          3.5           1.4          0.2     setosa\n",
       "1             4.9          3.0           1.4          0.2     setosa\n",
       "2             4.7          3.2           1.3          0.2     setosa\n",
       "3             4.6          3.1           1.5          0.2     setosa\n",
       "4             5.0          3.6           1.4          0.2     setosa\n",
       "..            ...          ...           ...          ...        ...\n",
       "145           6.7          3.0           5.2          2.3  virginica\n",
       "146           6.3          2.5           5.0          1.9  virginica\n",
       "147           6.5          3.0           5.2          2.0  virginica\n",
       "148           6.2          3.4           5.4          2.3  virginica\n",
       "149           5.9          3.0           5.1          1.8  virginica\n",
       "\n",
       "[150 rows x 5 columns]"
      ]
     },
     "execution_count": 2,
     "metadata": {},
     "output_type": "execute_result"
    }
   ],
   "source": [
    "sns.load_dataset(name=\"iris\")"
   ]
  },
  {
   "cell_type": "code",
   "execution_count": 3,
   "id": "b0725383",
   "metadata": {},
   "outputs": [],
   "source": [
    "exit()"
   ]
  },
  {
   "cell_type": "markdown",
   "id": "5dea1720",
   "metadata": {},
   "source": [
    "< [Table of Contents](#top) | [References](#references) >\n",
    "<a id=\"fdaPlotsseabornMultiplotGrids\"></a>\n",
    "***\n",
    "###### Multi-plot Grids\n",
    "***"
   ]
  },
  {
   "cell_type": "markdown",
   "id": "5c3f09b6",
   "metadata": {},
   "source": [
    "- a dataset with a number of variables and creating [lots](https://seaborn.pydata.org/tutorial/axis_grids.html) of plots in one fell swoop [10]"
   ]
  },
  {
   "cell_type": "markdown",
   "id": "7807b677",
   "metadata": {},
   "source": [
    "***\n",
    "### END"
   ]
  },
  {
   "cell_type": "markdown",
   "id": "db0ac80c",
   "metadata": {},
   "source": [
    "< [Table of Contents](#top) | [References](#references) >\n",
    "<a id=\"dataFunctions\"></a>\n",
    "***\n",
    "### Functions\n",
    "***"
   ]
  },
  {
   "cell_type": "code",
   "execution_count": null,
   "id": "10f6fb9e",
   "metadata": {},
   "outputs": [],
   "source": [
    "fFile(\"./hide/fda/002-Functions/018-Functions and models - 09-10-2020.mp4\")"
   ]
  },
  {
   "cell_type": "markdown",
   "id": "b20414e1",
   "metadata": {},
   "source": [
    "- it very important to fully investigate and think about data and functions and the way they interplay [8]"
   ]
  },
  {
   "cell_type": "markdown",
   "id": "6167aa1c",
   "metadata": {},
   "source": [
    "- in machine learning (data analytics/statistics) typically there are a number of different functions going on at the same time - at the end of the day usually the idea is to make some form of prediction [8]"
   ]
  },
  {
   "cell_type": "markdown",
   "id": "e4f0e265",
   "metadata": {},
   "source": [
    "- the idea behind machine learning is often to predict something - does an image have a cat (yes or no) - the prediction is either yes or no - there is uncertainty involved [8]"
   ]
  },
  {
   "cell_type": "markdown",
   "id": "068ef45e",
   "metadata": {},
   "source": [
    "- in statistics if trying to figure out if a vaccine works will probably have data for all the people who have received the vaccine and its varying degrees of efficacy - will have data for the people who have not received a vaccine - there may be different levels of natural immunity so again there is a bit of uncertainty involved [8]"
   ]
  },
  {
   "cell_type": "markdown",
   "id": "80f95dc8",
   "metadata": {},
   "source": [
    "- this uncertainty has to be captured somewhere in the algorithm - it is very important to understand the nature of functions because in the context of the statements (the actual program) that does the prediction in the end its often quite straightforward [8] "
   ]
  },
  {
   "cell_type": "markdown",
   "id": "2bee7f27",
   "metadata": {},
   "source": [
    "- if doing a t-test in statistics (common statistical test) the calculation can be done by hand for a small dataset [8]"
   ]
  },
  {
   "cell_type": "markdown",
   "id": "8c828288",
   "metadata": {},
   "source": [
    "- if trying to fit a line to a dataset that has an $x$ and a $y$ variable the calculation for the best line that fits it according to whatever criteria is usually a simple calculation (two lists of numbers and trying to infer some relationship) - there is a limited number of calculations that can be done (can add numbers or subtract numbers or multiply numbers or divide numbers etc) - the point is they are all very simple statements in the background and it is how a human thinks about the numbers that is important [1]"
   ]
  },
  {
   "cell_type": "markdown",
   "id": "b4339857",
   "metadata": {},
   "source": [
    "< [Table of Contents](#top) | [References](#references) >\n",
    "***"
   ]
  },
  {
   "cell_type": "markdown",
   "id": "a099e55a",
   "metadata": {},
   "source": [
    "* [Abstract](https://nbviewer.jupyter.org/github/SeanOhAileasa/fda-data-functions/blob/main/fda-data-functions.ipynb#abstract) **[External Link]** <br/><br/>\n",
    "    * [Functions](https://nbviewer.jupyter.org/github/SeanOhAileasa/fda-data-functions/blob/main/fda-data-functions.ipynb#abstractFunctions) **[External Link]** <br/><br/>\n",
    "* [Introduction](https://nbviewer.jupyter.org/github/SeanOhAileasa/fda-data-functions/blob/main/fda-data-functions.ipynb#introduction) **[External Link]** <br/><br/>\n",
    "* [Solution](https://nbviewer.jupyter.org/github/SeanOhAileasa/fda-data-functions/blob/main/fda-data-functions.ipynb#solution) **[External Link]** <br/><br/>\n",
    "    * [Iterator](https://nbviewer.jupyter.org/github/SeanOhAileasa/fda-data-functions/blob/main/fda-data-functions.ipynb#iterator) **[External Link]** <br/><br/>\n",
    "    * [Map](https://nbviewer.jupyter.org/github/SeanOhAileasa/fda-data-functions/blob/main/fda-data-functions.ipynb#map) **[External Link]** <br/><br/>\n",
    "    * [Anonymous](https://nbviewer.jupyter.org/github/SeanOhAileasa/fda-data-functions/blob/main/fda-data-functions.ipynb#anonymous-function) **[External Link]** <br/><br/>\n",
    "    * [Reduce](https://nbviewer.jupyter.org/github/SeanOhAileasa/fda-data-functions/blob/main/fda-data-functions.ipynb#reduce) **[External Link]** <br/><br/>\n",
    "* [Conclusion](https://nbviewer.jupyter.org/github/SeanOhAileasa/fda-data-functions/blob/main/fda-data-functions.ipynb#conclusion) **[External Link]** <br/><br/>\n",
    "    * [Data and Functions](https://nbviewer.jupyter.org/github/SeanOhAileasa/fda-data-functions/blob/main/fda-data-functions.ipynb#data-and-functions) **[External Link]** <br/><br/>"
   ]
  },
  {
   "cell_type": "markdown",
   "id": "0754e33a",
   "metadata": {},
   "source": [
    "< [Table of Contents](#top) | [References](#references) >\n",
    "<a id=\"dataFunctionsTuring\"></a>\n",
    "***\n",
    "###### Turing\n",
    "***"
   ]
  },
  {
   "cell_type": "code",
   "execution_count": null,
   "id": "d0d35e8b",
   "metadata": {},
   "outputs": [],
   "source": [
    "fFile(\"./hide/fda/002-Functions/016-Functions versus data - 09-10-2020.mp4\")"
   ]
  },
  {
   "cell_type": "markdown",
   "id": "3a188df0",
   "metadata": {},
   "source": [
    "- the distinction between data versus function originated from Turing - can a computer do mathematics [7]"
   ]
  },
  {
   "cell_type": "markdown",
   "id": "93e292e9",
   "metadata": {},
   "source": [
    "- with maths there are certain axioms (or assumptions) used to prove or disprove certain ideas - proving the $\\sqrt{2}$ is irrational first start off with the incorrect assumption that it is rational and thus go on to disprove that idea [7]"
   ]
  },
  {
   "cell_type": "markdown",
   "id": "a120f080",
   "metadata": {},
   "source": [
    "- Turing was asking could a computer be designed to essentially productionise this concept to make new mathematical discoveries [7]"
   ]
  },
  {
   "cell_type": "markdown",
   "id": "185eb0b8",
   "metadata": {},
   "source": [
    "- Turing created state tables which basically described different states a computer could be in - the idea is to start with basic inputs and the table would show how to manipulate the input data [7]"
   ]
  },
  {
   "cell_type": "markdown",
   "id": "c84c57e5",
   "metadata": {},
   "source": [
    "- with input $00001111$ start in state $A$ read a $0$ then write a $1$ instead of it then move right $R$ then change to state $B$ and continue to follow the given steps in $B$ (repeat to the end) [7]"
   ]
  },
  {
   "cell_type": "markdown",
   "id": "30d6908e",
   "metadata": {},
   "source": [
    "| State | Read | Write | Move | Next |\n",
    "|-------|------|-------|------|------|\n",
    "| $A$     | 0    | $1$     | R    | $B$    |\n",
    "| $A$     | 1    | $0$     | R    | $B$    |\n",
    "| $A$     | _    | $F$     | L    | $ $    |\n",
    "| $B$     | 0    | $0$     | R    | $A$    |\n",
    "| $B$     | 1    | $1$     | R    | $A$    |\n",
    "| $B$     | _    | $F$     | L    | $ $    |"
   ]
  },
  {
   "cell_type": "markdown",
   "id": "cdd987c2",
   "metadata": {},
   "source": [
    "**Input**: $00001111$\n",
    "\n",
    "**Workings:** $A00001111 \\rightarrow 1B0001111 \\rightarrow 10A001111 \\rightarrow \\ldots$\n",
    "\n",
    "**Output**: $10100101F$"
   ]
  },
  {
   "cell_type": "markdown",
   "id": "935da97b",
   "metadata": {},
   "source": [
    "- during this period humans were referred to as computers [7]"
   ]
  },
  {
   "cell_type": "markdown",
   "id": "da513a2c",
   "metadata": {},
   "source": [
    "- Turings idea was based on what is the most basic thing a human (computer) could do - he determined it was to systematically change one symbol to another - Turing used this idea to prove that some numbers could never be computed [7]"
   ]
  },
  {
   "cell_type": "markdown",
   "id": "4e23324b",
   "metadata": {},
   "source": [
    "< [Table of Contents](#top) | [References](#references) >\n",
    "<a id=\"dataFunctionsChurch\"></a>\n",
    "***\n",
    "###### Church\n",
    "***"
   ]
  },
  {
   "cell_type": "markdown",
   "id": "d201d278",
   "metadata": {},
   "source": [
    "- Turings idea that some numbers could never be computed was also discovered by Church (McCarthy) using lambda calculus (anonymous functions) [7]"
   ]
  },
  {
   "cell_type": "markdown",
   "id": "5b14f0a1",
   "metadata": {},
   "source": [
    "- in Church's lamba calculaus (basis for all functional programming - ``lisp`` ``closure`` etc) to represent the number $0$ is  $\\lambda f. \\lambda x. x$ and with the successor function applied to $0$ gives $1$ and when applied to $1$ gives $2$ and so on [7]"
   ]
  },
  {
   "cell_type": "markdown",
   "id": "97a7dd0f",
   "metadata": {},
   "source": [
    "$$\\lambda x. x x$$\n",
    "$$(\\lambda x. x x) A = A A$$\n",
    "\n",
    "<br>\n",
    "\n",
    "$$(\\lambda x. x x)(\\lambda x. x x)$$\n",
    "\n",
    "$$(\\lambda x. x x)(\\lambda x. x x) = (\\lambda x. x x)(\\lambda x. x x) = \\ldots$$\n",
    "\n",
    "<br>\n",
    "\n",
    "$$0: \\qquad \\lambda f. \\lambda x. x$$\n",
    "$$1: \\qquad \\lambda f. \\lambda x. f x$$\n",
    "$$Successor: \\qquad \\lambda n. \\lambda f. \\lambda x. f (n f x)$$\n",
    "\n",
    "<br>\n",
    "\n",
    "$$\\qquad (\\lambda n. \\lambda f. \\lambda x. f (n f x)) (\\lambda f. \\lambda x. x) = \\lambda f. \\lambda x. f x$$"
   ]
  },
  {
   "cell_type": "markdown",
   "id": "b03241fc",
   "metadata": {},
   "source": [
    "- both Turing and Churchs ideas are equivalent and called the Church-Turing thesis - because these two systems are equivalent the question is do they actually both encapsulate everything that computing is - nobody has proved or disproved this idea [7]"
   ]
  },
  {
   "cell_type": "markdown",
   "id": "e7130d91",
   "metadata": {},
   "source": [
    "- import from a computing perspective because everything that can be done on a computer is encapulated in the views of Turing and Church [7]"
   ]
  },
  {
   "cell_type": "markdown",
   "id": "14c563f9",
   "metadata": {},
   "source": [
    "< [Table of Contents](#top) | [References](#references) >\n",
    "<a id=\"dataFunctionsChurchPython\"></a>\n",
    "***\n",
    "###### Real-world\n",
    "***"
   ]
  },
  {
   "cell_type": "markdown",
   "id": "420dc2ce",
   "metadata": {},
   "source": [
    "- using python to opening microsoft excel [7]"
   ]
  },
  {
   "cell_type": "code",
   "execution_count": 1,
   "id": "134139fd",
   "metadata": {},
   "outputs": [],
   "source": [
    "import sys"
   ]
  },
  {
   "cell_type": "markdown",
   "id": "7841dea9",
   "metadata": {},
   "source": [
    "- model of the world (``EXCEL.EXE``) is a file that contains instructions [7]"
   ]
  },
  {
   "cell_type": "markdown",
   "id": "cc3aee4a",
   "metadata": {},
   "source": [
    "- written in bytes the first byte of ``EXCEL.EXE`` is $01001101$ [7]"
   ]
  },
  {
   "cell_type": "code",
   "execution_count": 2,
   "id": "7731f184",
   "metadata": {},
   "outputs": [
    {
     "name": "stdout",
     "output_type": "stream",
     "text": [
      "01001101 01011010 10010000 00000000 "
     ]
    }
   ],
   "source": [
    "with open(r\"C:\\Program Files\\Microsoft Office\\root\\Office16\\EXCEL.EXE\",\"rb\") as f:\n",
    "    for i in range(4):\n",
    "        byte=f.read(1)\n",
    "        ibyte=int.from_bytes(byte,byteorder=sys.byteorder)\n",
    "        print(f\"{ibyte:>08b}\",end=\" \")"
   ]
  },
  {
   "cell_type": "markdown",
   "id": "7cef8c5c",
   "metadata": {},
   "source": [
    "- model of the world (``covid-19-ireland.csv``) file contains data and requires ``EXCEL.EXE`` to run [7]"
   ]
  },
  {
   "cell_type": "code",
   "execution_count": 3,
   "id": "8291442e",
   "metadata": {},
   "outputs": [
    {
     "name": "stdout",
     "output_type": "stream",
     "text": [
      "01001110 01100001 01001110 00101100 "
     ]
    }
   ],
   "source": [
    "with open(r\"C:\\Users\\SeanOhAileasa\\covid-19-ireland\\src\\dataset\\covid-19-ireland.csv\",\"rb\") as f:\n",
    "    for i in range(4):\n",
    "        byte=f.read(1)\n",
    "        ibyte=int.from_bytes(byte,byteorder=sys.byteorder)\n",
    "        print(f\"{ibyte:>08b}\",end=\" \")"
   ]
  },
  {
   "cell_type": "markdown",
   "id": "cd8f4c27",
   "metadata": {},
   "source": [
    "- programs that run on a computer are ``.exe`` files and these files contain instructions [7]"
   ]
  },
  {
   "cell_type": "markdown",
   "id": "531460fd",
   "metadata": {},
   "source": [
    "- there are also files such as word documents or html or images etc that contain data [7]"
   ]
  },
  {
   "cell_type": "markdown",
   "id": "bbb103bd",
   "metadata": {},
   "source": [
    "- Microsoft Windows does not know how to run them (does not know how to take the stuff out of them) - it needs files that contain instructions like Microsoft Excel to be able to interpret the ones and zeros in the data file [7] "
   ]
  },
  {
   "cell_type": "markdown",
   "id": "9304656e",
   "metadata": {},
   "source": [
    "- this is just a model of the world and there is actually no distinction here - can opening a ``.exe`` file that contains instructions and a ``.csv`` file that contains data and be able to read byte-by-byte [7]"
   ]
  },
  {
   "cell_type": "markdown",
   "id": "8de4d95c",
   "metadata": {},
   "source": [
    "- both are just a series ones and zeros whereby some of the files contain instructions and some files contain data and they do not run by themselves (need a program to open) [7]"
   ]
  },
  {
   "cell_type": "markdown",
   "id": "cfb669e8",
   "metadata": {},
   "source": [
    "- it does not matter whether its made of instructions or made of data all files on the computer are stored as ones and zeros and all are stored on the same medium (or hard drive) side by side with absolutely no distinction between them [7]"
   ]
  },
  {
   "cell_type": "markdown",
   "id": "55fab1ac",
   "metadata": {},
   "source": [
    "- operating systems like Windows use tricks in files to identify whether or not a file contains instructions or data - linux do not have file extensions but usually use what is called a magic number and a lot of flags set up on files saying if a file is an executable [7] "
   ]
  },
  {
   "cell_type": "markdown",
   "id": "38fbc541",
   "metadata": {},
   "source": [
    "***\n",
    "### END"
   ]
  },
  {
   "cell_type": "markdown",
   "id": "8b8f0c70",
   "metadata": {},
   "source": [
    "< [Table of Contents](#top) | [References](#references) >\n",
    "<a id=\"montyHallProblem\"></a>\n",
    "***\n",
    "### Monty Hall\n",
    "***"
   ]
  },
  {
   "cell_type": "markdown",
   "id": "a3cdbfa1",
   "metadata": {},
   "source": [
    "&#x1F6A7;"
   ]
  },
  {
   "cell_type": "markdown",
   "id": "03809a60",
   "metadata": {},
   "source": [
    "< [Table of Contents](#top) | [References](#references) >\n",
    "***"
   ]
  },
  {
   "cell_type": "markdown",
   "id": "6c0eb983",
   "metadata": {},
   "source": [
    "* [Abstract](https://nbviewer.jupyter.org/github/SeanOhAileasa/fda-monty-hall-problem/blob/main/fda-monty-hall-problem.ipynb#abstract) **[External Link]** <br/><br/>\n",
    "* [Introduction](https://nbviewer.jupyter.org/github/SeanOhAileasa/fda-monty-hall-problem/blob/main/fda-monty-hall-problem.ipynb#introduction) **[External Link]** <br/><br/>\n",
    "    * [``random``](https://nbviewer.jupyter.org/github/SeanOhAileasa/fda-monty-hall-problem/blob/main/fda-monty-hall-problem.ipynb#introductionrandom) **[External Link]** <br/><br/>\n",
    "        * [``choice``](https://nbviewer.jupyter.org/github/SeanOhAileasa/fda-monty-hall-problem/blob/main/fda-monty-hall-problem.ipynb#introductionrandomchoice) **[External Link]** <br/><br/>\n",
    "* [Solution](https://nbviewer.jupyter.org/github/SeanOhAileasa/fda-monty-hall-problem/blob/main/fda-monty-hall-problem.ipynb#solution) **[External Link]** <br/><br/>\n",
    "    * [Select Door](https://nbviewer.jupyter.org/github/SeanOhAileasa/fda-monty-hall-problem/blob/main/fda-monty-hall-problem.ipynb#solutionDoorSelection) (&#8594; ``random``) **[External Link]** <br/><br/>\n",
    "        * [``matplotlib``](https://nbviewer.jupyter.org/github/SeanOhAileasa/fda-monty-hall-problem/blob/main/fda-monty-hall-problem.ipynb#solutionDoorSelectionmatplotlib) &#x1F6A7; **[External Link]** <br/><br/>\n",
    "            * [``pyplot``](https://nbviewer.jupyter.org/github/SeanOhAileasa/fda-monty-hall-problem/blob/main/fda-monty-hall-problem.ipynb#solutionDoorSelectionmatplotlibpyplot) **[External Link]** <br/><br/>\n",
    "                * [``figure``](https://nbviewer.jupyter.org/github/SeanOhAileasa/fda-monty-hall-problem/blob/main/fda-monty-hall-problem.ipynb#solutionDoorSelectionmatplotlibpyplotfigure) **[External Link]** <br/><br/>\n",
    "        * [``seaborn``](https://nbviewer.jupyter.org/github/SeanOhAileasa/fda-monty-hall-problem/blob/main/fda-monty-hall-problem.ipynb#solutionDoorSelectionseaborn) (&#8594; ``random`` &#8594; ``choice``) **[External Link]** <br/><br/>\n",
    "            * [``set``](https://nbviewer.jupyter.org/github/SeanOhAileasa/fda-monty-hall-problem/blob/main/fda-monty-hall-problem.ipynb#solutionDoorSelectionseaborn_set_countplot) (&#8594; Select Door &#8594; ``matplotlib`` &#8594; ``pyplot`` &#8594; ``figure``) **[External Link]** <br/><br/>\n",
    "            * [``countplot``](https://nbviewer.jupyter.org/github/SeanOhAileasa/fda-monty-hall-problem/blob/main/fda-monty-hall-problem.ipynb#solutionDoorSelectionseaborn_set_countplot) (&#8594; Select Door &#8594; ``matplotlib`` &#8594; ``pyplot`` &#8594; ``figure``) **[External Link]** <br/><br/>\n",
    "    * [Simulation](https://nbviewer.jupyter.org/github/SeanOhAileasa/fda-monty-hall-problem/blob/main/fda-monty-hall-problem.ipynb#simulate) **[External Link]** <br/><br/>\n",
    "        * [Marilyn vos Savant](https://nbviewer.jupyter.org/github/SeanOhAileasa/fda-monty-hall-problem/blob/main/fda-monty-hall-problem.ipynb#simulateMarilynvosSavant) (&#8594; Select Door &#8594; ``seaborn`` &#8594; ``countplot``) **[External Link]** <br/><br/>\n",
    "* [Conclusion](https://nbviewer.jupyter.org/github/SeanOhAileasa/fda-monty-hall-problem/blob/main/fda-monty-hall-problem.ipynb#conclusion) **[External Link]** <br/><br/>\n",
    "    * [Analysis](https://nbviewer.jupyter.org/github/SeanOhAileasa/fda-monty-hall-problem/blob/main/fda-monty-hall-problem.ipynb#conclusionAnalysis) **[External Link]** <br/><br/>\n",
    "        * [``pandas``](https://nbviewer.jupyter.org/github/SeanOhAileasa/fda-monty-hall-problem/blob/main/fda-monty-hall-problem.ipynb#conclusionpandas) **[External Link]** <br/><br/>\n",
    "            * [``read_csv``](https://nbviewer.jupyter.org/github/SeanOhAileasa/fda-monty-hall-problem/blob/main/fda-monty-hall-problem.ipynb#conclusionpandasreadcsv) **[External Link]** <br/><br/>\n",
    "        * [Plot (Category)](https://nbviewer.jupyter.org/github/SeanOhAileasa/fda-monty-hall-problem/blob/main/fda-monty-hall-problem.ipynb#conclusionAnalysisPlot) **[External Link]** <br/><br/>\n",
    "            * [``seaborn``](https://nbviewer.jupyter.org/github/SeanOhAileasa/fda-monty-hall-problem/blob/main/fda-monty-hall-problem.ipynb#conclusionAnalysisPlotseaborn) &#x1F6A7; (&#8594; Select Door) **[External Link]** <br/><br/>\n",
    "                * [``catplot``](https://nbviewer.jupyter.org/github/SeanOhAileasa/fda-monty-hall-problem/blob/main/fda-monty-hall-problem.ipynb#conclusionAnalysisPlotseaborncatplot) **[External Link]** <br/><br/>\n",
    "        * [Bias](https://nbviewer.jupyter.org/github/SeanOhAileasa/fda-monty-hall-problem/blob/main/fda-monty-hall-problem.ipynb#conclusionAnalysisBias) (&#8594; Plot (Category) &#8594; ``seaborn`` &#8594; ``catplot``) **[External Link]** <br/><br/>\n",
    "        * [Hypothesis](https://nbviewer.jupyter.org/github/SeanOhAileasa/fda-monty-hall-problem/blob/main/fda-monty-hall-problem.ipynb#verifyHypothesis) (&#8594; Plot (Category) &#8594; ``seaborn`` &#8594; ``catplot``) **[External Link]** <br/><br/>"
   ]
  },
  {
   "cell_type": "markdown",
   "id": "110cfafc",
   "metadata": {},
   "source": [
    "***\n",
    "### END"
   ]
  },
  {
   "cell_type": "markdown",
   "id": "b4544b5e",
   "metadata": {},
   "source": [
    "***\n",
    "## END"
   ]
  },
  {
   "cell_type": "markdown",
   "id": "663d52ad",
   "metadata": {},
   "source": [
    "< [Table of Contents](#top) | [Abstract](#abstract) | [Solution](#solution) | [Conclusion](#conclusion) | [References](#references) >\n",
    "<a id=\"introduction\"></a>\n",
    "***\n",
    "## Introduction\n",
    "***"
   ]
  },
  {
   "cell_type": "markdown",
   "id": "cd788593",
   "metadata": {},
   "source": [
    "&#x1F6A7;"
   ]
  },
  {
   "cell_type": "markdown",
   "id": "47af6cc1",
   "metadata": {},
   "source": [
    "< [Table of Contents](#top) | [References](#references) >\n",
    "<a id=\"fdaMLSModels\"></a>\n",
    "***\n",
    "### Models\n",
    "***"
   ]
  },
  {
   "cell_type": "markdown",
   "id": "3e2b2a7a",
   "metadata": {},
   "source": [
    "&#x1F6A7;"
   ]
  },
  {
   "cell_type": "markdown",
   "id": "b53ede1f",
   "metadata": {},
   "source": [
    "< [Table of Contents](#top) | [References](#references) >\n",
    "***"
   ]
  },
  {
   "cell_type": "markdown",
   "id": "c4da9138",
   "metadata": {},
   "source": [
    "* [Abstract](https://nbviewer.jupyter.org/github/SeanOhAileasa/fda-models/blob/main/fda-models.ipynb#abstract) **[External Link]** <br/><br/>\n",
    "* [Introduction](https://nbviewer.jupyter.org/github/SeanOhAileasa/fda-models/blob/main/fda-models.ipynb#introduction) **[External Link]** <br/><br/>\n",
    "    * [Analysis](https://nbviewer.jupyter.org/github/SeanOhAileasa/fda-models/blob/main/fda-models.ipynb#introductionAnalysis) **[External Link]** <br/><br/>\n",
    "        * [``seaborn``](https://nbviewer.jupyter.org/github/SeanOhAileasa/fda-models/blob/main/fda-models.ipynb#fdamodelsintroductionAnalysisseaborn) **[External Link]** <br/><br/>\n",
    "            * [``load_dataset``](https://nbviewer.jupyter.org/github/SeanOhAileasa/fda-models/blob/main/fda-models.ipynb#fdamodelsintroductionAnalysisseabornloaddataset) **[External Link]** <br/><br/>\n",
    "            * [``pairplot``](https://nbviewer.jupyter.org/github/SeanOhAileasa/fda-models/blob/main/fda-models.ipynb#fdamodelsintroductionAnalysisseabornpairplot) **[External Link]** <br/><br/>\n",
    "            * [``PairGrid``](https://nbviewer.jupyter.org/github/SeanOhAileasa/fda-models/blob/main/fda-models.ipynb#fdamodelsintroductionAnalysisseabornPairGridmapscatterplot)|``map``|``scatterplot`` **[External Link]** <br/><br/>\n",
    "        * [``pandas``](https://nbviewer.jupyter.org/github/SeanOhAileasa/fda-models/blob/main/fda-models.ipynb#fdamodelsintroductionAnalysispandasdropna)|``dropna`` **[External Link]** <br/><br/>\n",
    "        * [``seaborn``](https://nbviewer.jupyter.org/github/SeanOhAileasa/fda-models/blob/main/fda-models.ipynb#fdamodelsintroductionAnalysisseaborn2) &#x1F6A7; (&#8594; Analysis) **[External Link]** <br/><br/>\n",
    "            * [``regplot``](https://nbviewer.jupyter.org/github/SeanOhAileasa/fda-models/blob/main/fda-models.ipynb#fdamodelsintroductionAnalysisseaborn2regplot) **[External Link]** <br/><br/>\n",
    "* [Solution](https://nbviewer.jupyter.org/github/SeanOhAileasa/fda-models/blob/main/fda-models.ipynb#solution) (&#8594; Analysis &#8594; ``seaborn`` &#8594; ``regplot``) **[External Link]**  <br/><br/>\n",
    "    * [Train](https://nbviewer.jupyter.org/github/SeanOhAileasa/fda-models/blob/main/fda-models.ipynb#fdamodelsTrain) **[External Link]** <br/><br/>\n",
    "        * [``pandas``](https://nbviewer.jupyter.org/github/SeanOhAileasa/fda-models/blob/main/fda-models.ipynb#fdamodelsTrainDataFrametonumpy)|``to_numpy`` **[External Link]** <br/><br/>\n",
    "        * [``numpy``](https://nbviewer.jupyter.org/github/SeanOhAileasa/fda-models/blob/main/fda-models.ipynb#fdamodelsTrainDataFrametonumpyshapereshape)|``shape``|``reshape`` **[External Link]** <br/><br/>           \n",
    "        * [``sklearn``](https://nbviewer.jupyter.org/github/SeanOhAileasa/fda-models/blob/main/fda-models.ipynb#fdamodelsTrainsklearn) **[External Link]** <br/><br/>\n",
    "            * [``linear_model``](https://nbviewer.jupyter.org/github/SeanOhAileasa/fda-models/blob/main/fda-models.ipynb#fdamodelsTrainlinearmodel) **[External Link]** <br/><br/>\n",
    "                * [``LinearRegression``](https://nbviewer.jupyter.org/github/SeanOhAileasa/fda-models/blob/main/fda-models.ipynb#fdamodelsTrainlinearmodelLinearRegression) **[External Link]** <br/><br/>\n",
    "                    * [``fit``](https://nbviewer.jupyter.org/github/SeanOhAileasa/fda-models/blob/main/fda-models.ipynb#fdamodelsTrainlinearmodelLinearRegressionfit) **[External Link]** <br/><br/>\n",
    "                    * [``score``](https://nbviewer.jupyter.org/github/SeanOhAileasa/fda-models/blob/main/fda-models.ipynb#fdamodelsTrainlinearmodelLinearRegressionscore) **[External Link]** <br/><br/>\n",
    "                    * [``intercept_``](https://nbviewer.jupyter.org/github/SeanOhAileasa/fda-models/blob/main/fda-models.ipynb#fdamodelsTrainlinearmodelLinearRegressionAttributesintercept_) $(b)$ **[External Link]** <br/><br/>\n",
    "                    * [``coef_``](https://nbviewer.jupyter.org/github/SeanOhAileasa/fda-models/blob/main/fda-models.ipynb#fdamodelsTrainlinearmodelLinearRegressionAttributescoef_) $(m)$ **[External Link]** <br/><br/>\n",
    "        * [Coefficients](https://nbviewer.jupyter.org/github/SeanOhAileasa/fda-models/blob/main/fda-models.ipynb#fdamodelsTrainlinearmodelLinearRegressionCoefficients) $b$ $m$ **[External Link]** <br/><br/>\n",
    "* [Conclusion](https://nbviewer.jupyter.org/github/SeanOhAileasa/fda-models/blob/main/fda-models.ipynb#conclusion) **[External Link]** <br/><br/>\n",
    "    * [Predict](https://nbviewer.jupyter.org/github/SeanOhAileasa/fda-models/blob/main/fda-models.ipynb#fdamodelConclusionPredict) **[External Link]** <br/><br/>\n",
    "    * [Determinism](https://nbviewer.jupyter.org/github/SeanOhAileasa/fda-models/blob/main/fda-models.ipynb#fdamodelConclusionDeterminism) **[External Link]** <br/><br/>"
   ]
  },
  {
   "cell_type": "markdown",
   "id": "cca601aa",
   "metadata": {},
   "source": [
    "***\n",
    "### END"
   ]
  },
  {
   "cell_type": "markdown",
   "id": "d6a7398b",
   "metadata": {},
   "source": [
    "***\n",
    "## END"
   ]
  },
  {
   "cell_type": "markdown",
   "id": "8d9a024c",
   "metadata": {},
   "source": [
    "< [Table of Contents](#top) | [Abstract](#abstract) | [Introduction](#introduction) | [Conclusion](#conclusion) | [References](#references) >\n",
    "<a id=\"solution\"></a>\n",
    "***\n",
    "## Solution\n",
    "***"
   ]
  },
  {
   "cell_type": "markdown",
   "id": "a3f1e146",
   "metadata": {},
   "source": [
    "&#x1F6A7;"
   ]
  },
  {
   "cell_type": "markdown",
   "id": "61dce091",
   "metadata": {},
   "source": [
    "<!-- - refer [Appendix](#appendix-df) to view the full dataset <a id=\"go-back-df\"></a> -->\n",
    "<!-- print(fGetModuleType(___x___),fDocumentation(___x___)) -->\n",
    "***\n",
    "## END"
   ]
  },
  {
   "cell_type": "markdown",
   "id": "fa605ea3",
   "metadata": {},
   "source": [
    "< [Table of Contents](#top) | [Abstract](#abstract) | [Introduction](#introduction) | [Solution](#solution) | [References](#references) >\n",
    "<a id=\"conclusion\"></a>\n",
    "***\n",
    "## Conclusion\n",
    "***"
   ]
  },
  {
   "cell_type": "markdown",
   "id": "aa91ec59",
   "metadata": {},
   "source": [
    "&#x1F6A7;"
   ]
  },
  {
   "cell_type": "markdown",
   "id": "c1c68592",
   "metadata": {},
   "source": [
    "***\n",
    "## END"
   ]
  },
  {
   "cell_type": "markdown",
   "id": "2ad9c5df",
   "metadata": {},
   "source": [
    "< [Table of Contents](#top) | [Abstract](#abstract) | [Introduction](#introduction) | [Solution](#solution) | [Conclusion](#conclusion) | [References](#references) >\n",
    "<a id=\"references\"></a>\n",
    "***\n",
    "## References\n",
    "***\n",
    "&nbsp;&nbsp;&nbsp;&nbsp;&nbsp;&nbsp;&nbsp;&nbsp;&nbsp;[1] I. McLoughlin, \"Moodle (Fundamentals of Data Analysis,\" GMIT, (n.d.).\n",
    "\n",
    "&nbsp;&nbsp;&nbsp;&nbsp;&nbsp;&nbsp;&nbsp;&nbsp;&nbsp;[2] I. McLoughlin, \"The Counting Numbers,\" GMIT, September 2020.\n",
    "\n",
    "&nbsp;&nbsp;&nbsp;&nbsp;&nbsp;&nbsp;&nbsp;&nbsp;&nbsp;[3] Math Vault, \"Algebra Symbols,\" [mathvault.ca](http://web.archive.org/web/20210708084208/https://mathvault.ca/hub/higher-math/math-symbols/algebra-symbols/), March 2020.\n",
    "\n",
    "&nbsp;&nbsp;&nbsp;&nbsp;&nbsp;&nbsp;&nbsp;&nbsp;&nbsp;[4] I. McLoughlin, \"The Measuring Numbers,\" GMIT, September 2020.\n",
    "\n",
    "&nbsp;&nbsp;&nbsp;&nbsp;&nbsp;&nbsp;&nbsp;&nbsp;&nbsp;[5] I. McLoughlin, \"The Square root of 2,\" GMIT, September 2020.\n",
    "\n",
    "&nbsp;&nbsp;&nbsp;&nbsp;&nbsp;&nbsp;&nbsp;&nbsp;&nbsp;[6] MathIsFun, \"Irrational Numbers,\" [mathsisfun.com](http://web.archive.org/web/20210714041732/https://www.mathsisfun.com/irrational-numbers.html), September 2012.\n",
    "\n",
    "&nbsp;&nbsp;&nbsp;&nbsp;&nbsp;&nbsp;&nbsp;&nbsp;&nbsp;[7] I. McLoughlin, \"Functions versus data,\" GMIT, October 2020.\n",
    "\n",
    "&nbsp;&nbsp;&nbsp;&nbsp;&nbsp;&nbsp;&nbsp;&nbsp;&nbsp;[8] I. McLoughlin, \"Functions and models,\" GMIT, October 2020.\n",
    "\n",
    "&nbsp;&nbsp;&nbsp;&nbsp;&nbsp;&nbsp;&nbsp;&nbsp;&nbsp;[9] I. McLoughlin, \"pyplot and seaborn setup,\" GMIT, November 2020.\n",
    "\n",
    "&nbsp;&nbsp;&nbsp;&nbsp;&nbsp;&nbsp;&nbsp;[10] I. McLoughlin, \"Scatter plots,\" GMIT, November 2020."
   ]
  },
  {
   "cell_type": "markdown",
   "id": "9861f3b2",
   "metadata": {},
   "source": [
    "***\n",
    "## END"
   ]
  },
  {
   "cell_type": "markdown",
   "id": "e16feabf",
   "metadata": {},
   "source": [
    "< [Table of Contents](#top) | [Abstract](#abstract) | [Introduction](#introduction) | [Solution](#solution) | [Conclusion](#conclusion) | [References](#references) >\n",
    "<a id=\"appendix\"></a>\n",
    "***\n",
    "## Appendix\n",
    "***"
   ]
  },
  {
   "cell_type": "markdown",
   "id": "e101ce40",
   "metadata": {},
   "source": [
    "&#x1F6A7;"
   ]
  },
  {
   "cell_type": "markdown",
   "id": "2c27ad8d",
   "metadata": {},
   "source": [
    "<a id=\"appendix-some-reference\"></a>\n",
    "< [Go Back](#top) >"
   ]
  },
  {
   "cell_type": "markdown",
   "id": "246c58e1",
   "metadata": {},
   "source": [
    "###### Functions\n",
    "***"
   ]
  },
  {
   "cell_type": "markdown",
   "id": "e8d990ea",
   "metadata": {},
   "source": [
    "```python\n",
    "# %%writefile -a ../src/fubar.py\n",
    "# repository ./fubar-python\n",
    "def f():\n",
    "    \"\"\"\n",
    "\n",
    "Input:\n",
    "Process:\n",
    "Output:\n",
    "\"\"\"\n",
    "    pass\n",
    "# -- END ---\n",
    "```"
   ]
  },
  {
   "cell_type": "code",
   "execution_count": null,
   "id": "de68f0ef",
   "metadata": {},
   "outputs": [],
   "source": [
    "%%script bash\n",
    "grep -1 \"def f\" ../src/fubar.py -A 9"
   ]
  },
  {
   "cell_type": "markdown",
   "id": "24220f43",
   "metadata": {},
   "source": [
    "###### Images\n",
    "***"
   ]
  },
  {
   "cell_type": "markdown",
   "id": "2b1bb31b",
   "metadata": {},
   "source": [
    "![gumball](https://github.com/SeanOhAileasa/SeanOhAileasa/blob/master/rc/cta/analysing/gumball.png?raw=true)\n",
    "\n",
    "***(Image) P. Mannion, \"03 Analysing Algorithms Part 1,\" GMIT, October 2017.***"
   ]
  },
  {
   "cell_type": "markdown",
   "id": "9ff111d6",
   "metadata": {},
   "source": [
    "###### Tables\n",
    "***"
   ]
  },
  {
   "cell_type": "markdown",
   "id": "eb4a839a",
   "metadata": {},
   "source": [
    "|aaa|bbbbbb|ccccccccc|\n",
    "|:------------------------- | :------------------------- | :------------------------- |\n",
    "|aaa|bbbbbb|ccccccccc|"
   ]
  },
  {
   "cell_type": "markdown",
   "id": "0613ab89",
   "metadata": {},
   "source": [
    "***\n",
    "## END"
   ]
  },
  {
   "cell_type": "markdown",
   "id": "11c9e065",
   "metadata": {},
   "source": [
    "# END JUPYTER NOTEBOOK"
   ]
  }
 ],
 "metadata": {
  "kernelspec": {
   "display_name": "Python 3",
   "language": "python",
   "name": "python3"
  },
  "language_info": {
   "codemirror_mode": {
    "name": "ipython",
    "version": 3
   },
   "file_extension": ".py",
   "mimetype": "text/x-python",
   "name": "python",
   "nbconvert_exporter": "python",
   "pygments_lexer": "ipython3",
   "version": "3.8.8"
  }
 },
 "nbformat": 4,
 "nbformat_minor": 5
}
